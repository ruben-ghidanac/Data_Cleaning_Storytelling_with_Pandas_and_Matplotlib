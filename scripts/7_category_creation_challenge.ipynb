{
  "cells": [
    {
      "cell_type": "markdown",
      "metadata": {
        "id": "bbaehNmt73fv"
      },
      "source": [
        "# Searching for the category"
      ]
    },
    {
      "cell_type": "markdown",
      "metadata": {
        "id": "JZNKAkEMOa3w"
      },
      "source": [
        "For this code along we are only going to use the products DataFrame. However, if you believe there is information in other tables that can help to create categories, please feel free to explore."
      ]
    },
    {
      "cell_type": "code",
      "execution_count": null,
      "metadata": {
        "id": "ViZQTGKntHE9"
      },
      "outputs": [],
      "source": [
        "import pandas as pd"
      ]
    },
    {
      "cell_type": "code",
      "execution_count": null,
      "metadata": {
        "id": "7QfwQmvrrI1y"
      },
      "outputs": [],
      "source": [
        "# products_cl.csv\n",
        "url = \"https://drive.google.com/file/d/1s7Lai4NSlsYjGEPg1QSOUJobNYVsZBOJ/view?usp=sharing\" \n",
        "path = \"https://drive.google.com/uc?export=download&id=\"+url.split(\"/\")[-2]\n",
        "products_cl = pd.read_csv(path)"
      ]
    },
    {
      "cell_type": "code",
      "execution_count": null,
      "metadata": {
        "id": "V3YcuBBQlN0O"
      },
      "outputs": [],
      "source": [
        "product_category_df = products_cl.copy()"
      ]
    },
    {
      "cell_type": "code",
      "execution_count": null,
      "metadata": {
        "id": "eEychOC1tIzh"
      },
      "outputs": [],
      "source": [
        "product_category_df.head()"
      ]
    },
    {
      "cell_type": "markdown",
      "metadata": {
        "id": "ll6nfKeqtUSb"
      },
      "source": [
        "## 1.&nbsp; Category creation by search term\n",
        "Let's start by creating a column `category`. For now we'll fill this column with a blank string `\"\"`."
      ]
    },
    {
      "cell_type": "code",
      "execution_count": null,
      "metadata": {
        "id": "V0gB1AgftceZ"
      },
      "outputs": [],
      "source": [
        "product_category_df[\"category\"] = \"\"\n",
        "product_category_df.head()"
      ]
    },
    {
      "cell_type": "markdown",
      "metadata": {
        "id": "4V2cUNdoPK_4"
      },
      "source": [
        "We can find all the products with certain words in their `description` using `.loc[]` and `.str.contains()`. Here we'll look at all the items that have the word `keyboard` in their description."
      ]
    },
    {
      "cell_type": "code",
      "execution_count": null,
      "metadata": {
        "id": "o1VQXWPFBqPd"
      },
      "outputs": [],
      "source": [
        "product_category_df.loc[product_category_df[\"desc\"].str.lower().str.contains(\"keyboard\"), :]"
      ]
    },
    {
      "cell_type": "markdown",
      "metadata": {
        "id": "hdNa39muPhvh"
      },
      "source": [
        "Next, we change the value in the category column to `keyboard` for all of these keyboard products. "
      ]
    },
    {
      "cell_type": "code",
      "execution_count": null,
      "metadata": {
        "id": "WTbebBR63Khc"
      },
      "outputs": [],
      "source": [
        "product_category_df.loc[product_category_df[\"desc\"].str.lower().str.contains(\"keyboard\"), \"category\"] = \"keyboard\""
      ]
    },
    {
      "cell_type": "markdown",
      "metadata": {
        "id": "fcYoD6dbPzK9"
      },
      "source": [
        "Let's take a look at the effect that had on the `category` column."
      ]
    },
    {
      "cell_type": "code",
      "execution_count": null,
      "metadata": {
        "id": "YhHJzCs83Mgp"
      },
      "outputs": [],
      "source": [
        "product_category_df[\"category\"].value_counts()"
      ]
    },
    {
      "cell_type": "markdown",
      "metadata": {
        "id": "zKmy1xNjtcOr"
      },
      "source": [
        "## 2.&nbsp; Category creation using regex\n",
        "We can also use a product's `name` to select products for our categories."
      ]
    },
    {
      "cell_type": "code",
      "execution_count": null,
      "metadata": {
        "id": "MApPzEVM3N6g"
      },
      "outputs": [],
      "source": [
        "product_category_df.loc[product_category_df[\"name\"].str.lower().str.contains(\"apple iphone\"), :]"
      ]
    },
    {
      "cell_type": "markdown",
      "metadata": {
        "id": "aai7zoKNQSxX"
      },
      "source": [
        "Looks like we get a lot of accessories included in this search. We can refine this using a little regex. Here, we will add `.{0,7}` at the beginning of the search: this means we will find all `apple iphone`s that have 7 or less characters preceding the term \"apple iphone\" - if there's 8 characters preceding the search term, it won't be found. This should help refine our search by using the nomenclature of the DataFrame to our advantage.\n",
        "\n",
        "If you feel unsure about regex, please use [regex101](https://regex101.com/). It's really useful for checking your code, and parts of other people's code that you're unsure about."
      ]
    },
    {
      "cell_type": "code",
      "execution_count": null,
      "metadata": {
        "id": "mxVST68uCjp4"
      },
      "outputs": [],
      "source": [
        "product_category_df.loc[product_category_df[\"name\"].str.lower().str.contains(\"^.{0,7}apple iphone\"), :]"
      ]
    },
    {
      "cell_type": "markdown",
      "metadata": {
        "id": "CYyrvQ2qSLuZ"
      },
      "source": [
        "Now we can use the same trick as before to set the category - selecting the `category` column and setting it to the string of our choice."
      ]
    },
    {
      "cell_type": "code",
      "execution_count": null,
      "metadata": {
        "id": "yTCbUyK0BMb4"
      },
      "outputs": [],
      "source": [
        "product_category_df.loc[product_category_df[\"name\"].str.lower().str.contains(\"^.{0,7}apple iphone\"), \"category\"] = \"smartphone\""
      ]
    },
    {
      "cell_type": "code",
      "execution_count": null,
      "metadata": {
        "id": "3TTuCTuW3YeL"
      },
      "outputs": [],
      "source": [
        "product_category_df[\"category\"].value_counts()"
      ]
    },
    {
      "cell_type": "markdown",
      "metadata": {
        "id": "foWHV_NItf_Z"
      },
      "source": [
        "## 3.&nbsp; One product with multiple categories\n",
        "A product may fit into multiple categories. To help us create multiple categories for one product, we will use the python addition assignment `+=`. The addition assignment is a shorthand way to add something (number, string, etc...) to a variable without changing the variable name. \n",
        "\n",
        "Let's have a look at a couple of examples."
      ]
    },
    {
      "cell_type": "code",
      "execution_count": null,
      "metadata": {
        "id": "GDAclDOIourZ"
      },
      "outputs": [],
      "source": [
        "a = 10\n",
        "a = a + 5\n",
        "a"
      ]
    },
    {
      "cell_type": "code",
      "execution_count": null,
      "metadata": {
        "id": "hwZIQWTKpEBP"
      },
      "outputs": [],
      "source": [
        "a = 10\n",
        "a += 5\n",
        "a"
      ]
    },
    {
      "cell_type": "code",
      "execution_count": null,
      "metadata": {
        "id": "ftaB_cw8o_25"
      },
      "outputs": [],
      "source": [
        "b = \"Tyrannosaurus\"\n",
        "b = b + \" rex\"\n",
        "b"
      ]
    },
    {
      "cell_type": "code",
      "execution_count": null,
      "metadata": {
        "id": "5Tv19vbdpZLO"
      },
      "outputs": [],
      "source": [
        "b = \"Tyrannosaurus\"\n",
        "b += \" rex\"\n",
        "b"
      ]
    },
    {
      "cell_type": "markdown",
      "metadata": {
        "id": "V3q9xza6q3MZ"
      },
      "source": [
        "Now let's look at how this can help us in our category creation.\n",
        "\n",
        "First, we'll reset all the values in the category column to an empty string `\"\"`."
      ]
    },
    {
      "cell_type": "code",
      "execution_count": null,
      "metadata": {
        "id": "zYQeeC6E86T_"
      },
      "outputs": [],
      "source": [
        "product_category_df[\"category\"] = \"\""
      ]
    },
    {
      "cell_type": "markdown",
      "metadata": {
        "id": "LYGZ67rnrLU8"
      },
      "source": [
        "Now, let's create some categories and utilise the addition assignment."
      ]
    },
    {
      "cell_type": "code",
      "execution_count": null,
      "metadata": {
        "id": "ZOtQHJqsn3Qv"
      },
      "outputs": [],
      "source": [
        "product_category_df.loc[product_category_df[\"desc\"].str.lower().str.contains(\"keyboard\"), \"category\"] += \", keyboard\"\n",
        "product_category_df.loc[product_category_df[\"name\"].str.lower().str.contains(\"^.{0,7}apple iphone\"), \"category\"] += \", smartphone\"\n",
        "product_category_df.loc[product_category_df[\"name\"].str.lower().str.contains(\"^.{0,7}apple ipod\"), \"category\"] += \", ipod\"\n",
        "product_category_df.loc[product_category_df[\"name\"].str.lower().str.contains(\"^.{0,7}apple ipad|tablet\"), \"category\"] += \", tablet\"\n",
        "product_category_df.loc[product_category_df[\"name\"].str.lower().str.contains(\"imac|mac mini|mac pro\"), \"category\"] += \", desktop\""
      ]
    },
    {
      "cell_type": "code",
      "execution_count": null,
      "metadata": {
        "id": "EAS_yezTn4m_"
      },
      "outputs": [],
      "source": [
        "product_category_df[\"category\"].value_counts()"
      ]
    },
    {
      "cell_type": "markdown",
      "metadata": {
        "id": "tZktZ5udrTQn"
      },
      "source": [
        "As you can see, some products now have 2 categories instead of just one. At the end, you can use your skills with string to tidy up the opening comma and space in the `category` column."
      ]
    },
    {
      "cell_type": "markdown",
      "metadata": {
        "id": "0c7iUc3J87_b"
      },
      "source": [
        "# Challenge. Your categories\n",
        "Now it's your turn. We'll reset the Dataframe so that no categories exist, and it's up to you to create the categories based on keywords in the name and description. Feel free to go wild and make as many categories as you like.\n",
        "* Remember you can also use regex to refine your searches.\n",
        "* Remember you can use the or operator `|` to search for multiple terms at once.\n",
        "* Remember to tidy up any untidy strings at the end."
      ]
    },
    {
      "cell_type": "code",
      "execution_count": null,
      "metadata": {
        "id": "LPcqdik6sEwA"
      },
      "outputs": [],
      "source": [
        "# your code here"
      ]
    },
    {
      "cell_type": "markdown",
      "metadata": {
        "id": "RZmoYd6-tsvG"
      },
      "source": [
        "## 4.&nbsp; [BONUS] Using `type` to create categories\n",
        "There could be another way to create categories, but this one you'll have to explore this one alone.\n",
        "\n",
        "We have the mysterious column `type` in the `products` table. This could potentially be ready-made categories labelled with numbers instead of words. Let's investigate."
      ]
    },
    {
      "cell_type": "code",
      "execution_count": null,
      "metadata": {
        "id": "K5HJA7_M2nzw"
      },
      "outputs": [],
      "source": [
        "category_type_df = products_cl.copy()"
      ]
    },
    {
      "cell_type": "markdown",
      "metadata": {
        "id": "rqjhiJiE3Xbm"
      },
      "source": [
        "Here are the `type`s that have the most products."
      ]
    },
    {
      "cell_type": "code",
      "execution_count": null,
      "metadata": {
        "id": "OwzkbYnvNDnu"
      },
      "outputs": [],
      "source": [
        "category_type_df.groupby(\"type\").count().nlargest(10, \"sku\")"
      ]
    },
    {
      "cell_type": "markdown",
      "metadata": {
        "id": "gxkXWt9K3lAl"
      },
      "source": [
        "Let's have a look at the first `type` to see if we can make categories from this column."
      ]
    },
    {
      "cell_type": "code",
      "execution_count": null,
      "metadata": {
        "id": "qDcnQEXo3_2Q"
      },
      "outputs": [],
      "source": [
        "category_type_df.loc[category_type_df[\"type\"] == \"11865403\", :].sample(10)"
      ]
    },
    {
      "cell_type": "markdown",
      "metadata": {
        "id": "8f4D6vx04EF-"
      },
      "source": [
        "Looks like this is a category of phone cases.\n",
        "\n",
        "Let's have a look at the 2nd largest type to see if that's also a clear category."
      ]
    },
    {
      "cell_type": "code",
      "execution_count": null,
      "metadata": {
        "id": "iiP45DQQ4YHC"
      },
      "outputs": [],
      "source": [
        "category_type_df.loc[category_type_df[\"type\"] == \"12175397\", :].sample(10)"
      ]
    },
    {
      "cell_type": "markdown",
      "metadata": {
        "id": "rQq4i68T4i4Z"
      },
      "source": [
        "Looks like this category is full of servers.\n",
        "\n",
        "I wonder how many `type`s account for most of our products?"
      ]
    },
    {
      "cell_type": "code",
      "execution_count": null,
      "metadata": {
        "id": "nvC72XNi5VUz"
      },
      "outputs": [],
      "source": [
        "n = 30\n",
        "print(f\"With the {n} largest types, we account for {((category_type_df.groupby('type').count().nlargest(n, 'sku')['sku'].sum()) / (category_type_df.shape[0]) * 100).round(2)}% of all products.\")"
      ]
    },
    {
      "cell_type": "markdown",
      "metadata": {
        "id": "40a0ksM46UCi"
      },
      "source": [
        "Looks like we can simply investigate 30 types and set the categories, then the remaining 20% of products can have the category `other`.\n",
        "\n",
        "Use the skills you learnt above to change the category for each type."
      ]
    },
    {
      "cell_type": "code",
      "execution_count": null,
      "metadata": {
        "id": "oVfMxn3y62sE"
      },
      "outputs": [],
      "source": []
    }
  ],
  "metadata": {
    "colab": {
      "provenance": []
    },
    "kernelspec": {
      "display_name": "Python 3",
      "name": "python3"
    },
    "language_info": {
      "name": "python"
    }
  },
  "nbformat": 4,
  "nbformat_minor": 0
}
