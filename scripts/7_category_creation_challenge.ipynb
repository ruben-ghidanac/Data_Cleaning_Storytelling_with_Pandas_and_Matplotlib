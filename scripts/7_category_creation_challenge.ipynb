{
  "cells": [
    {
      "cell_type": "markdown",
      "metadata": {
        "id": "bbaehNmt73fv"
      },
      "source": [
        "# Searching for the category"
      ]
    },
    {
      "cell_type": "markdown",
      "metadata": {
        "id": "JZNKAkEMOa3w"
      },
      "source": [
        "For this code along we are only going to use the products DataFrame. However, if you believe there is information in other tables that can help to create categories, please feel free to explore."
      ]
    },
    {
      "cell_type": "code",
      "execution_count": 1,
      "metadata": {
        "id": "ViZQTGKntHE9"
      },
      "outputs": [],
      "source": [
        "import pandas as pd"
      ]
    },
    {
      "cell_type": "code",
      "execution_count": 2,
      "metadata": {
        "id": "7QfwQmvrrI1y"
      },
      "outputs": [],
      "source": [
        "# products_cl.csv\n",
        "url = \"https://drive.google.com/file/d/1s7Lai4NSlsYjGEPg1QSOUJobNYVsZBOJ/view?usp=sharing\" \n",
        "path = \"https://drive.google.com/uc?export=download&id=\"+url.split(\"/\")[-2]\n",
        "products_cl = pd.read_csv(path)"
      ]
    },
    {
      "cell_type": "code",
      "execution_count": 3,
      "metadata": {
        "id": "V3YcuBBQlN0O"
      },
      "outputs": [],
      "source": [
        "product_category_df = products_cl.copy()"
      ]
    },
    {
      "cell_type": "code",
      "execution_count": 4,
      "metadata": {
        "id": "eEychOC1tIzh"
      },
      "outputs": [
        {
          "data": {
            "text/html": [
              "<div>\n",
              "<style scoped>\n",
              "    .dataframe tbody tr th:only-of-type {\n",
              "        vertical-align: middle;\n",
              "    }\n",
              "\n",
              "    .dataframe tbody tr th {\n",
              "        vertical-align: top;\n",
              "    }\n",
              "\n",
              "    .dataframe thead th {\n",
              "        text-align: right;\n",
              "    }\n",
              "</style>\n",
              "<table border=\"1\" class=\"dataframe\">\n",
              "  <thead>\n",
              "    <tr style=\"text-align: right;\">\n",
              "      <th></th>\n",
              "      <th>sku</th>\n",
              "      <th>name</th>\n",
              "      <th>desc</th>\n",
              "      <th>price</th>\n",
              "      <th>in_stock</th>\n",
              "      <th>type</th>\n",
              "    </tr>\n",
              "  </thead>\n",
              "  <tbody>\n",
              "    <tr>\n",
              "      <th>0</th>\n",
              "      <td>RAI0007</td>\n",
              "      <td>Silver Rain Design mStand Support</td>\n",
              "      <td>Aluminum support compatible with all MacBook</td>\n",
              "      <td>59.99</td>\n",
              "      <td>1</td>\n",
              "      <td>8696</td>\n",
              "    </tr>\n",
              "    <tr>\n",
              "      <th>1</th>\n",
              "      <td>APP0023</td>\n",
              "      <td>Apple Mac Keyboard Keypad Spanish</td>\n",
              "      <td>USB ultrathin keyboard Apple Mac Spanish.</td>\n",
              "      <td>59.00</td>\n",
              "      <td>0</td>\n",
              "      <td>13855401</td>\n",
              "    </tr>\n",
              "    <tr>\n",
              "      <th>2</th>\n",
              "      <td>APP0025</td>\n",
              "      <td>Mighty Mouse Apple Mouse for Mac</td>\n",
              "      <td>mouse Apple USB cable.</td>\n",
              "      <td>59.00</td>\n",
              "      <td>0</td>\n",
              "      <td>1387</td>\n",
              "    </tr>\n",
              "    <tr>\n",
              "      <th>3</th>\n",
              "      <td>APP0072</td>\n",
              "      <td>Apple Dock to USB Cable iPhone and iPod white</td>\n",
              "      <td>IPhone dock and USB Cable Apple iPod.</td>\n",
              "      <td>25.00</td>\n",
              "      <td>0</td>\n",
              "      <td>1230</td>\n",
              "    </tr>\n",
              "    <tr>\n",
              "      <th>4</th>\n",
              "      <td>KIN0007</td>\n",
              "      <td>Mac Memory Kingston 2GB 667MHz DDR2 SO-DIMM</td>\n",
              "      <td>2GB RAM Mac mini and iMac (2006/07) MacBook Pr...</td>\n",
              "      <td>34.99</td>\n",
              "      <td>1</td>\n",
              "      <td>1364</td>\n",
              "    </tr>\n",
              "  </tbody>\n",
              "</table>\n",
              "</div>"
            ],
            "text/plain": [
              "       sku                                           name  \\\n",
              "0  RAI0007              Silver Rain Design mStand Support   \n",
              "1  APP0023              Apple Mac Keyboard Keypad Spanish   \n",
              "2  APP0025               Mighty Mouse Apple Mouse for Mac   \n",
              "3  APP0072  Apple Dock to USB Cable iPhone and iPod white   \n",
              "4  KIN0007    Mac Memory Kingston 2GB 667MHz DDR2 SO-DIMM   \n",
              "\n",
              "                                                desc  price  in_stock  \\\n",
              "0       Aluminum support compatible with all MacBook  59.99         1   \n",
              "1          USB ultrathin keyboard Apple Mac Spanish.  59.00         0   \n",
              "2                             mouse Apple USB cable.  59.00         0   \n",
              "3              IPhone dock and USB Cable Apple iPod.  25.00         0   \n",
              "4  2GB RAM Mac mini and iMac (2006/07) MacBook Pr...  34.99         1   \n",
              "\n",
              "       type  \n",
              "0      8696  \n",
              "1  13855401  \n",
              "2      1387  \n",
              "3      1230  \n",
              "4      1364  "
            ]
          },
          "execution_count": 4,
          "metadata": {},
          "output_type": "execute_result"
        }
      ],
      "source": [
        "product_category_df.head()"
      ]
    },
    {
      "cell_type": "markdown",
      "metadata": {
        "id": "ll6nfKeqtUSb"
      },
      "source": [
        "## 1.&nbsp; Category creation by search term\n",
        "Let's start by creating a column `category`. For now we'll fill this column with a blank string `\"\"`."
      ]
    },
    {
      "cell_type": "code",
      "execution_count": 5,
      "metadata": {
        "id": "V0gB1AgftceZ"
      },
      "outputs": [
        {
          "data": {
            "text/html": [
              "<div>\n",
              "<style scoped>\n",
              "    .dataframe tbody tr th:only-of-type {\n",
              "        vertical-align: middle;\n",
              "    }\n",
              "\n",
              "    .dataframe tbody tr th {\n",
              "        vertical-align: top;\n",
              "    }\n",
              "\n",
              "    .dataframe thead th {\n",
              "        text-align: right;\n",
              "    }\n",
              "</style>\n",
              "<table border=\"1\" class=\"dataframe\">\n",
              "  <thead>\n",
              "    <tr style=\"text-align: right;\">\n",
              "      <th></th>\n",
              "      <th>sku</th>\n",
              "      <th>name</th>\n",
              "      <th>desc</th>\n",
              "      <th>price</th>\n",
              "      <th>in_stock</th>\n",
              "      <th>type</th>\n",
              "      <th>category</th>\n",
              "    </tr>\n",
              "  </thead>\n",
              "  <tbody>\n",
              "    <tr>\n",
              "      <th>0</th>\n",
              "      <td>RAI0007</td>\n",
              "      <td>Silver Rain Design mStand Support</td>\n",
              "      <td>Aluminum support compatible with all MacBook</td>\n",
              "      <td>59.99</td>\n",
              "      <td>1</td>\n",
              "      <td>8696</td>\n",
              "      <td></td>\n",
              "    </tr>\n",
              "    <tr>\n",
              "      <th>1</th>\n",
              "      <td>APP0023</td>\n",
              "      <td>Apple Mac Keyboard Keypad Spanish</td>\n",
              "      <td>USB ultrathin keyboard Apple Mac Spanish.</td>\n",
              "      <td>59.00</td>\n",
              "      <td>0</td>\n",
              "      <td>13855401</td>\n",
              "      <td></td>\n",
              "    </tr>\n",
              "    <tr>\n",
              "      <th>2</th>\n",
              "      <td>APP0025</td>\n",
              "      <td>Mighty Mouse Apple Mouse for Mac</td>\n",
              "      <td>mouse Apple USB cable.</td>\n",
              "      <td>59.00</td>\n",
              "      <td>0</td>\n",
              "      <td>1387</td>\n",
              "      <td></td>\n",
              "    </tr>\n",
              "    <tr>\n",
              "      <th>3</th>\n",
              "      <td>APP0072</td>\n",
              "      <td>Apple Dock to USB Cable iPhone and iPod white</td>\n",
              "      <td>IPhone dock and USB Cable Apple iPod.</td>\n",
              "      <td>25.00</td>\n",
              "      <td>0</td>\n",
              "      <td>1230</td>\n",
              "      <td></td>\n",
              "    </tr>\n",
              "    <tr>\n",
              "      <th>4</th>\n",
              "      <td>KIN0007</td>\n",
              "      <td>Mac Memory Kingston 2GB 667MHz DDR2 SO-DIMM</td>\n",
              "      <td>2GB RAM Mac mini and iMac (2006/07) MacBook Pr...</td>\n",
              "      <td>34.99</td>\n",
              "      <td>1</td>\n",
              "      <td>1364</td>\n",
              "      <td></td>\n",
              "    </tr>\n",
              "  </tbody>\n",
              "</table>\n",
              "</div>"
            ],
            "text/plain": [
              "       sku                                           name  \\\n",
              "0  RAI0007              Silver Rain Design mStand Support   \n",
              "1  APP0023              Apple Mac Keyboard Keypad Spanish   \n",
              "2  APP0025               Mighty Mouse Apple Mouse for Mac   \n",
              "3  APP0072  Apple Dock to USB Cable iPhone and iPod white   \n",
              "4  KIN0007    Mac Memory Kingston 2GB 667MHz DDR2 SO-DIMM   \n",
              "\n",
              "                                                desc  price  in_stock  \\\n",
              "0       Aluminum support compatible with all MacBook  59.99         1   \n",
              "1          USB ultrathin keyboard Apple Mac Spanish.  59.00         0   \n",
              "2                             mouse Apple USB cable.  59.00         0   \n",
              "3              IPhone dock and USB Cable Apple iPod.  25.00         0   \n",
              "4  2GB RAM Mac mini and iMac (2006/07) MacBook Pr...  34.99         1   \n",
              "\n",
              "       type category  \n",
              "0      8696           \n",
              "1  13855401           \n",
              "2      1387           \n",
              "3      1230           \n",
              "4      1364           "
            ]
          },
          "execution_count": 5,
          "metadata": {},
          "output_type": "execute_result"
        }
      ],
      "source": [
        "product_category_df[\"category\"] = \"\"\n",
        "product_category_df.head()"
      ]
    },
    {
      "cell_type": "markdown",
      "metadata": {
        "id": "4V2cUNdoPK_4"
      },
      "source": [
        "We can find all the products with certain words in their `description` using `.loc[]` and `.str.contains()`. Here we'll look at all the items that have the word `keyboard` in their description."
      ]
    },
    {
      "cell_type": "code",
      "execution_count": 6,
      "metadata": {
        "id": "o1VQXWPFBqPd"
      },
      "outputs": [
        {
          "data": {
            "text/html": [
              "<div>\n",
              "<style scoped>\n",
              "    .dataframe tbody tr th:only-of-type {\n",
              "        vertical-align: middle;\n",
              "    }\n",
              "\n",
              "    .dataframe tbody tr th {\n",
              "        vertical-align: top;\n",
              "    }\n",
              "\n",
              "    .dataframe thead th {\n",
              "        text-align: right;\n",
              "    }\n",
              "</style>\n",
              "<table border=\"1\" class=\"dataframe\">\n",
              "  <thead>\n",
              "    <tr style=\"text-align: right;\">\n",
              "      <th></th>\n",
              "      <th>sku</th>\n",
              "      <th>name</th>\n",
              "      <th>desc</th>\n",
              "      <th>price</th>\n",
              "      <th>in_stock</th>\n",
              "      <th>type</th>\n",
              "      <th>category</th>\n",
              "    </tr>\n",
              "  </thead>\n",
              "  <tbody>\n",
              "    <tr>\n",
              "      <th>1</th>\n",
              "      <td>APP0023</td>\n",
              "      <td>Apple Mac Keyboard Keypad Spanish</td>\n",
              "      <td>USB ultrathin keyboard Apple Mac Spanish.</td>\n",
              "      <td>59.00</td>\n",
              "      <td>0</td>\n",
              "      <td>13855401</td>\n",
              "      <td></td>\n",
              "    </tr>\n",
              "    <tr>\n",
              "      <th>15</th>\n",
              "      <td>MOS0021</td>\n",
              "      <td>Clearguard Moshi MacBook Pro and Air</td>\n",
              "      <td>Keyboard Protector MacBook Pro 13-inch Retina ...</td>\n",
              "      <td>24.95</td>\n",
              "      <td>0</td>\n",
              "      <td>13835403</td>\n",
              "      <td></td>\n",
              "    </tr>\n",
              "    <tr>\n",
              "      <th>24</th>\n",
              "      <td>APP0277</td>\n",
              "      <td>Apple Wireless Keyboard Keyboard (OEM) Mac</td>\n",
              "      <td>Ultrathin keyboard Apple Bluetooth Spanish (un...</td>\n",
              "      <td>79.00</td>\n",
              "      <td>0</td>\n",
              "      <td>13855401</td>\n",
              "      <td></td>\n",
              "    </tr>\n",
              "    <tr>\n",
              "      <th>64</th>\n",
              "      <td>HGD0012</td>\n",
              "      <td>Henge Docks Click keyboard support iMac</td>\n",
              "      <td>Base to hold the Apple Magic TrackPad and Wire...</td>\n",
              "      <td>29.00</td>\n",
              "      <td>0</td>\n",
              "      <td>8696</td>\n",
              "      <td></td>\n",
              "    </tr>\n",
              "    <tr>\n",
              "      <th>365</th>\n",
              "      <td>LOG0084</td>\n",
              "      <td>Logitech Ultrathin Keyboard Cover Keyboard Cov...</td>\n",
              "      <td>Ultrathin cover and cover with Bluetooth keybo...</td>\n",
              "      <td>89.99</td>\n",
              "      <td>0</td>\n",
              "      <td>12575403</td>\n",
              "      <td></td>\n",
              "    </tr>\n",
              "    <tr>\n",
              "      <th>...</th>\n",
              "      <td>...</td>\n",
              "      <td>...</td>\n",
              "      <td>...</td>\n",
              "      <td>...</td>\n",
              "      <td>...</td>\n",
              "      <td>...</td>\n",
              "      <td>...</td>\n",
              "    </tr>\n",
              "    <tr>\n",
              "      <th>9720</th>\n",
              "      <td>PAC2508</td>\n",
              "      <td>Replacement Magic Wireless Keyboard by Matias ...</td>\n",
              "      <td>Keyboard replacement service at the time of pu...</td>\n",
              "      <td>119.99</td>\n",
              "      <td>1</td>\n",
              "      <td>13855401</td>\n",
              "      <td></td>\n",
              "    </tr>\n",
              "    <tr>\n",
              "      <th>9751</th>\n",
              "      <td>MTF0008</td>\n",
              "      <td>Mistify Clean Screens Natural 500ml.</td>\n",
              "      <td>Spray cleaning screens and keyboards.</td>\n",
              "      <td>14.99</td>\n",
              "      <td>1</td>\n",
              "      <td>12085400</td>\n",
              "      <td></td>\n",
              "    </tr>\n",
              "    <tr>\n",
              "      <th>9796</th>\n",
              "      <td>ZAG0026-A</td>\n",
              "      <td>Open - Zagg Rugged Keyboard Folio iPad Messeng...</td>\n",
              "      <td>Case reconditioned keyboard and adjustable pos...</td>\n",
              "      <td>99.99</td>\n",
              "      <td>0</td>\n",
              "      <td>12575403</td>\n",
              "      <td></td>\n",
              "    </tr>\n",
              "    <tr>\n",
              "      <th>9932</th>\n",
              "      <td>APP1472</td>\n",
              "      <td>Apple Magic Keyboard English International</td>\n",
              "      <td>English keyboard Mac and Apple iPad Ultrathin ...</td>\n",
              "      <td>119.00</td>\n",
              "      <td>1</td>\n",
              "      <td>13855401</td>\n",
              "      <td></td>\n",
              "    </tr>\n",
              "    <tr>\n",
              "      <th>9945</th>\n",
              "      <td>TWS0106-A</td>\n",
              "      <td>Open - Twelve South Bridge Magic Keyboard for ...</td>\n",
              "      <td>Light reconditioned support to hold the Keyboa...</td>\n",
              "      <td>48.00</td>\n",
              "      <td>0</td>\n",
              "      <td>8696</td>\n",
              "      <td></td>\n",
              "    </tr>\n",
              "  </tbody>\n",
              "</table>\n",
              "<p>89 rows × 7 columns</p>\n",
              "</div>"
            ],
            "text/plain": [
              "            sku                                               name  \\\n",
              "1       APP0023                  Apple Mac Keyboard Keypad Spanish   \n",
              "15      MOS0021               Clearguard Moshi MacBook Pro and Air   \n",
              "24      APP0277         Apple Wireless Keyboard Keyboard (OEM) Mac   \n",
              "64      HGD0012            Henge Docks Click keyboard support iMac   \n",
              "365     LOG0084  Logitech Ultrathin Keyboard Cover Keyboard Cov...   \n",
              "...         ...                                                ...   \n",
              "9720    PAC2508  Replacement Magic Wireless Keyboard by Matias ...   \n",
              "9751    MTF0008               Mistify Clean Screens Natural 500ml.   \n",
              "9796  ZAG0026-A  Open - Zagg Rugged Keyboard Folio iPad Messeng...   \n",
              "9932    APP1472         Apple Magic Keyboard English International   \n",
              "9945  TWS0106-A  Open - Twelve South Bridge Magic Keyboard for ...   \n",
              "\n",
              "                                                   desc   price  in_stock  \\\n",
              "1             USB ultrathin keyboard Apple Mac Spanish.   59.00         0   \n",
              "15    Keyboard Protector MacBook Pro 13-inch Retina ...   24.95         0   \n",
              "24    Ultrathin keyboard Apple Bluetooth Spanish (un...   79.00         0   \n",
              "64    Base to hold the Apple Magic TrackPad and Wire...   29.00         0   \n",
              "365   Ultrathin cover and cover with Bluetooth keybo...   89.99         0   \n",
              "...                                                 ...     ...       ...   \n",
              "9720  Keyboard replacement service at the time of pu...  119.99         1   \n",
              "9751              Spray cleaning screens and keyboards.   14.99         1   \n",
              "9796  Case reconditioned keyboard and adjustable pos...   99.99         0   \n",
              "9932  English keyboard Mac and Apple iPad Ultrathin ...  119.00         1   \n",
              "9945  Light reconditioned support to hold the Keyboa...   48.00         0   \n",
              "\n",
              "          type category  \n",
              "1     13855401           \n",
              "15    13835403           \n",
              "24    13855401           \n",
              "64        8696           \n",
              "365   12575403           \n",
              "...        ...      ...  \n",
              "9720  13855401           \n",
              "9751  12085400           \n",
              "9796  12575403           \n",
              "9932  13855401           \n",
              "9945      8696           \n",
              "\n",
              "[89 rows x 7 columns]"
            ]
          },
          "execution_count": 6,
          "metadata": {},
          "output_type": "execute_result"
        }
      ],
      "source": [
        "product_category_df.loc[product_category_df[\"desc\"].str.lower().str.contains(\"keyboard\"), :]"
      ]
    },
    {
      "cell_type": "markdown",
      "metadata": {
        "id": "hdNa39muPhvh"
      },
      "source": [
        "Next, we change the value in the category column to `keyboard` for all of these keyboard products. "
      ]
    },
    {
      "cell_type": "code",
      "execution_count": 7,
      "metadata": {
        "id": "WTbebBR63Khc"
      },
      "outputs": [],
      "source": [
        "product_category_df.loc[product_category_df[\"desc\"].str.lower().str.contains(\"keyboard\"), \"category\"] = \"keyboard\""
      ]
    },
    {
      "cell_type": "markdown",
      "metadata": {
        "id": "fcYoD6dbPzK9"
      },
      "source": [
        "Let's take a look at the effect that had on the `category` column."
      ]
    },
    {
      "cell_type": "code",
      "execution_count": 8,
      "metadata": {
        "id": "YhHJzCs83Mgp"
      },
      "outputs": [
        {
          "data": {
            "text/plain": [
              "            9903\n",
              "keyboard      89\n",
              "Name: category, dtype: int64"
            ]
          },
          "execution_count": 8,
          "metadata": {},
          "output_type": "execute_result"
        }
      ],
      "source": [
        "product_category_df[\"category\"].value_counts()"
      ]
    },
    {
      "cell_type": "markdown",
      "metadata": {
        "id": "zKmy1xNjtcOr"
      },
      "source": [
        "## 2.&nbsp; Category creation using regex\n",
        "We can also use a product's `name` to select products for our categories."
      ]
    },
    {
      "cell_type": "code",
      "execution_count": 9,
      "metadata": {
        "id": "MApPzEVM3N6g"
      },
      "outputs": [
        {
          "data": {
            "text/html": [
              "<div>\n",
              "<style scoped>\n",
              "    .dataframe tbody tr th:only-of-type {\n",
              "        vertical-align: middle;\n",
              "    }\n",
              "\n",
              "    .dataframe tbody tr th {\n",
              "        vertical-align: top;\n",
              "    }\n",
              "\n",
              "    .dataframe thead th {\n",
              "        text-align: right;\n",
              "    }\n",
              "</style>\n",
              "<table border=\"1\" class=\"dataframe\">\n",
              "  <thead>\n",
              "    <tr style=\"text-align: right;\">\n",
              "      <th></th>\n",
              "      <th>sku</th>\n",
              "      <th>name</th>\n",
              "      <th>desc</th>\n",
              "      <th>price</th>\n",
              "      <th>in_stock</th>\n",
              "      <th>type</th>\n",
              "      <th>category</th>\n",
              "    </tr>\n",
              "  </thead>\n",
              "  <tbody>\n",
              "    <tr>\n",
              "      <th>35</th>\n",
              "      <td>APP0308</td>\n",
              "      <td>AV Cable Adapter Apple iPhone iPad and iPod white</td>\n",
              "      <td>IPhone iPad iPod adapter and AV cable.</td>\n",
              "      <td>45.00</td>\n",
              "      <td>0</td>\n",
              "      <td>1230</td>\n",
              "      <td></td>\n",
              "    </tr>\n",
              "    <tr>\n",
              "      <th>214</th>\n",
              "      <td>REP0100</td>\n",
              "      <td>Color change to White Apple iPhone 4</td>\n",
              "      <td>It is including parts and labor..</td>\n",
              "      <td>94.21</td>\n",
              "      <td>0</td>\n",
              "      <td>1,44E+11</td>\n",
              "      <td></td>\n",
              "    </tr>\n",
              "    <tr>\n",
              "      <th>215</th>\n",
              "      <td>REP0052</td>\n",
              "      <td>Color change to White Apple iPhone 4</td>\n",
              "      <td>It is including parts and labor..</td>\n",
              "      <td>94.21</td>\n",
              "      <td>0</td>\n",
              "      <td>1,44E+11</td>\n",
              "      <td></td>\n",
              "    </tr>\n",
              "    <tr>\n",
              "      <th>579</th>\n",
              "      <td>APP0675</td>\n",
              "      <td>Apple iPhone 5S 32GB Space Gray</td>\n",
              "      <td>New Free iPhone 5S 32GB (ME435Y / A).</td>\n",
              "      <td>559.00</td>\n",
              "      <td>0</td>\n",
              "      <td>NaN</td>\n",
              "      <td></td>\n",
              "    </tr>\n",
              "    <tr>\n",
              "      <th>956</th>\n",
              "      <td>APP0823</td>\n",
              "      <td>Apple iPhone 6 16GB Silver</td>\n",
              "      <td>New iPhone 6 16GB Free (MG482QL / A).</td>\n",
              "      <td>639.00</td>\n",
              "      <td>0</td>\n",
              "      <td>NaN</td>\n",
              "      <td></td>\n",
              "    </tr>\n",
              "    <tr>\n",
              "      <th>...</th>\n",
              "      <td>...</td>\n",
              "      <td>...</td>\n",
              "      <td>...</td>\n",
              "      <td>...</td>\n",
              "      <td>...</td>\n",
              "      <td>...</td>\n",
              "      <td>...</td>\n",
              "    </tr>\n",
              "    <tr>\n",
              "      <th>9790</th>\n",
              "      <td>AP20455</td>\n",
              "      <td>Like new - Apple iPhone 8 256GB Gold</td>\n",
              "      <td>Apple iPhone 8 reconditioned 256GB in Gold rea...</td>\n",
              "      <td>979.00</td>\n",
              "      <td>0</td>\n",
              "      <td>113291716</td>\n",
              "      <td></td>\n",
              "    </tr>\n",
              "    <tr>\n",
              "      <th>9794</th>\n",
              "      <td>APP2482-A</td>\n",
              "      <td>Open - Apple iPhone 8 Plus 256GB Gold</td>\n",
              "      <td>Refurbished Apple iPhone 8 Plus 256GB Free Gold</td>\n",
              "      <td>1089.00</td>\n",
              "      <td>0</td>\n",
              "      <td>113281716</td>\n",
              "      <td></td>\n",
              "    </tr>\n",
              "    <tr>\n",
              "      <th>9929</th>\n",
              "      <td>APP2477-A</td>\n",
              "      <td>Open - Apple iPhone 8 Plus 64GB Space Gray</td>\n",
              "      <td>Apple iPhone 8 Plus 64GB Space Gray</td>\n",
              "      <td>919.00</td>\n",
              "      <td>0</td>\n",
              "      <td>113281716</td>\n",
              "      <td></td>\n",
              "    </tr>\n",
              "    <tr>\n",
              "      <th>9958</th>\n",
              "      <td>AP20467</td>\n",
              "      <td>Like new - Apple iPhone Silicone Case Cover 7 ...</td>\n",
              "      <td>Reconditioned silicone sleeve microfiber Apple...</td>\n",
              "      <td>45.00</td>\n",
              "      <td>0</td>\n",
              "      <td>11865403</td>\n",
              "      <td></td>\n",
              "    </tr>\n",
              "    <tr>\n",
              "      <th>9969</th>\n",
              "      <td>AP20468</td>\n",
              "      <td>Like new - Apple iPhone Black Lightning Dock</td>\n",
              "      <td>Support base and refitted with dock connector ...</td>\n",
              "      <td>59.00</td>\n",
              "      <td>0</td>\n",
              "      <td>13615399</td>\n",
              "      <td></td>\n",
              "    </tr>\n",
              "  </tbody>\n",
              "</table>\n",
              "<p>424 rows × 7 columns</p>\n",
              "</div>"
            ],
            "text/plain": [
              "            sku                                               name  \\\n",
              "35      APP0308  AV Cable Adapter Apple iPhone iPad and iPod white   \n",
              "214     REP0100               Color change to White Apple iPhone 4   \n",
              "215     REP0052               Color change to White Apple iPhone 4   \n",
              "579     APP0675                    Apple iPhone 5S 32GB Space Gray   \n",
              "956     APP0823                         Apple iPhone 6 16GB Silver   \n",
              "...         ...                                                ...   \n",
              "9790    AP20455               Like new - Apple iPhone 8 256GB Gold   \n",
              "9794  APP2482-A              Open - Apple iPhone 8 Plus 256GB Gold   \n",
              "9929  APP2477-A         Open - Apple iPhone 8 Plus 64GB Space Gray   \n",
              "9958    AP20467  Like new - Apple iPhone Silicone Case Cover 7 ...   \n",
              "9969    AP20468       Like new - Apple iPhone Black Lightning Dock   \n",
              "\n",
              "                                                   desc    price  in_stock  \\\n",
              "35               IPhone iPad iPod adapter and AV cable.    45.00         0   \n",
              "214                   It is including parts and labor..    94.21         0   \n",
              "215                   It is including parts and labor..    94.21         0   \n",
              "579               New Free iPhone 5S 32GB (ME435Y / A).   559.00         0   \n",
              "956               New iPhone 6 16GB Free (MG482QL / A).   639.00         0   \n",
              "...                                                 ...      ...       ...   \n",
              "9790  Apple iPhone 8 reconditioned 256GB in Gold rea...   979.00         0   \n",
              "9794    Refurbished Apple iPhone 8 Plus 256GB Free Gold  1089.00         0   \n",
              "9929                Apple iPhone 8 Plus 64GB Space Gray   919.00         0   \n",
              "9958  Reconditioned silicone sleeve microfiber Apple...    45.00         0   \n",
              "9969  Support base and refitted with dock connector ...    59.00         0   \n",
              "\n",
              "           type category  \n",
              "35         1230           \n",
              "214    1,44E+11           \n",
              "215    1,44E+11           \n",
              "579         NaN           \n",
              "956         NaN           \n",
              "...         ...      ...  \n",
              "9790  113291716           \n",
              "9794  113281716           \n",
              "9929  113281716           \n",
              "9958   11865403           \n",
              "9969   13615399           \n",
              "\n",
              "[424 rows x 7 columns]"
            ]
          },
          "execution_count": 9,
          "metadata": {},
          "output_type": "execute_result"
        }
      ],
      "source": [
        "product_category_df.loc[product_category_df[\"name\"].str.lower().str.contains(\"apple iphone\"), :]"
      ]
    },
    {
      "cell_type": "markdown",
      "metadata": {
        "id": "aai7zoKNQSxX"
      },
      "source": [
        "Looks like we get a lot of accessories included in this search. We can refine this using a little regex. Here, we will add `.{0,7}` at the beginning of the search: this means we will find all `apple iphone`s that have 7 or less characters preceding the term \"apple iphone\" - if there's 8 characters preceding the search term, it won't be found. This should help refine our search by using the nomenclature of the DataFrame to our advantage.\n",
        "\n",
        "If you feel unsure about regex, please use [regex101](https://regex101.com/). It's really useful for checking your code, and parts of other people's code that you're unsure about."
      ]
    },
    {
      "cell_type": "code",
      "execution_count": 10,
      "metadata": {
        "id": "mxVST68uCjp4"
      },
      "outputs": [
        {
          "data": {
            "text/html": [
              "<div>\n",
              "<style scoped>\n",
              "    .dataframe tbody tr th:only-of-type {\n",
              "        vertical-align: middle;\n",
              "    }\n",
              "\n",
              "    .dataframe tbody tr th {\n",
              "        vertical-align: top;\n",
              "    }\n",
              "\n",
              "    .dataframe thead th {\n",
              "        text-align: right;\n",
              "    }\n",
              "</style>\n",
              "<table border=\"1\" class=\"dataframe\">\n",
              "  <thead>\n",
              "    <tr style=\"text-align: right;\">\n",
              "      <th></th>\n",
              "      <th>sku</th>\n",
              "      <th>name</th>\n",
              "      <th>desc</th>\n",
              "      <th>price</th>\n",
              "      <th>in_stock</th>\n",
              "      <th>type</th>\n",
              "      <th>category</th>\n",
              "    </tr>\n",
              "  </thead>\n",
              "  <tbody>\n",
              "    <tr>\n",
              "      <th>579</th>\n",
              "      <td>APP0675</td>\n",
              "      <td>Apple iPhone 5S 32GB Space Gray</td>\n",
              "      <td>New Free iPhone 5S 32GB (ME435Y / A).</td>\n",
              "      <td>559.0</td>\n",
              "      <td>0</td>\n",
              "      <td>NaN</td>\n",
              "      <td></td>\n",
              "    </tr>\n",
              "    <tr>\n",
              "      <th>956</th>\n",
              "      <td>APP0823</td>\n",
              "      <td>Apple iPhone 6 16GB Silver</td>\n",
              "      <td>New iPhone 6 16GB Free (MG482QL / A).</td>\n",
              "      <td>639.0</td>\n",
              "      <td>0</td>\n",
              "      <td>NaN</td>\n",
              "      <td></td>\n",
              "    </tr>\n",
              "    <tr>\n",
              "      <th>961</th>\n",
              "      <td>APP0829</td>\n",
              "      <td>Apple iPhone 6 Plus 16GB Silver</td>\n",
              "      <td>New iPhone 6 Plus 16G Free (MGA92QL / A).</td>\n",
              "      <td>749.0</td>\n",
              "      <td>0</td>\n",
              "      <td>NaN</td>\n",
              "      <td></td>\n",
              "    </tr>\n",
              "    <tr>\n",
              "      <th>962</th>\n",
              "      <td>APP0822</td>\n",
              "      <td>Apple iPhone 6 16GB Space Gray</td>\n",
              "      <td>New iPhone 6 16GB Free (MG472QL / A).</td>\n",
              "      <td>639.0</td>\n",
              "      <td>0</td>\n",
              "      <td>NaN</td>\n",
              "      <td></td>\n",
              "    </tr>\n",
              "    <tr>\n",
              "      <th>963</th>\n",
              "      <td>APP0825</td>\n",
              "      <td>Apple iPhone 6 64GB Space Gray</td>\n",
              "      <td>New iPhone 6 64GB Free (MG4F2QL / A).</td>\n",
              "      <td>749.0</td>\n",
              "      <td>0</td>\n",
              "      <td>NaN</td>\n",
              "      <td></td>\n",
              "    </tr>\n",
              "    <tr>\n",
              "      <th>...</th>\n",
              "      <td>...</td>\n",
              "      <td>...</td>\n",
              "      <td>...</td>\n",
              "      <td>...</td>\n",
              "      <td>...</td>\n",
              "      <td>...</td>\n",
              "      <td>...</td>\n",
              "    </tr>\n",
              "    <tr>\n",
              "      <th>9585</th>\n",
              "      <td>APP1634-A</td>\n",
              "      <td>Open - Apple iPhone 7 Plus 32GB Black</td>\n",
              "      <td>New 32GB Apple iPhone 7 Plus Free Black</td>\n",
              "      <td>779.0</td>\n",
              "      <td>0</td>\n",
              "      <td>85651716</td>\n",
              "      <td></td>\n",
              "    </tr>\n",
              "    <tr>\n",
              "      <th>9587</th>\n",
              "      <td>APP2540-A</td>\n",
              "      <td>Open - Apple iPhone Leather Folio X Baya</td>\n",
              "      <td>Leather case with box and official cover Apple</td>\n",
              "      <td>109.0</td>\n",
              "      <td>0</td>\n",
              "      <td>11865403</td>\n",
              "      <td></td>\n",
              "    </tr>\n",
              "    <tr>\n",
              "      <th>9714</th>\n",
              "      <td>APP2562-A</td>\n",
              "      <td>Open - Apple iPhone Leather Case Cover Red</td>\n",
              "      <td>Reconditioned skin sheath official Apple desig...</td>\n",
              "      <td>45.0</td>\n",
              "      <td>0</td>\n",
              "      <td>11865403</td>\n",
              "      <td></td>\n",
              "    </tr>\n",
              "    <tr>\n",
              "      <th>9794</th>\n",
              "      <td>APP2482-A</td>\n",
              "      <td>Open - Apple iPhone 8 Plus 256GB Gold</td>\n",
              "      <td>Refurbished Apple iPhone 8 Plus 256GB Free Gold</td>\n",
              "      <td>1089.0</td>\n",
              "      <td>0</td>\n",
              "      <td>113281716</td>\n",
              "      <td></td>\n",
              "    </tr>\n",
              "    <tr>\n",
              "      <th>9929</th>\n",
              "      <td>APP2477-A</td>\n",
              "      <td>Open - Apple iPhone 8 Plus 64GB Space Gray</td>\n",
              "      <td>Apple iPhone 8 Plus 64GB Space Gray</td>\n",
              "      <td>919.0</td>\n",
              "      <td>0</td>\n",
              "      <td>113281716</td>\n",
              "      <td></td>\n",
              "    </tr>\n",
              "  </tbody>\n",
              "</table>\n",
              "<p>269 rows × 7 columns</p>\n",
              "</div>"
            ],
            "text/plain": [
              "            sku                                        name  \\\n",
              "579     APP0675             Apple iPhone 5S 32GB Space Gray   \n",
              "956     APP0823                  Apple iPhone 6 16GB Silver   \n",
              "961     APP0829             Apple iPhone 6 Plus 16GB Silver   \n",
              "962     APP0822              Apple iPhone 6 16GB Space Gray   \n",
              "963     APP0825              Apple iPhone 6 64GB Space Gray   \n",
              "...         ...                                         ...   \n",
              "9585  APP1634-A       Open - Apple iPhone 7 Plus 32GB Black   \n",
              "9587  APP2540-A    Open - Apple iPhone Leather Folio X Baya   \n",
              "9714  APP2562-A  Open - Apple iPhone Leather Case Cover Red   \n",
              "9794  APP2482-A       Open - Apple iPhone 8 Plus 256GB Gold   \n",
              "9929  APP2477-A  Open - Apple iPhone 8 Plus 64GB Space Gray   \n",
              "\n",
              "                                                   desc   price  in_stock  \\\n",
              "579               New Free iPhone 5S 32GB (ME435Y / A).   559.0         0   \n",
              "956               New iPhone 6 16GB Free (MG482QL / A).   639.0         0   \n",
              "961           New iPhone 6 Plus 16G Free (MGA92QL / A).   749.0         0   \n",
              "962               New iPhone 6 16GB Free (MG472QL / A).   639.0         0   \n",
              "963               New iPhone 6 64GB Free (MG4F2QL / A).   749.0         0   \n",
              "...                                                 ...     ...       ...   \n",
              "9585            New 32GB Apple iPhone 7 Plus Free Black   779.0         0   \n",
              "9587     Leather case with box and official cover Apple   109.0         0   \n",
              "9714  Reconditioned skin sheath official Apple desig...    45.0         0   \n",
              "9794    Refurbished Apple iPhone 8 Plus 256GB Free Gold  1089.0         0   \n",
              "9929                Apple iPhone 8 Plus 64GB Space Gray   919.0         0   \n",
              "\n",
              "           type category  \n",
              "579         NaN           \n",
              "956         NaN           \n",
              "961         NaN           \n",
              "962         NaN           \n",
              "963         NaN           \n",
              "...         ...      ...  \n",
              "9585   85651716           \n",
              "9587   11865403           \n",
              "9714   11865403           \n",
              "9794  113281716           \n",
              "9929  113281716           \n",
              "\n",
              "[269 rows x 7 columns]"
            ]
          },
          "execution_count": 10,
          "metadata": {},
          "output_type": "execute_result"
        }
      ],
      "source": [
        "product_category_df.loc[product_category_df[\"name\"].str.lower().str.contains(\"^.{0,7}apple iphone\"), :]"
      ]
    },
    {
      "cell_type": "markdown",
      "metadata": {
        "id": "CYyrvQ2qSLuZ"
      },
      "source": [
        "Now we can use the same trick as before to set the category - selecting the `category` column and setting it to the string of our choice."
      ]
    },
    {
      "cell_type": "code",
      "execution_count": 11,
      "metadata": {
        "id": "yTCbUyK0BMb4"
      },
      "outputs": [],
      "source": [
        "product_category_df.loc[product_category_df[\"name\"].str.lower().str.contains(\"^.{0,7}apple iphone\"), \"category\"] = \"smartphone\""
      ]
    },
    {
      "cell_type": "code",
      "execution_count": 12,
      "metadata": {
        "id": "3TTuCTuW3YeL"
      },
      "outputs": [
        {
          "data": {
            "text/plain": [
              "              9634\n",
              "smartphone     269\n",
              "keyboard        89\n",
              "Name: category, dtype: int64"
            ]
          },
          "execution_count": 12,
          "metadata": {},
          "output_type": "execute_result"
        }
      ],
      "source": [
        "product_category_df[\"category\"].value_counts()"
      ]
    },
    {
      "cell_type": "markdown",
      "metadata": {
        "id": "foWHV_NItf_Z"
      },
      "source": [
        "## 3.&nbsp; One product with multiple categories\n",
        "A product may fit into multiple categories. To help us create multiple categories for one product, we will use the python addition assignment `+=`. The addition assignment is a shorthand way to add something (number, string, etc...) to a variable without changing the variable name. \n",
        "\n",
        "Let's have a look at a couple of examples."
      ]
    },
    {
      "cell_type": "code",
      "execution_count": 13,
      "metadata": {
        "id": "GDAclDOIourZ"
      },
      "outputs": [
        {
          "data": {
            "text/plain": [
              "15"
            ]
          },
          "execution_count": 13,
          "metadata": {},
          "output_type": "execute_result"
        }
      ],
      "source": [
        "a = 10\n",
        "a = a + 5\n",
        "a"
      ]
    },
    {
      "cell_type": "code",
      "execution_count": 14,
      "metadata": {
        "id": "hwZIQWTKpEBP"
      },
      "outputs": [
        {
          "data": {
            "text/plain": [
              "15"
            ]
          },
          "execution_count": 14,
          "metadata": {},
          "output_type": "execute_result"
        }
      ],
      "source": [
        "a = 10\n",
        "a += 5\n",
        "a"
      ]
    },
    {
      "cell_type": "code",
      "execution_count": 15,
      "metadata": {
        "id": "ftaB_cw8o_25"
      },
      "outputs": [
        {
          "data": {
            "text/plain": [
              "'Tyrannosaurus rex'"
            ]
          },
          "execution_count": 15,
          "metadata": {},
          "output_type": "execute_result"
        }
      ],
      "source": [
        "b = \"Tyrannosaurus\"\n",
        "b = b + \" rex\"\n",
        "b"
      ]
    },
    {
      "cell_type": "code",
      "execution_count": 16,
      "metadata": {
        "id": "5Tv19vbdpZLO"
      },
      "outputs": [
        {
          "data": {
            "text/plain": [
              "'Tyrannosaurus rex'"
            ]
          },
          "execution_count": 16,
          "metadata": {},
          "output_type": "execute_result"
        }
      ],
      "source": [
        "b = \"Tyrannosaurus\"\n",
        "b += \" rex\"\n",
        "b"
      ]
    },
    {
      "cell_type": "markdown",
      "metadata": {
        "id": "V3q9xza6q3MZ"
      },
      "source": [
        "Now let's look at how this can help us in our category creation.\n",
        "\n",
        "First, we'll reset all the values in the category column to an empty string `\"\"`."
      ]
    },
    {
      "cell_type": "code",
      "execution_count": 17,
      "metadata": {
        "id": "zYQeeC6E86T_"
      },
      "outputs": [],
      "source": [
        "product_category_df[\"category\"] = \"\""
      ]
    },
    {
      "cell_type": "markdown",
      "metadata": {
        "id": "LYGZ67rnrLU8"
      },
      "source": [
        "Now, let's create some categories and utilise the addition assignment."
      ]
    },
    {
      "cell_type": "code",
      "execution_count": 18,
      "metadata": {
        "id": "ZOtQHJqsn3Qv"
      },
      "outputs": [],
      "source": [
        "product_category_df.loc[product_category_df[\"desc\"].str.lower().str.contains(\"keyboard\"), \"category\"] += \", keyboard\"\n",
        "product_category_df.loc[product_category_df[\"name\"].str.lower().str.contains(\"^.{0,7}apple iphone\"), \"category\"] += \", smartphone\"\n",
        "product_category_df.loc[product_category_df[\"name\"].str.lower().str.contains(\"^.{0,7}apple ipod\"), \"category\"] += \", ipod\"\n",
        "product_category_df.loc[product_category_df[\"name\"].str.lower().str.contains(\"^.{0,7}apple ipad|tablet\"), \"category\"] += \", tablet\"\n",
        "product_category_df.loc[product_category_df[\"name\"].str.lower().str.contains(\"imac|mac mini|mac pro\"), \"category\"] += \", desktop\""
      ]
    },
    {
      "cell_type": "code",
      "execution_count": 19,
      "metadata": {
        "id": "EAS_yezTn4m_"
      },
      "outputs": [
        {
          "data": {
            "text/plain": [
              "                       8362\n",
              ", desktop               923\n",
              ", tablet                307\n",
              ", smartphone            269\n",
              ", keyboard               83\n",
              ", ipod                   42\n",
              ", keyboard, tablet        4\n",
              ", keyboard, desktop       2\n",
              "Name: category, dtype: int64"
            ]
          },
          "execution_count": 19,
          "metadata": {},
          "output_type": "execute_result"
        }
      ],
      "source": [
        "product_category_df[\"category\"].value_counts()"
      ]
    },
    {
      "cell_type": "markdown",
      "metadata": {
        "id": "tZktZ5udrTQn"
      },
      "source": [
        "As you can see, some products now have 2 categories instead of just one. At the end, you can use your skills with string to tidy up the opening comma and space in the `category` column."
      ]
    },
    {
      "cell_type": "markdown",
      "metadata": {
        "id": "0c7iUc3J87_b"
      },
      "source": [
        "# Challenge. Your categories\n",
        "Now it's your turn. We'll reset the Dataframe so that no categories exist, and it's up to you to create the categories based on keywords in the name and description. Feel free to go wild and make as many categories as you like.\n",
        "* Remember you can also use regex to refine your searches.\n",
        "* Remember you can use the or operator `|` to search for multiple terms at once.\n",
        "* Remember to tidy up any untidy strings at the end."
      ]
    },
    {
      "cell_type": "code",
      "execution_count": 21,
      "metadata": {
        "id": "LPcqdik6sEwA"
      },
      "outputs": [],
      "source": [
        "# your code here\n",
        "product_category_df[\"category\"] = \"\""
      ]
    },
    {
      "cell_type": "code",
      "execution_count": 22,
      "metadata": {},
      "outputs": [],
      "source": [
        "product_category_df.loc[product_category_df.desc.str.lower().str.contains(\"keyboard\"), \"category\"] += \", keyboard\"\n",
        "product_category_df.loc[product_category_df.name.str.lower().str.contains(\"^.{0,7}apple iphone\"), \"category\"] += \", smartphone\"\n",
        "product_category_df.loc[product_category_df.name.str.lower().str.contains(\"^.{0,7}apple ipod\"), \"category\"] += \", ipod\"\n",
        "product_category_df.loc[product_category_df.name.str.lower().str.contains(\"^.{0,7}apple ipad|tablet\"), \"category\"] += \", tablet\"\n",
        "product_category_df.loc[product_category_df.name.str.lower().str.contains(\"imac|mac mini|mac pro\"), \"category\"] += \", desktop\"\n",
        "product_category_df.loc[product_category_df.name.str.lower().str.contains(\"macbook\"), \"category\"] += \", laptop\"\n",
        "product_category_df.loc[product_category_df.desc.str.lower().str.contains(\"backpack\"), \"category\"] += \", backpack\"\n",
        "product_category_df.loc[product_category_df.desc.str.lower().str.contains(\"case|funda|housing|casing|folder\"), \"category\"] += \", case\"\n",
        "product_category_df.loc[product_category_df.desc.str.lower().str.contains(\"dock|hub|connection|expansion box\"), \"category\"] += \", dock\"\n",
        "product_category_df.loc[product_category_df.desc.str.lower().str.contains(\"cable|connector|lightning to usb|wall socket|power strip\"), \"category\"] += \", cable\"\n",
        "product_category_df.loc[product_category_df.desc.str.lower().str.contains(\"flash drive|hard drive|pendrive|hard disk|memory|storage|^ssd|^hardssd|modules|ssd expansion\"), \"category\"] = \", storage\"\n",
        "product_category_df.loc[product_category_df.desc.str.lower().str.contains(\"battery\"), \"category\"] += \", battery\"\n",
        "product_category_df.loc[product_category_df.desc.str.lower().str.contains(\"headset|headphones\"), \"category\"] += \", headset\"\n",
        "product_category_df.loc[product_category_df.desc.str.lower().str.contains(\"charger\"), \"category\"] += \", charger\"\n",
        "product_category_df.loc[product_category_df.desc.str.lower().str.contains(\"mouse|trackpad\"), \"category\"] += \", mouse\"\n",
        "product_category_df.loc[product_category_df.desc.str.lower().str.contains(\"stand|support\"), \"category\"] += \", stand\"\n",
        "product_category_df.loc[product_category_df.desc.str.lower().str.contains(\"strap|armband|belt|bracelet\"), \"category\"] += \", strap\"\n",
        "product_category_df.loc[product_category_df.desc.str.lower().str.contains(\"^.{0,6}apple watch|smartwatch|smart watch\"), \"category\"] += \", smartwatch\"\n",
        "product_category_df.loc[product_category_df.desc.str.lower().str.contains(\"adapter\"), \"category\"] += \", adapter\"\n",
        "product_category_df.loc[product_category_df.desc.str.lower().str.contains(\"^.{0,7}ram\"), \"category\"] += \", ram\"\n",
        "product_category_df.loc[product_category_df.desc.str.lower().str.contains(\"protect|cover|sleeve|screensaver|shell\"), \"category\"] += \", protection\"\n",
        "product_category_df.loc[product_category_df.desc.str.lower().str.contains(\"nas|server|raid|synology\"), \"category\"] += \", server\"\n",
        "product_category_df.loc[product_category_df.desc.str.lower().str.contains(\"scale\"), \"category\"] += \", scale\"\n",
        "product_category_df.loc[product_category_df.desc.str.lower().str.contains(\"thermometer\"), \"category\"] += \", thermometer\"\n",
        "product_category_df.loc[product_category_df.desc.str.lower().str.contains(\"monitor\"), \"category\"] += \", monitor\"\n",
        "product_category_df.loc[product_category_df.desc.str.lower().str.contains(\"speaker|music system\"), \"category\"] += \", speaker\"\n",
        "product_category_df.loc[product_category_df.desc.str.lower().str.contains(\"camera\"), \"category\"] += \", camera\"\n",
        "product_category_df.loc[product_category_df.desc.str.lower().str.contains(\"pointer\"), \"category\"] += \", pointer\"\n",
        "product_category_df.loc[product_category_df.desc.str.lower().str.contains(\"refurbished|reconditioned|like new\"), \"category\"] += \", refurbished\""
      ]
    },
    {
      "cell_type": "code",
      "execution_count": 23,
      "metadata": {},
      "outputs": [
        {
          "data": {
            "text/plain": [
              "                                         1150\n",
              ", storage                                1000\n",
              ", desktop                                 714\n",
              ", server                                  589\n",
              ", laptop                                  546\n",
              "                                         ... \n",
              ", desktop, dock, stand                      1\n",
              ", case, battery, headset                    1\n",
              ", keyboard, cable, protection               1\n",
              ", battery, monitor                          1\n",
              ", keyboard, mouse, stand, refurbished       1\n",
              "Name: category, Length: 250, dtype: int64"
            ]
          },
          "execution_count": 23,
          "metadata": {},
          "output_type": "execute_result"
        }
      ],
      "source": [
        "product_category_df.category.value_counts()"
      ]
    },
    {
      "attachments": {},
      "cell_type": "markdown",
      "metadata": {},
      "source": [
        "**Problem:** We can see that we still have a lot of products that don't fall into our categories.\n",
        "\n",
        "**Solution:** Label all of these products category as `other`"
      ]
    },
    {
      "cell_type": "code",
      "execution_count": 24,
      "metadata": {},
      "outputs": [],
      "source": [
        "product_category_df.loc[product_category_df[\"category\"] == \"\", \"category\"] = \", other\""
      ]
    },
    {
      "attachments": {},
      "cell_type": "markdown",
      "metadata": {},
      "source": [
        "**Problem:** all of the categories start with a comma `, `\n",
        "\n",
        "**Solution:** let's exclude the 1st 2 characters of all categories"
      ]
    },
    {
      "cell_type": "code",
      "execution_count": 25,
      "metadata": {},
      "outputs": [],
      "source": [
        "product_category_df[\"category\"] = product_category_df[\"category\"].str[2:]"
      ]
    },
    {
      "attachments": {},
      "cell_type": "markdown",
      "metadata": {},
      "source": [
        "Let's take a look at the 1st few rows to see how the categories have worked."
      ]
    },
    {
      "cell_type": "code",
      "execution_count": 26,
      "metadata": {},
      "outputs": [
        {
          "data": {
            "text/html": [
              "<div>\n",
              "<style scoped>\n",
              "    .dataframe tbody tr th:only-of-type {\n",
              "        vertical-align: middle;\n",
              "    }\n",
              "\n",
              "    .dataframe tbody tr th {\n",
              "        vertical-align: top;\n",
              "    }\n",
              "\n",
              "    .dataframe thead th {\n",
              "        text-align: right;\n",
              "    }\n",
              "</style>\n",
              "<table border=\"1\" class=\"dataframe\">\n",
              "  <thead>\n",
              "    <tr style=\"text-align: right;\">\n",
              "      <th></th>\n",
              "      <th>sku</th>\n",
              "      <th>name</th>\n",
              "      <th>desc</th>\n",
              "      <th>price</th>\n",
              "      <th>in_stock</th>\n",
              "      <th>type</th>\n",
              "      <th>category</th>\n",
              "    </tr>\n",
              "  </thead>\n",
              "  <tbody>\n",
              "    <tr>\n",
              "      <th>0</th>\n",
              "      <td>RAI0007</td>\n",
              "      <td>Silver Rain Design mStand Support</td>\n",
              "      <td>Aluminum support compatible with all MacBook</td>\n",
              "      <td>59.99</td>\n",
              "      <td>1</td>\n",
              "      <td>8696</td>\n",
              "      <td>stand</td>\n",
              "    </tr>\n",
              "    <tr>\n",
              "      <th>1</th>\n",
              "      <td>APP0023</td>\n",
              "      <td>Apple Mac Keyboard Keypad Spanish</td>\n",
              "      <td>USB ultrathin keyboard Apple Mac Spanish.</td>\n",
              "      <td>59.00</td>\n",
              "      <td>0</td>\n",
              "      <td>13855401</td>\n",
              "      <td>keyboard</td>\n",
              "    </tr>\n",
              "    <tr>\n",
              "      <th>2</th>\n",
              "      <td>APP0025</td>\n",
              "      <td>Mighty Mouse Apple Mouse for Mac</td>\n",
              "      <td>mouse Apple USB cable.</td>\n",
              "      <td>59.00</td>\n",
              "      <td>0</td>\n",
              "      <td>1387</td>\n",
              "      <td>cable, mouse</td>\n",
              "    </tr>\n",
              "    <tr>\n",
              "      <th>3</th>\n",
              "      <td>APP0072</td>\n",
              "      <td>Apple Dock to USB Cable iPhone and iPod white</td>\n",
              "      <td>IPhone dock and USB Cable Apple iPod.</td>\n",
              "      <td>25.00</td>\n",
              "      <td>0</td>\n",
              "      <td>1230</td>\n",
              "      <td>dock, cable</td>\n",
              "    </tr>\n",
              "    <tr>\n",
              "      <th>4</th>\n",
              "      <td>KIN0007</td>\n",
              "      <td>Mac Memory Kingston 2GB 667MHz DDR2 SO-DIMM</td>\n",
              "      <td>2GB RAM Mac mini and iMac (2006/07) MacBook Pr...</td>\n",
              "      <td>34.99</td>\n",
              "      <td>1</td>\n",
              "      <td>1364</td>\n",
              "      <td>ram</td>\n",
              "    </tr>\n",
              "    <tr>\n",
              "      <th>5</th>\n",
              "      <td>APP0073</td>\n",
              "      <td>Apple Composite AV Cable iPhone and iPod white</td>\n",
              "      <td>IPhone and iPod AV Cable Dock to Composite Video.</td>\n",
              "      <td>45.00</td>\n",
              "      <td>0</td>\n",
              "      <td>1230</td>\n",
              "      <td>dock, cable</td>\n",
              "    </tr>\n",
              "    <tr>\n",
              "      <th>6</th>\n",
              "      <td>KIN0008</td>\n",
              "      <td>Mac Memory Kingston 1GB 667MHz DDR2 SO-DIMM</td>\n",
              "      <td>1GB RAM Mac mini and iMac (2006/07) MacBook Pr...</td>\n",
              "      <td>18.99</td>\n",
              "      <td>0</td>\n",
              "      <td>1364</td>\n",
              "      <td>ram</td>\n",
              "    </tr>\n",
              "    <tr>\n",
              "      <th>7</th>\n",
              "      <td>KIN0009</td>\n",
              "      <td>Mac Memory Kingston 2GB 800MHz DDR2 SO-DIMM</td>\n",
              "      <td>2GB RAM iMac with Intel Core 2 Duo (Penryn).</td>\n",
              "      <td>36.99</td>\n",
              "      <td>0</td>\n",
              "      <td>1364</td>\n",
              "      <td>ram</td>\n",
              "    </tr>\n",
              "    <tr>\n",
              "      <th>8</th>\n",
              "      <td>KIN0001-2</td>\n",
              "      <td>Mac memory Kingston 4GB (2x2GB) 667MHz DDR2 SO...</td>\n",
              "      <td>RAM 4GB (2x2GB) Mac mini and iMac (2006/07) Ma...</td>\n",
              "      <td>74.00</td>\n",
              "      <td>0</td>\n",
              "      <td>1364</td>\n",
              "      <td>ram</td>\n",
              "    </tr>\n",
              "    <tr>\n",
              "      <th>9</th>\n",
              "      <td>APP0100</td>\n",
              "      <td>Apple Adapter Mini Display Port to VGA</td>\n",
              "      <td>Adapter Mini Display Port to VGA MacBook and M...</td>\n",
              "      <td>35.00</td>\n",
              "      <td>0</td>\n",
              "      <td>1325</td>\n",
              "      <td>adapter</td>\n",
              "    </tr>\n",
              "  </tbody>\n",
              "</table>\n",
              "</div>"
            ],
            "text/plain": [
              "         sku                                               name  \\\n",
              "0    RAI0007                  Silver Rain Design mStand Support   \n",
              "1    APP0023                  Apple Mac Keyboard Keypad Spanish   \n",
              "2    APP0025                   Mighty Mouse Apple Mouse for Mac   \n",
              "3    APP0072      Apple Dock to USB Cable iPhone and iPod white   \n",
              "4    KIN0007        Mac Memory Kingston 2GB 667MHz DDR2 SO-DIMM   \n",
              "5    APP0073     Apple Composite AV Cable iPhone and iPod white   \n",
              "6    KIN0008        Mac Memory Kingston 1GB 667MHz DDR2 SO-DIMM   \n",
              "7    KIN0009        Mac Memory Kingston 2GB 800MHz DDR2 SO-DIMM   \n",
              "8  KIN0001-2  Mac memory Kingston 4GB (2x2GB) 667MHz DDR2 SO...   \n",
              "9    APP0100             Apple Adapter Mini Display Port to VGA   \n",
              "\n",
              "                                                desc  price  in_stock  \\\n",
              "0       Aluminum support compatible with all MacBook  59.99         1   \n",
              "1          USB ultrathin keyboard Apple Mac Spanish.  59.00         0   \n",
              "2                             mouse Apple USB cable.  59.00         0   \n",
              "3              IPhone dock and USB Cable Apple iPod.  25.00         0   \n",
              "4  2GB RAM Mac mini and iMac (2006/07) MacBook Pr...  34.99         1   \n",
              "5  IPhone and iPod AV Cable Dock to Composite Video.  45.00         0   \n",
              "6  1GB RAM Mac mini and iMac (2006/07) MacBook Pr...  18.99         0   \n",
              "7       2GB RAM iMac with Intel Core 2 Duo (Penryn).  36.99         0   \n",
              "8  RAM 4GB (2x2GB) Mac mini and iMac (2006/07) Ma...  74.00         0   \n",
              "9  Adapter Mini Display Port to VGA MacBook and M...  35.00         0   \n",
              "\n",
              "       type      category  \n",
              "0      8696         stand  \n",
              "1  13855401      keyboard  \n",
              "2      1387  cable, mouse  \n",
              "3      1230   dock, cable  \n",
              "4      1364           ram  \n",
              "5      1230   dock, cable  \n",
              "6      1364           ram  \n",
              "7      1364           ram  \n",
              "8      1364           ram  \n",
              "9      1325       adapter  "
            ]
          },
          "execution_count": 26,
          "metadata": {},
          "output_type": "execute_result"
        }
      ],
      "source": [
        "product_category_df.head(10)"
      ]
    },
    {
      "cell_type": "code",
      "execution_count": 28,
      "metadata": {},
      "outputs": [
        {
          "data": {
            "text/html": [
              "<div>\n",
              "<style scoped>\n",
              "    .dataframe tbody tr th:only-of-type {\n",
              "        vertical-align: middle;\n",
              "    }\n",
              "\n",
              "    .dataframe tbody tr th {\n",
              "        vertical-align: top;\n",
              "    }\n",
              "\n",
              "    .dataframe thead th {\n",
              "        text-align: right;\n",
              "    }\n",
              "</style>\n",
              "<table border=\"1\" class=\"dataframe\">\n",
              "  <thead>\n",
              "    <tr style=\"text-align: right;\">\n",
              "      <th></th>\n",
              "      <th>sku</th>\n",
              "      <th>name</th>\n",
              "      <th>desc</th>\n",
              "      <th>price</th>\n",
              "      <th>in_stock</th>\n",
              "      <th>type</th>\n",
              "      <th>category</th>\n",
              "    </tr>\n",
              "  </thead>\n",
              "  <tbody>\n",
              "    <tr>\n",
              "      <th>2</th>\n",
              "      <td>APP0025</td>\n",
              "      <td>Mighty Mouse Apple Mouse for Mac</td>\n",
              "      <td>mouse Apple USB cable.</td>\n",
              "      <td>59.00</td>\n",
              "      <td>0</td>\n",
              "      <td>1387</td>\n",
              "      <td>cable, mouse</td>\n",
              "    </tr>\n",
              "    <tr>\n",
              "      <th>3</th>\n",
              "      <td>APP0072</td>\n",
              "      <td>Apple Dock to USB Cable iPhone and iPod white</td>\n",
              "      <td>IPhone dock and USB Cable Apple iPod.</td>\n",
              "      <td>25.00</td>\n",
              "      <td>0</td>\n",
              "      <td>1230</td>\n",
              "      <td>dock, cable</td>\n",
              "    </tr>\n",
              "    <tr>\n",
              "      <th>5</th>\n",
              "      <td>APP0073</td>\n",
              "      <td>Apple Composite AV Cable iPhone and iPod white</td>\n",
              "      <td>IPhone and iPod AV Cable Dock to Composite Video.</td>\n",
              "      <td>45.00</td>\n",
              "      <td>0</td>\n",
              "      <td>1230</td>\n",
              "      <td>dock, cable</td>\n",
              "    </tr>\n",
              "    <tr>\n",
              "      <th>14</th>\n",
              "      <td>MOS0013</td>\n",
              "      <td>Adapter Moshi FireWire 400 to FireWire 800</td>\n",
              "      <td>FireWire 400 adapter cable FireWire 800.</td>\n",
              "      <td>20.00</td>\n",
              "      <td>0</td>\n",
              "      <td>1325</td>\n",
              "      <td>cable, adapter</td>\n",
              "    </tr>\n",
              "    <tr>\n",
              "      <th>19</th>\n",
              "      <td>APP0234</td>\n",
              "      <td>Apple Dock Connector to VGA</td>\n",
              "      <td>Dock Connector to VGA IOS.</td>\n",
              "      <td>35.00</td>\n",
              "      <td>0</td>\n",
              "      <td>13955395</td>\n",
              "      <td>dock, cable</td>\n",
              "    </tr>\n",
              "    <tr>\n",
              "      <th>...</th>\n",
              "      <td>...</td>\n",
              "      <td>...</td>\n",
              "      <td>...</td>\n",
              "      <td>...</td>\n",
              "      <td>...</td>\n",
              "      <td>...</td>\n",
              "      <td>...</td>\n",
              "    </tr>\n",
              "    <tr>\n",
              "      <th>9836</th>\n",
              "      <td>BEL0377</td>\n",
              "      <td>Belkin Thunderbolt Cable 3 40Gb / s 100W 2m</td>\n",
              "      <td>2m Thunderbolt cable 3 with transmission data ...</td>\n",
              "      <td>79.99</td>\n",
              "      <td>1</td>\n",
              "      <td>1325</td>\n",
              "      <td>cable</td>\n",
              "    </tr>\n",
              "    <tr>\n",
              "      <th>9928</th>\n",
              "      <td>OWC0227-A</td>\n",
              "      <td>Open - OWC USB Dock-C 10-port power 80W Plata</td>\n",
              "      <td>Aluminum Hub with 10 different ports include 2...</td>\n",
              "      <td>217.99</td>\n",
              "      <td>0</td>\n",
              "      <td>12585395</td>\n",
              "      <td>dock, cable</td>\n",
              "    </tr>\n",
              "    <tr>\n",
              "      <th>9936</th>\n",
              "      <td>MOS0247</td>\n",
              "      <td>Moshi USB-C to DisplayPort Cable</td>\n",
              "      <td>15m adapter cable with USB-C connection Displa...</td>\n",
              "      <td>54.95</td>\n",
              "      <td>0</td>\n",
              "      <td>1325</td>\n",
              "      <td>dock, cable, adapter</td>\n",
              "    </tr>\n",
              "    <tr>\n",
              "      <th>9969</th>\n",
              "      <td>AP20468</td>\n",
              "      <td>Like new - Apple iPhone Black Lightning Dock</td>\n",
              "      <td>Support base and refitted with dock connector ...</td>\n",
              "      <td>59.00</td>\n",
              "      <td>0</td>\n",
              "      <td>13615399</td>\n",
              "      <td>dock, cable, stand</td>\n",
              "    </tr>\n",
              "    <tr>\n",
              "      <th>9980</th>\n",
              "      <td>AP20472</td>\n",
              "      <td>Like new - Apple charging cable 2m USB-C</td>\n",
              "      <td>Apple USB-C Cable 2 meters Refurbished MacBook</td>\n",
              "      <td>25.00</td>\n",
              "      <td>0</td>\n",
              "      <td>1325</td>\n",
              "      <td>cable, refurbished</td>\n",
              "    </tr>\n",
              "  </tbody>\n",
              "</table>\n",
              "<p>479 rows × 7 columns</p>\n",
              "</div>"
            ],
            "text/plain": [
              "            sku                                            name  \\\n",
              "2       APP0025                Mighty Mouse Apple Mouse for Mac   \n",
              "3       APP0072   Apple Dock to USB Cable iPhone and iPod white   \n",
              "5       APP0073  Apple Composite AV Cable iPhone and iPod white   \n",
              "14      MOS0013      Adapter Moshi FireWire 400 to FireWire 800   \n",
              "19      APP0234                     Apple Dock Connector to VGA   \n",
              "...         ...                                             ...   \n",
              "9836    BEL0377     Belkin Thunderbolt Cable 3 40Gb / s 100W 2m   \n",
              "9928  OWC0227-A   Open - OWC USB Dock-C 10-port power 80W Plata   \n",
              "9936    MOS0247                Moshi USB-C to DisplayPort Cable   \n",
              "9969    AP20468    Like new - Apple iPhone Black Lightning Dock   \n",
              "9980    AP20472        Like new - Apple charging cable 2m USB-C   \n",
              "\n",
              "                                                   desc   price  in_stock  \\\n",
              "2                                mouse Apple USB cable.   59.00         0   \n",
              "3                 IPhone dock and USB Cable Apple iPod.   25.00         0   \n",
              "5     IPhone and iPod AV Cable Dock to Composite Video.   45.00         0   \n",
              "14             FireWire 400 adapter cable FireWire 800.   20.00         0   \n",
              "19                           Dock Connector to VGA IOS.   35.00         0   \n",
              "...                                                 ...     ...       ...   \n",
              "9836  2m Thunderbolt cable 3 with transmission data ...   79.99         1   \n",
              "9928  Aluminum Hub with 10 different ports include 2...  217.99         0   \n",
              "9936  15m adapter cable with USB-C connection Displa...   54.95         0   \n",
              "9969  Support base and refitted with dock connector ...   59.00         0   \n",
              "9980     Apple USB-C Cable 2 meters Refurbished MacBook   25.00         0   \n",
              "\n",
              "          type              category  \n",
              "2         1387          cable, mouse  \n",
              "3         1230           dock, cable  \n",
              "5         1230           dock, cable  \n",
              "14        1325        cable, adapter  \n",
              "19    13955395           dock, cable  \n",
              "...        ...                   ...  \n",
              "9836      1325                 cable  \n",
              "9928  12585395           dock, cable  \n",
              "9936      1325  dock, cable, adapter  \n",
              "9969  13615399    dock, cable, stand  \n",
              "9980      1325    cable, refurbished  \n",
              "\n",
              "[479 rows x 7 columns]"
            ]
          },
          "execution_count": 28,
          "metadata": {},
          "output_type": "execute_result"
        }
      ],
      "source": [
        "product_category_df.loc[product_category_df.category.str.contains(\"cable\"), :]"
      ]
    },
    {
      "cell_type": "markdown",
      "metadata": {
        "id": "RZmoYd6-tsvG"
      },
      "source": [
        "## 4.&nbsp; [BONUS] Using `type` to create categories\n",
        "There could be another way to create categories, but this one you'll have to explore this one alone.\n",
        "\n",
        "We have the mysterious column `type` in the `products` table. This could potentially be ready-made categories labelled with numbers instead of words. Let's investigate."
      ]
    },
    {
      "cell_type": "code",
      "execution_count": 29,
      "metadata": {
        "id": "K5HJA7_M2nzw"
      },
      "outputs": [],
      "source": [
        "category_type_df = products_cl.copy()"
      ]
    },
    {
      "cell_type": "markdown",
      "metadata": {
        "id": "rqjhiJiE3Xbm"
      },
      "source": [
        "Here are the `type`s that have the most products."
      ]
    },
    {
      "cell_type": "code",
      "execution_count": 30,
      "metadata": {
        "id": "OwzkbYnvNDnu"
      },
      "outputs": [
        {
          "data": {
            "text/html": [
              "<div>\n",
              "<style scoped>\n",
              "    .dataframe tbody tr th:only-of-type {\n",
              "        vertical-align: middle;\n",
              "    }\n",
              "\n",
              "    .dataframe tbody tr th {\n",
              "        vertical-align: top;\n",
              "    }\n",
              "\n",
              "    .dataframe thead th {\n",
              "        text-align: right;\n",
              "    }\n",
              "</style>\n",
              "<table border=\"1\" class=\"dataframe\">\n",
              "  <thead>\n",
              "    <tr style=\"text-align: right;\">\n",
              "      <th></th>\n",
              "      <th>sku</th>\n",
              "      <th>name</th>\n",
              "      <th>desc</th>\n",
              "      <th>price</th>\n",
              "      <th>in_stock</th>\n",
              "    </tr>\n",
              "    <tr>\n",
              "      <th>type</th>\n",
              "      <th></th>\n",
              "      <th></th>\n",
              "      <th></th>\n",
              "      <th></th>\n",
              "      <th></th>\n",
              "    </tr>\n",
              "  </thead>\n",
              "  <tbody>\n",
              "    <tr>\n",
              "      <th>11865403</th>\n",
              "      <td>1057</td>\n",
              "      <td>1057</td>\n",
              "      <td>1057</td>\n",
              "      <td>1057</td>\n",
              "      <td>1057</td>\n",
              "    </tr>\n",
              "    <tr>\n",
              "      <th>12175397</th>\n",
              "      <td>939</td>\n",
              "      <td>939</td>\n",
              "      <td>939</td>\n",
              "      <td>939</td>\n",
              "      <td>939</td>\n",
              "    </tr>\n",
              "    <tr>\n",
              "      <th>1298</th>\n",
              "      <td>783</td>\n",
              "      <td>783</td>\n",
              "      <td>783</td>\n",
              "      <td>783</td>\n",
              "      <td>783</td>\n",
              "    </tr>\n",
              "    <tr>\n",
              "      <th>11935397</th>\n",
              "      <td>562</td>\n",
              "      <td>562</td>\n",
              "      <td>562</td>\n",
              "      <td>562</td>\n",
              "      <td>562</td>\n",
              "    </tr>\n",
              "    <tr>\n",
              "      <th>11905404</th>\n",
              "      <td>454</td>\n",
              "      <td>454</td>\n",
              "      <td>454</td>\n",
              "      <td>454</td>\n",
              "      <td>454</td>\n",
              "    </tr>\n",
              "    <tr>\n",
              "      <th>1282</th>\n",
              "      <td>373</td>\n",
              "      <td>373</td>\n",
              "      <td>373</td>\n",
              "      <td>373</td>\n",
              "      <td>373</td>\n",
              "    </tr>\n",
              "    <tr>\n",
              "      <th>12635403</th>\n",
              "      <td>362</td>\n",
              "      <td>362</td>\n",
              "      <td>362</td>\n",
              "      <td>362</td>\n",
              "      <td>362</td>\n",
              "    </tr>\n",
              "    <tr>\n",
              "      <th>13835403</th>\n",
              "      <td>269</td>\n",
              "      <td>269</td>\n",
              "      <td>269</td>\n",
              "      <td>269</td>\n",
              "      <td>269</td>\n",
              "    </tr>\n",
              "    <tr>\n",
              "      <th>5,74E+15</th>\n",
              "      <td>247</td>\n",
              "      <td>247</td>\n",
              "      <td>247</td>\n",
              "      <td>247</td>\n",
              "      <td>247</td>\n",
              "    </tr>\n",
              "    <tr>\n",
              "      <th>1364</th>\n",
              "      <td>216</td>\n",
              "      <td>216</td>\n",
              "      <td>216</td>\n",
              "      <td>216</td>\n",
              "      <td>216</td>\n",
              "    </tr>\n",
              "  </tbody>\n",
              "</table>\n",
              "</div>"
            ],
            "text/plain": [
              "           sku  name  desc  price  in_stock\n",
              "type                                       \n",
              "11865403  1057  1057  1057   1057      1057\n",
              "12175397   939   939   939    939       939\n",
              "1298       783   783   783    783       783\n",
              "11935397   562   562   562    562       562\n",
              "11905404   454   454   454    454       454\n",
              "1282       373   373   373    373       373\n",
              "12635403   362   362   362    362       362\n",
              "13835403   269   269   269    269       269\n",
              "5,74E+15   247   247   247    247       247\n",
              "1364       216   216   216    216       216"
            ]
          },
          "execution_count": 30,
          "metadata": {},
          "output_type": "execute_result"
        }
      ],
      "source": [
        "category_type_df.groupby(\"type\").count().nlargest(10, \"sku\")"
      ]
    },
    {
      "cell_type": "markdown",
      "metadata": {
        "id": "gxkXWt9K3lAl"
      },
      "source": [
        "Let's have a look at the first `type` to see if we can make categories from this column."
      ]
    },
    {
      "cell_type": "code",
      "execution_count": 31,
      "metadata": {
        "id": "qDcnQEXo3_2Q"
      },
      "outputs": [
        {
          "data": {
            "text/html": [
              "<div>\n",
              "<style scoped>\n",
              "    .dataframe tbody tr th:only-of-type {\n",
              "        vertical-align: middle;\n",
              "    }\n",
              "\n",
              "    .dataframe tbody tr th {\n",
              "        vertical-align: top;\n",
              "    }\n",
              "\n",
              "    .dataframe thead th {\n",
              "        text-align: right;\n",
              "    }\n",
              "</style>\n",
              "<table border=\"1\" class=\"dataframe\">\n",
              "  <thead>\n",
              "    <tr style=\"text-align: right;\">\n",
              "      <th></th>\n",
              "      <th>sku</th>\n",
              "      <th>name</th>\n",
              "      <th>desc</th>\n",
              "      <th>price</th>\n",
              "      <th>in_stock</th>\n",
              "      <th>type</th>\n",
              "    </tr>\n",
              "  </thead>\n",
              "  <tbody>\n",
              "    <tr>\n",
              "      <th>8199</th>\n",
              "      <td>PUR0161</td>\n",
              "      <td>Pure Hologram iPhone 7/8 Case Rosa</td>\n",
              "      <td>Ultrathin hologram effect protection for your ...</td>\n",
              "      <td>19.95</td>\n",
              "      <td>1</td>\n",
              "      <td>11865403</td>\n",
              "    </tr>\n",
              "    <tr>\n",
              "      <th>2410</th>\n",
              "      <td>KUA0028</td>\n",
              "      <td>Support Kukaclip car + Funda iPhone 6 / 6S Tra...</td>\n",
              "      <td>Magnetic car holder with 360 degrees rotating ...</td>\n",
              "      <td>24.99</td>\n",
              "      <td>0</td>\n",
              "      <td>11865403</td>\n",
              "    </tr>\n",
              "    <tr>\n",
              "      <th>5249</th>\n",
              "      <td>TUC0292</td>\n",
              "      <td>Tucano DUEINUNO iPhone Case 2 in 1 7/8 Rosa</td>\n",
              "      <td>Case 2 in 1 with removable rear cover and anti...</td>\n",
              "      <td>26.90</td>\n",
              "      <td>0</td>\n",
              "      <td>11865403</td>\n",
              "    </tr>\n",
              "    <tr>\n",
              "      <th>1808</th>\n",
              "      <td>SPE0156</td>\n",
              "      <td>Speck CandyShell Grip Case for iPhone 6 Plus 5...</td>\n",
              "      <td>ultra tough for iPhone 6 Plus. housing</td>\n",
              "      <td>26.99</td>\n",
              "      <td>0</td>\n",
              "      <td>11865403</td>\n",
              "    </tr>\n",
              "    <tr>\n",
              "      <th>2538</th>\n",
              "      <td>APP1149</td>\n",
              "      <td>Case Apple iPhone 6 / 6S Silicone Case Antique...</td>\n",
              "      <td>Ultrathin silicone case and microfiber premium...</td>\n",
              "      <td>39.00</td>\n",
              "      <td>0</td>\n",
              "      <td>11865403</td>\n",
              "    </tr>\n",
              "    <tr>\n",
              "      <th>8909</th>\n",
              "      <td>BEL0323</td>\n",
              "      <td>Belkin iPhone Case SheerForce 8 Plus / 7 Plus ...</td>\n",
              "      <td>Case against impact and wear resistant materia...</td>\n",
              "      <td>24.99</td>\n",
              "      <td>1</td>\n",
              "      <td>11865403</td>\n",
              "    </tr>\n",
              "    <tr>\n",
              "      <th>1404</th>\n",
              "      <td>JMO0070</td>\n",
              "      <td>Just Mobile Phone Case Skin AluFrame 6 Pink</td>\n",
              "      <td>Aluminum and leather iPhone 6.</td>\n",
              "      <td>39.99</td>\n",
              "      <td>1</td>\n",
              "      <td>11865403</td>\n",
              "    </tr>\n",
              "    <tr>\n",
              "      <th>8254</th>\n",
              "      <td>TUC0349</td>\n",
              "      <td>Tucano iPhone Case Filo Booklet X</td>\n",
              "      <td>Eco leather cover anti-radiation card slots .....</td>\n",
              "      <td>26.90</td>\n",
              "      <td>1</td>\n",
              "      <td>11865403</td>\n",
              "    </tr>\n",
              "    <tr>\n",
              "      <th>5785</th>\n",
              "      <td>MOP0099</td>\n",
              "      <td>Hold Force Base Case Mophie iPhone Case 7 Wrap</td>\n",
              "      <td>Case Ultra Thin magnetic plate on the back to ...</td>\n",
              "      <td>39.95</td>\n",
              "      <td>0</td>\n",
              "      <td>11865403</td>\n",
              "    </tr>\n",
              "    <tr>\n",
              "      <th>1408</th>\n",
              "      <td>KUA0019</td>\n",
              "      <td>Support Kukaclip car + Funda iPhone 6 / 6S Black</td>\n",
              "      <td>Magnetic car holder with 360 degrees rotating ...</td>\n",
              "      <td>24.99</td>\n",
              "      <td>0</td>\n",
              "      <td>11865403</td>\n",
              "    </tr>\n",
              "  </tbody>\n",
              "</table>\n",
              "</div>"
            ],
            "text/plain": [
              "          sku                                               name  \\\n",
              "8199  PUR0161                 Pure Hologram iPhone 7/8 Case Rosa   \n",
              "2410  KUA0028  Support Kukaclip car + Funda iPhone 6 / 6S Tra...   \n",
              "5249  TUC0292        Tucano DUEINUNO iPhone Case 2 in 1 7/8 Rosa   \n",
              "1808  SPE0156  Speck CandyShell Grip Case for iPhone 6 Plus 5...   \n",
              "2538  APP1149  Case Apple iPhone 6 / 6S Silicone Case Antique...   \n",
              "8909  BEL0323  Belkin iPhone Case SheerForce 8 Plus / 7 Plus ...   \n",
              "1404  JMO0070        Just Mobile Phone Case Skin AluFrame 6 Pink   \n",
              "8254  TUC0349                  Tucano iPhone Case Filo Booklet X   \n",
              "5785  MOP0099     Hold Force Base Case Mophie iPhone Case 7 Wrap   \n",
              "1408  KUA0019   Support Kukaclip car + Funda iPhone 6 / 6S Black   \n",
              "\n",
              "                                                   desc  price  in_stock  \\\n",
              "8199  Ultrathin hologram effect protection for your ...  19.95         1   \n",
              "2410  Magnetic car holder with 360 degrees rotating ...  24.99         0   \n",
              "5249  Case 2 in 1 with removable rear cover and anti...  26.90         0   \n",
              "1808             ultra tough for iPhone 6 Plus. housing  26.99         0   \n",
              "2538  Ultrathin silicone case and microfiber premium...  39.00         0   \n",
              "8909  Case against impact and wear resistant materia...  24.99         1   \n",
              "1404                     Aluminum and leather iPhone 6.  39.99         1   \n",
              "8254  Eco leather cover anti-radiation card slots .....  26.90         1   \n",
              "5785  Case Ultra Thin magnetic plate on the back to ...  39.95         0   \n",
              "1408  Magnetic car holder with 360 degrees rotating ...  24.99         0   \n",
              "\n",
              "          type  \n",
              "8199  11865403  \n",
              "2410  11865403  \n",
              "5249  11865403  \n",
              "1808  11865403  \n",
              "2538  11865403  \n",
              "8909  11865403  \n",
              "1404  11865403  \n",
              "8254  11865403  \n",
              "5785  11865403  \n",
              "1408  11865403  "
            ]
          },
          "execution_count": 31,
          "metadata": {},
          "output_type": "execute_result"
        }
      ],
      "source": [
        "category_type_df.loc[category_type_df[\"type\"] == \"11865403\", :].sample(10)"
      ]
    },
    {
      "cell_type": "markdown",
      "metadata": {
        "id": "8f4D6vx04EF-"
      },
      "source": [
        "Looks like this is a category of phone cases.\n",
        "\n",
        "Let's have a look at the 2nd largest type to see if that's also a clear category."
      ]
    },
    {
      "cell_type": "code",
      "execution_count": 32,
      "metadata": {
        "id": "iiP45DQQ4YHC"
      },
      "outputs": [
        {
          "data": {
            "text/html": [
              "<div>\n",
              "<style scoped>\n",
              "    .dataframe tbody tr th:only-of-type {\n",
              "        vertical-align: middle;\n",
              "    }\n",
              "\n",
              "    .dataframe tbody tr th {\n",
              "        vertical-align: top;\n",
              "    }\n",
              "\n",
              "    .dataframe thead th {\n",
              "        text-align: right;\n",
              "    }\n",
              "</style>\n",
              "<table border=\"1\" class=\"dataframe\">\n",
              "  <thead>\n",
              "    <tr style=\"text-align: right;\">\n",
              "      <th></th>\n",
              "      <th>sku</th>\n",
              "      <th>name</th>\n",
              "      <th>desc</th>\n",
              "      <th>price</th>\n",
              "      <th>in_stock</th>\n",
              "      <th>type</th>\n",
              "    </tr>\n",
              "  </thead>\n",
              "  <tbody>\n",
              "    <tr>\n",
              "      <th>8500</th>\n",
              "      <td>PAC2409</td>\n",
              "      <td>DS418play Synology NAS Server | 10GB RAM | 48T...</td>\n",
              "      <td>4-bay NAS server to accommodate 4K Ultra HD files</td>\n",
              "      <td>2601.31</td>\n",
              "      <td>0</td>\n",
              "      <td>12175397</td>\n",
              "    </tr>\n",
              "    <tr>\n",
              "      <th>8609</th>\n",
              "      <td>PAC2374</td>\n",
              "      <td>Synology DS218 + NAS Server | 6GB RAM | 20TB (...</td>\n",
              "      <td>NAS storage server integrated with special foc...</td>\n",
              "      <td>1206.96</td>\n",
              "      <td>1</td>\n",
              "      <td>12175397</td>\n",
              "    </tr>\n",
              "    <tr>\n",
              "      <th>3235</th>\n",
              "      <td>PAC1392</td>\n",
              "      <td>Pack QNAP TS-451 + | 2GB RAM + WD Red 32TB</td>\n",
              "      <td>Pack QNAP TS-451 + with 2GB of RAM memory + 32...</td>\n",
              "      <td>1914.99</td>\n",
              "      <td>0</td>\n",
              "      <td>12175397</td>\n",
              "    </tr>\n",
              "    <tr>\n",
              "      <th>7767</th>\n",
              "      <td>PAC1696</td>\n",
              "      <td>Pack QNAP TS-251A NAS Server | 16GB RAM | Seag...</td>\n",
              "      <td>NAS with 16GB of RAM and 8 TB (2x4TB) Seagate ...</td>\n",
              "      <td>851.65</td>\n",
              "      <td>0</td>\n",
              "      <td>12175397</td>\n",
              "    </tr>\n",
              "    <tr>\n",
              "      <th>3227</th>\n",
              "      <td>PAC1393</td>\n",
              "      <td>Pack QNAP TS-451 + | 8GB RAM | Seagate 32TB Ir...</td>\n",
              "      <td>Pack QNAP TS-451 + with 8GB of RAM memory + 32...</td>\n",
              "      <td>2039.95</td>\n",
              "      <td>0</td>\n",
              "      <td>12175397</td>\n",
              "    </tr>\n",
              "    <tr>\n",
              "      <th>4375</th>\n",
              "      <td>PAC1435</td>\n",
              "      <td>Synology DS916 + Pack | 8GB RAM | WD 32TB Network</td>\n",
              "      <td>Synology DS916 + with 8GB of RAM memory + 32TB...</td>\n",
              "      <td>2065.20</td>\n",
              "      <td>0</td>\n",
              "      <td>12175397</td>\n",
              "    </tr>\n",
              "    <tr>\n",
              "      <th>8548</th>\n",
              "      <td>PAC2220</td>\n",
              "      <td>Synology DS718 + NAS Server | 16GB RAM | 16TB ...</td>\n",
              "      <td>Scalable NAS server with transcoding 4K: 4-cor...</td>\n",
              "      <td>1360.71</td>\n",
              "      <td>0</td>\n",
              "      <td>12175397</td>\n",
              "    </tr>\n",
              "    <tr>\n",
              "      <th>8544</th>\n",
              "      <td>PAC2216</td>\n",
              "      <td>Synology DS718 + NAS Server | 16GB RAM | 4TB (...</td>\n",
              "      <td>Scalable NAS server with transcoding 4K: 4-cor...</td>\n",
              "      <td>840.71</td>\n",
              "      <td>0</td>\n",
              "      <td>12175397</td>\n",
              "    </tr>\n",
              "    <tr>\n",
              "      <th>3148</th>\n",
              "      <td>PAC1629</td>\n",
              "      <td>QNAP HS-251 + | Seagate 12TB Iron Wolf</td>\n",
              "      <td>HS-251 + NAS with 12TB (2x6TB) IronWolf Seagat...</td>\n",
              "      <td>958.97</td>\n",
              "      <td>0</td>\n",
              "      <td>12175397</td>\n",
              "    </tr>\n",
              "    <tr>\n",
              "      <th>3884</th>\n",
              "      <td>PAC1375</td>\n",
              "      <td>Synology Pack DS216J | WD 16TB Network</td>\n",
              "      <td>NAS + 16TB (2x8TB) WD Network for Mac and PC.</td>\n",
              "      <td>893.99</td>\n",
              "      <td>0</td>\n",
              "      <td>12175397</td>\n",
              "    </tr>\n",
              "  </tbody>\n",
              "</table>\n",
              "</div>"
            ],
            "text/plain": [
              "          sku                                               name  \\\n",
              "8500  PAC2409  DS418play Synology NAS Server | 10GB RAM | 48T...   \n",
              "8609  PAC2374  Synology DS218 + NAS Server | 6GB RAM | 20TB (...   \n",
              "3235  PAC1392         Pack QNAP TS-451 + | 2GB RAM + WD Red 32TB   \n",
              "7767  PAC1696  Pack QNAP TS-251A NAS Server | 16GB RAM | Seag...   \n",
              "3227  PAC1393  Pack QNAP TS-451 + | 8GB RAM | Seagate 32TB Ir...   \n",
              "4375  PAC1435  Synology DS916 + Pack | 8GB RAM | WD 32TB Network   \n",
              "8548  PAC2220  Synology DS718 + NAS Server | 16GB RAM | 16TB ...   \n",
              "8544  PAC2216  Synology DS718 + NAS Server | 16GB RAM | 4TB (...   \n",
              "3148  PAC1629             QNAP HS-251 + | Seagate 12TB Iron Wolf   \n",
              "3884  PAC1375             Synology Pack DS216J | WD 16TB Network   \n",
              "\n",
              "                                                   desc    price  in_stock  \\\n",
              "8500  4-bay NAS server to accommodate 4K Ultra HD files  2601.31         0   \n",
              "8609  NAS storage server integrated with special foc...  1206.96         1   \n",
              "3235  Pack QNAP TS-451 + with 2GB of RAM memory + 32...  1914.99         0   \n",
              "7767  NAS with 16GB of RAM and 8 TB (2x4TB) Seagate ...   851.65         0   \n",
              "3227  Pack QNAP TS-451 + with 8GB of RAM memory + 32...  2039.95         0   \n",
              "4375  Synology DS916 + with 8GB of RAM memory + 32TB...  2065.20         0   \n",
              "8548  Scalable NAS server with transcoding 4K: 4-cor...  1360.71         0   \n",
              "8544  Scalable NAS server with transcoding 4K: 4-cor...   840.71         0   \n",
              "3148  HS-251 + NAS with 12TB (2x6TB) IronWolf Seagat...   958.97         0   \n",
              "3884      NAS + 16TB (2x8TB) WD Network for Mac and PC.   893.99         0   \n",
              "\n",
              "          type  \n",
              "8500  12175397  \n",
              "8609  12175397  \n",
              "3235  12175397  \n",
              "7767  12175397  \n",
              "3227  12175397  \n",
              "4375  12175397  \n",
              "8548  12175397  \n",
              "8544  12175397  \n",
              "3148  12175397  \n",
              "3884  12175397  "
            ]
          },
          "execution_count": 32,
          "metadata": {},
          "output_type": "execute_result"
        }
      ],
      "source": [
        "category_type_df.loc[category_type_df[\"type\"] == \"12175397\", :].sample(10)"
      ]
    },
    {
      "cell_type": "markdown",
      "metadata": {
        "id": "rQq4i68T4i4Z"
      },
      "source": [
        "Looks like this category is full of servers.\n",
        "\n",
        "I wonder how many `type`s account for most of our products?"
      ]
    },
    {
      "cell_type": "code",
      "execution_count": 33,
      "metadata": {
        "id": "nvC72XNi5VUz"
      },
      "outputs": [
        {
          "name": "stdout",
          "output_type": "stream",
          "text": [
            "With the 30 largest types, we account for 78.4% of all products.\n"
          ]
        }
      ],
      "source": [
        "n = 30\n",
        "print(f\"With the {n} largest types, we account for {((category_type_df.groupby('type').count().nlargest(n, 'sku')['sku'].sum()) / (category_type_df.shape[0]) * 100).round(2)}% of all products.\")"
      ]
    },
    {
      "cell_type": "markdown",
      "metadata": {
        "id": "40a0ksM46UCi"
      },
      "source": [
        "Looks like we can simply investigate 30 types and set the categories, then the remaining 20% of products can have the category `other`.\n",
        "\n",
        "Use the skills you learnt above to change the category for each type."
      ]
    }
  ],
  "metadata": {
    "colab": {
      "provenance": []
    },
    "kernelspec": {
      "display_name": "base",
      "language": "python",
      "name": "python3"
    },
    "language_info": {
      "codemirror_mode": {
        "name": "ipython",
        "version": 3
      },
      "file_extension": ".py",
      "mimetype": "text/x-python",
      "name": "python",
      "nbconvert_exporter": "python",
      "pygments_lexer": "ipython3",
      "version": "3.9.12"
    },
    "vscode": {
      "interpreter": {
        "hash": "704aea7029d59a45433ae3b663f7cccf597e59967cc6a516676256c90bebdeef"
      }
    }
  },
  "nbformat": 4,
  "nbformat_minor": 0
}
