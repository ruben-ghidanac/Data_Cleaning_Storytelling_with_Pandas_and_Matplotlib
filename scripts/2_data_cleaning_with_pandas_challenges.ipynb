{
  "cells": [
    {
      "cell_type": "markdown",
      "metadata": {
        "id": "kYo4UvcCvkUs"
      },
      "source": [
        "# Data Cleaning with Pandas\n",
        "\n",
        "In this notebook we'll go through a few basic data cleaning steps that should be performed on all new datasets where necessary.\n",
        "\n",
        "We'll go through the process with both the `orders` and `orderlines` datasets. You can then practice these skills by cleaning the `products` dataset yourself"
      ]
    },
    {
      "cell_type": "code",
      "execution_count": 1,
      "metadata": {
        "id": "FgRIdUs1vcZ8"
      },
      "outputs": [],
      "source": [
        "import pandas as pd"
      ]
    },
    {
      "cell_type": "code",
      "execution_count": 2,
      "metadata": {
        "id": "_87JoNgVviOG"
      },
      "outputs": [],
      "source": [
        "# orders.csv\n",
        "path = \"C:/Users/ruben/WBS/Data_Science/Section_3/Data_Cleaning_Storytelling_with_Pandas_and_Matplotlib/data/raw_data/orders.csv\"\n",
        "orders = pd.read_csv(path)\n",
        "\n",
        "# orderlines.csv\n",
        "path = \"C:/Users/ruben/WBS/Data_Science/Section_3/Data_Cleaning_Storytelling_with_Pandas_and_Matplotlib/data/raw_data/orderlines.csv\"\n",
        "orderlines = pd.read_csv(path)"
      ]
    },
    {
      "cell_type": "markdown",
      "metadata": {
        "id": "fVLitYX1yhc6"
      },
      "source": [
        "One of the best ways to begin data cleaning is by exploring using `.info()`. This will tell us:\n",
        "* The shape of the DataFrame\n",
        "* The names of the columns\n",
        "* If there are any missing values\n",
        "* The datatypes of the columns\n",
        "\n",
        "By exploring the missing values and correcting any incorrect datatypes, we often come across inconsistencies in our data.\n",
        "\n",
        "Beyond this, we should also have a **check for any duplicate rows**. \n",
        "\n",
        "Let's first deal with the duplicates, as it's nice and easy, then we'll explore what `.info()` has to tell us."
      ]
    },
    {
      "cell_type": "markdown",
      "metadata": {
        "id": "036ciQ6rwBJm"
      },
      "source": [
        "## 1.&nbsp; Duplicates\n",
        "We can check for duplicates using the pandas [.duplicated()](https://pandas.pydata.org/docs/reference/api/pandas.DataFrame.duplicated.html) method. \n",
        "\n",
        "We can then delete these rows, if we wish, using [.drop_duplicates()](https://pandas.pydata.org/docs/reference/api/pandas.DataFrame.drop_duplicates.html)"
      ]
    },
    {
      "cell_type": "code",
      "execution_count": null,
      "metadata": {
        "id": "6dVkoUu7wC-b"
      },
      "outputs": [],
      "source": [
        "# orders\n",
        "orders.duplicated().sum()"
      ]
    },
    {
      "cell_type": "code",
      "execution_count": null,
      "metadata": {
        "id": "iaeAQB_3whli"
      },
      "outputs": [],
      "source": [
        "# orderlines\n",
        "orderlines.duplicated().sum()"
      ]
    },
    {
      "cell_type": "markdown",
      "metadata": {
        "id": "3LbnJquF0vRe"
      },
      "source": [
        "We have no duplicate rows in either DataFrame. Easy, there is no problem to solve. Normally though, if there were some duplicates, we'd drop the extra rows."
      ]
    },
    {
      "cell_type": "markdown",
      "metadata": {
        "id": "9lX7YbHlzoEO"
      },
      "source": [
        "# 2.&nbsp; `.info()`"
      ]
    },
    {
      "cell_type": "code",
      "execution_count": null,
      "metadata": {
        "id": "_AAsMOTS2L9r"
      },
      "outputs": [],
      "source": [
        "orders.info()"
      ]
    },
    {
      "cell_type": "markdown",
      "metadata": {
        "id": "Txm3Bv952UCb"
      },
      "source": [
        "* `total_paid` has 5 missing values\n",
        "* `created_date` should become datetime datatype"
      ]
    },
    {
      "cell_type": "code",
      "execution_count": null,
      "metadata": {
        "id": "kvDA-z032Rm2"
      },
      "outputs": [],
      "source": [
        "orderlines.info()"
      ]
    },
    {
      "cell_type": "markdown",
      "metadata": {
        "id": "iLSpYm1G2sPD"
      },
      "source": [
        "* `date` should be a datetime datatype\n",
        "* `unit_price` should be a float datatype"
      ]
    },
    {
      "cell_type": "markdown",
      "metadata": {
        "id": "MlwJt5c-wiQh"
      },
      "source": [
        "## 3.&nbsp; Missing values"
      ]
    },
    {
      "cell_type": "markdown",
      "metadata": {
        "id": "63eKHGzJwkuT"
      },
      "source": [
        "### 3.1.&nbsp; Orders\n",
        "* `total_paid` has 5 missing values"
      ]
    },
    {
      "cell_type": "code",
      "execution_count": null,
      "metadata": {
        "id": "Yh81k3ppwl37"
      },
      "outputs": [],
      "source": [
        "print(f\"5 missing values represents {((orders.total_paid.isna().sum() / orders.shape[0])*100).round(5)}% of the rows in our DataFrame\")"
      ]
    },
    {
      "cell_type": "markdown",
      "metadata": {
        "id": "eMW6J-4v_iVM"
      },
      "source": [
        "As there is such a tiny amount of missing values, we will simply delete these rows, as we have enough data without them."
      ]
    },
    {
      "cell_type": "code",
      "execution_count": null,
      "metadata": {
        "id": "ohcl2Pb2B_Ch"
      },
      "outputs": [],
      "source": [
        "orders = orders.loc[~orders.total_paid.isna(), :]"
      ]
    },
    {
      "cell_type": "markdown",
      "metadata": {
        "id": "AIWAR4xI_3jv"
      },
      "source": [
        "Should you have a significant number of missing values in the future, you have a choice: \n",
        "+ you can impute the values\n",
        "+ you can take the values from other DataFrames, if they are present there\n",
        "+ you can delete the values\n",
        "+ or any number of other creative solutions\n",
        "\n",
        "Please, always consider how much time you have on your project, and what impact your method of choice will have on your final assesment."
      ]
    },
    {
      "cell_type": "markdown",
      "metadata": {
        "id": "nziIE3hbwmNa"
      },
      "source": [
        "### 3.2.&nbsp; Orderlines\n",
        "There are no missing values in `orderlines`"
      ]
    },
    {
      "cell_type": "markdown",
      "metadata": {
        "id": "_feog1aCwosJ"
      },
      "source": [
        "## 4.&nbsp; Datatypes"
      ]
    },
    {
      "cell_type": "markdown",
      "metadata": {
        "id": "wCJyQYkOwrBE"
      },
      "source": [
        "### 4.1.&nbsp; Orders\n",
        "* `created_date` should become datetime datatype"
      ]
    },
    {
      "cell_type": "code",
      "execution_count": null,
      "metadata": {
        "id": "cF9roGlewr8j"
      },
      "outputs": [],
      "source": [
        "orders[\"created_date\"] = pd.to_datetime(orders[\"created_date\"])"
      ]
    },
    {
      "cell_type": "markdown",
      "metadata": {
        "id": "osvynBTNwsin"
      },
      "source": [
        "### 4.1.&nbsp; Orderlines\n",
        "* `date` should be a datetime datatype\n",
        "* `unit_price` should be a float datatype"
      ]
    },
    {
      "cell_type": "markdown",
      "metadata": {
        "id": "PJcuKn8K06Yd"
      },
      "source": [
        "#### 4.1.1.&nbsp; `date`"
      ]
    },
    {
      "cell_type": "code",
      "execution_count": null,
      "metadata": {
        "id": "FnXgRKERwtvS"
      },
      "outputs": [],
      "source": [
        "orderlines[\"date\"] = pd.to_datetime(orderlines[\"date\"])"
      ]
    },
    {
      "cell_type": "markdown",
      "metadata": {
        "id": "F7i78NDY0-oF"
      },
      "source": [
        "#### 4.1.2.&nbsp;`unit_price`"
      ]
    },
    {
      "cell_type": "code",
      "execution_count": null,
      "metadata": {
        "id": "iOFBNmuRDuGU"
      },
      "outputs": [],
      "source": [
        "orderlines[\"unit_price\"] = pd.to_numeric(orderlines[\"unit_price\"])"
      ]
    },
    {
      "cell_type": "markdown",
      "metadata": {
        "id": "xEqhP5RFSmRi"
      },
      "source": [
        "As you can see when we try to convert `unit_price` to a numerical datatype, we receive a `ValueError` telling us that pandas doesn't understand the number `1.137.99`. This is probably because numbers cannot have 2 decimal points. Let's see if there are any other numbers like this."
      ]
    },
    {
      "cell_type": "code",
      "execution_count": null,
      "metadata": {
        "id": "ONy-oCt0SkrR"
      },
      "outputs": [],
      "source": [
        "orderlines.unit_price..str.contains(\"\\d+\\.\\d+\\.\\d+\").value_counts()"
      ]
    },
    {
      "cell_type": "markdown",
      "metadata": {
        "id": "HSUPvFJU6Jv-"
      },
      "source": [
        "Looks like over 36000 rows in `orderlines` are affected by this problem. Let's work out how much that is as a percentage of our total data."
      ]
    },
    {
      "cell_type": "code",
      "execution_count": null,
      "metadata": {
        "id": "r75Rm1EgVjpi"
      },
      "outputs": [],
      "source": [
        "two_dot_percentage = ((orderlines.unit_price.str.contains(\"\\d+\\.\\d+\\.\\d+\").value_counts()[1] / orderlines.shape[0])*100).round(2)\n",
        "print(f\"The 2 dot problem represents {two_dot_percentage}% of the rows in our DataFrame\")"
      ]
    },
    {
      "cell_type": "markdown",
      "metadata": {
        "id": "5Kp9_4pqeu5J"
      },
      "source": [
        "This is a bit of a tricky decision as 12.3% is a significant amount of our data... and we might even end up losing a larger portion of our data than this too. For the moment we will delete the rows as we only have 2 weeks for this project and I'd like some quick, accurate results to show. If we have time at the end, we can come back and investigate this problem further, maybe there's a solution?\n",
        "\n",
        "Each row of `orderlines` represents a product in an order. For example, if order number 175 contained 3 seperate products, then order 175 would have 3 rows in `orderlines`, one row for each of the products. If 2 of those products have 'normal' prices (14.99, 15.85) and 1 has a price with 2 decimal points (1.137.99), we need to remove the whole order and not just the affected row. If we only remove the row with 2 decimal places then any later analysis about products and prices could be misleading.\n",
        "\n",
        "We therefore need to find the order numbers associated with the rows that have 2 decimal points, and then remove all the associated rows."
      ]
    },
    {
      "cell_type": "code",
      "execution_count": null,
      "metadata": {
        "id": "wQnSe-n1WCqv"
      },
      "outputs": [],
      "source": [
        "two_dot_order_ids_list = orderlines.loc[orderlines.unit_price.str.contains(\"\\d+\\.\\d+\\.\\d+\"), \"id_order\"]\n",
        "orderlines = orderlines.loc[~orderlines.id_order.isin(two_dot_order_ids_list)]"
      ]
    },
    {
      "cell_type": "code",
      "execution_count": null,
      "metadata": {
        "id": "k-GLzXuV0Ioj"
      },
      "outputs": [],
      "source": [
        "orderlines.shape[0]"
      ]
    },
    {
      "cell_type": "markdown",
      "metadata": {
        "id": "2pd5t4110iz3"
      },
      "source": [
        "We still have 216250 rows in orderlines to work with. This should be more than enough for our evaluation.\n",
        "\n",
        "Now that all of the 2 decimal point prices have been removed, let's try again to convert the column `unit_price` to the correct datatype."
      ]
    },
    {
      "cell_type": "code",
      "execution_count": null,
      "metadata": {
        "id": "Q4eDTAPs1HMZ"
      },
      "outputs": [],
      "source": [
        "orderlines[\"unit_price\"] = pd.to_numeric(orderlines[\"unit_price\"])"
      ]
    },
    {
      "cell_type": "markdown",
      "metadata": {
        "id": "sBudIQLm6oJQ"
      },
      "source": [
        "It worked perfectly"
      ]
    },
    {
      "cell_type": "markdown",
      "metadata": {
        "id": "1zGAzgIX8_-D"
      },
      "source": [
        "# Challenge: Clean the `products` DataFrame\n",
        "Now it's your turn. Use the lessons you learnt above and clean the products DataFrame. You don't have to copy exactly what we did. Think about the consequences of your actions, sometimes it is ok to delete rows, other times you may wish to come up with more creative solutions."
      ]
    },
    {
      "cell_type": "code",
      "execution_count": 3,
      "metadata": {
        "id": "LtYqdFsa9KTS"
      },
      "outputs": [],
      "source": [
        "# products.csv\n",
        "path = \"C:/Users/ruben/WBS/Data_Science/Section_3/Data_Cleaning_Storytelling_with_Pandas_and_Matplotlib/data/raw_data/products.csv\"\n",
        "products = pd.read_csv(path)"
      ]
    },
    {
      "cell_type": "code",
      "execution_count": null,
      "metadata": {
        "id": "UW3zYoni9Vcy"
      },
      "outputs": [],
      "source": [
        "# your code here"
      ]
    },
    {
      "cell_type": "markdown",
      "metadata": {
        "id": "DyTfC-WY-IWe"
      },
      "source": [
        "### Look for Duplicates"
      ]
    },
    {
      "cell_type": "code",
      "execution_count": null,
      "metadata": {
        "id": "MXZXRvUa_GTW"
      },
      "outputs": [],
      "source": [
        "# your code here"
      ]
    },
    {
      "cell_type": "markdown",
      "metadata": {
        "id": "XTGqkqtm--ln"
      },
      "source": [
        "### Look for Missing values\n"
      ]
    },
    {
      "cell_type": "code",
      "execution_count": null,
      "metadata": {
        "id": "_LrT0QGlkKi-"
      },
      "outputs": [],
      "source": [
        "# your code here"
      ]
    },
    {
      "cell_type": "markdown",
      "metadata": {
        "id": "4x6xeGDu_B0N"
      },
      "source": [
        "### Check / Change Data types"
      ]
    },
    {
      "cell_type": "code",
      "execution_count": null,
      "metadata": {
        "id": "3evkDaafvFUq"
      },
      "outputs": [],
      "source": [
        "# your code here"
      ]
    }
  ],
  "metadata": {
    "colab": {
      "provenance": []
    },
    "kernelspec": {
      "display_name": "base",
      "language": "python",
      "name": "python3"
    },
    "language_info": {
      "codemirror_mode": {
        "name": "ipython",
        "version": 3
      },
      "file_extension": ".py",
      "mimetype": "text/x-python",
      "name": "python",
      "nbconvert_exporter": "python",
      "pygments_lexer": "ipython3",
      "version": "3.9.12"
    },
    "vscode": {
      "interpreter": {
        "hash": "704aea7029d59a45433ae3b663f7cccf597e59967cc6a516676256c90bebdeef"
      }
    }
  },
  "nbformat": 4,
  "nbformat_minor": 0
}
