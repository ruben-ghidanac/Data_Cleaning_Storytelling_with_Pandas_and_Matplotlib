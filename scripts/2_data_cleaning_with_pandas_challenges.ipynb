{
  "cells": [
    {
      "cell_type": "markdown",
      "metadata": {
        "id": "kYo4UvcCvkUs"
      },
      "source": [
        "# Data Cleaning with Pandas\n",
        "\n",
        "In this notebook we'll go through a few basic data cleaning steps that should be performed on all new datasets where necessary.\n",
        "\n",
        "We'll go through the process with both the `orders` and `orderlines` datasets. You can then practice these skills by cleaning the `products` dataset yourself"
      ]
    },
    {
      "cell_type": "code",
      "execution_count": 1,
      "metadata": {
        "id": "FgRIdUs1vcZ8"
      },
      "outputs": [],
      "source": [
        "import pandas as pd"
      ]
    },
    {
      "cell_type": "code",
      "execution_count": 2,
      "metadata": {
        "id": "_87JoNgVviOG"
      },
      "outputs": [],
      "source": [
        "# orders.csv\n",
        "path = \"C:/Users/ruben/WBS/Data_Science/Section_3/Data_Cleaning_Storytelling_with_Pandas_and_Matplotlib/data/raw_data/orders.csv\"\n",
        "orders = pd.read_csv(path)\n",
        "\n",
        "# orderlines.csv\n",
        "path = \"C:/Users/ruben/WBS/Data_Science/Section_3/Data_Cleaning_Storytelling_with_Pandas_and_Matplotlib/data/raw_data/orderlines.csv\"\n",
        "orderlines = pd.read_csv(path)"
      ]
    },
    {
      "cell_type": "markdown",
      "metadata": {
        "id": "fVLitYX1yhc6"
      },
      "source": [
        "One of the best ways to begin data cleaning is by exploring using `.info()`. This will tell us:\n",
        "* The shape of the DataFrame\n",
        "* The names of the columns\n",
        "* If there are any missing values\n",
        "* The datatypes of the columns\n",
        "\n",
        "By exploring the missing values and correcting any incorrect datatypes, we often come across inconsistencies in our data.\n",
        "\n",
        "Beyond this, we should also have a **check for any duplicate rows**. \n",
        "\n",
        "Let's first deal with the duplicates, as it's nice and easy, then we'll explore what `.info()` has to tell us."
      ]
    },
    {
      "cell_type": "markdown",
      "metadata": {
        "id": "036ciQ6rwBJm"
      },
      "source": [
        "## 1.&nbsp; Duplicates\n",
        "We can check for duplicates using the pandas [.duplicated()](https://pandas.pydata.org/docs/reference/api/pandas.DataFrame.duplicated.html) method. \n",
        "\n",
        "We can then delete these rows, if we wish, using [.drop_duplicates()](https://pandas.pydata.org/docs/reference/api/pandas.DataFrame.drop_duplicates.html)"
      ]
    },
    {
      "cell_type": "code",
      "execution_count": 4,
      "metadata": {
        "id": "6dVkoUu7wC-b"
      },
      "outputs": [
        {
          "data": {
            "text/plain": [
              "0"
            ]
          },
          "execution_count": 4,
          "metadata": {},
          "output_type": "execute_result"
        }
      ],
      "source": [
        "# orders\n",
        "orders.duplicated().sum()"
      ]
    },
    {
      "cell_type": "code",
      "execution_count": 5,
      "metadata": {
        "id": "iaeAQB_3whli"
      },
      "outputs": [
        {
          "data": {
            "text/plain": [
              "0"
            ]
          },
          "execution_count": 5,
          "metadata": {},
          "output_type": "execute_result"
        }
      ],
      "source": [
        "# orderlines\n",
        "orderlines.duplicated().sum()"
      ]
    },
    {
      "cell_type": "markdown",
      "metadata": {
        "id": "3LbnJquF0vRe"
      },
      "source": [
        "We have no duplicate rows in either DataFrame. Easy, there is no problem to solve. Normally though, if there were some duplicates, we'd drop the extra rows."
      ]
    },
    {
      "cell_type": "markdown",
      "metadata": {
        "id": "9lX7YbHlzoEO"
      },
      "source": [
        "# 2.&nbsp; `.info()`"
      ]
    },
    {
      "cell_type": "code",
      "execution_count": 6,
      "metadata": {
        "id": "_AAsMOTS2L9r"
      },
      "outputs": [
        {
          "name": "stdout",
          "output_type": "stream",
          "text": [
            "<class 'pandas.core.frame.DataFrame'>\n",
            "RangeIndex: 226909 entries, 0 to 226908\n",
            "Data columns (total 4 columns):\n",
            " #   Column        Non-Null Count   Dtype  \n",
            "---  ------        --------------   -----  \n",
            " 0   order_id      226909 non-null  int64  \n",
            " 1   created_date  226909 non-null  object \n",
            " 2   total_paid    226904 non-null  float64\n",
            " 3   state         226909 non-null  object \n",
            "dtypes: float64(1), int64(1), object(2)\n",
            "memory usage: 6.9+ MB\n"
          ]
        }
      ],
      "source": [
        "orders.info()"
      ]
    },
    {
      "cell_type": "markdown",
      "metadata": {
        "id": "Txm3Bv952UCb"
      },
      "source": [
        "* `total_paid` has 5 missing values\n",
        "* `created_date` should become datetime datatype"
      ]
    },
    {
      "cell_type": "code",
      "execution_count": 7,
      "metadata": {
        "id": "kvDA-z032Rm2"
      },
      "outputs": [
        {
          "name": "stdout",
          "output_type": "stream",
          "text": [
            "<class 'pandas.core.frame.DataFrame'>\n",
            "RangeIndex: 293983 entries, 0 to 293982\n",
            "Data columns (total 7 columns):\n",
            " #   Column            Non-Null Count   Dtype \n",
            "---  ------            --------------   ----- \n",
            " 0   id                293983 non-null  int64 \n",
            " 1   id_order          293983 non-null  int64 \n",
            " 2   product_id        293983 non-null  int64 \n",
            " 3   product_quantity  293983 non-null  int64 \n",
            " 4   sku               293983 non-null  object\n",
            " 5   unit_price        293983 non-null  object\n",
            " 6   date              293983 non-null  object\n",
            "dtypes: int64(4), object(3)\n",
            "memory usage: 15.7+ MB\n"
          ]
        }
      ],
      "source": [
        "orderlines.info()"
      ]
    },
    {
      "cell_type": "markdown",
      "metadata": {
        "id": "iLSpYm1G2sPD"
      },
      "source": [
        "* `date` should be a datetime datatype\n",
        "* `unit_price` should be a float datatype"
      ]
    },
    {
      "cell_type": "markdown",
      "metadata": {
        "id": "MlwJt5c-wiQh"
      },
      "source": [
        "## 3.&nbsp; Missing values"
      ]
    },
    {
      "cell_type": "markdown",
      "metadata": {
        "id": "63eKHGzJwkuT"
      },
      "source": [
        "### 3.1.&nbsp; Orders\n",
        "* `total_paid` has 5 missing values"
      ]
    },
    {
      "cell_type": "code",
      "execution_count": 8,
      "metadata": {
        "id": "Yh81k3ppwl37"
      },
      "outputs": [
        {
          "name": "stdout",
          "output_type": "stream",
          "text": [
            "5 missing values represents 0.0022% of the rows in our DataFrame\n"
          ]
        }
      ],
      "source": [
        "print(f\"5 missing values represents {((orders.total_paid.isna().sum() / orders.shape[0])*100).round(5)}% of the rows in our DataFrame\")"
      ]
    },
    {
      "cell_type": "markdown",
      "metadata": {
        "id": "eMW6J-4v_iVM"
      },
      "source": [
        "As there is such a tiny amount of missing values, we will simply delete these rows, as we have enough data without them."
      ]
    },
    {
      "cell_type": "code",
      "execution_count": 9,
      "metadata": {
        "id": "ohcl2Pb2B_Ch"
      },
      "outputs": [],
      "source": [
        "orders = orders.loc[~orders.total_paid.isna(), :]"
      ]
    },
    {
      "cell_type": "markdown",
      "metadata": {
        "id": "AIWAR4xI_3jv"
      },
      "source": [
        "Should you have a significant number of missing values in the future, you have a choice: \n",
        "+ you can impute the values\n",
        "+ you can take the values from other DataFrames, if they are present there\n",
        "+ you can delete the values\n",
        "+ or any number of other creative solutions\n",
        "\n",
        "Please, always consider how much time you have on your project, and what impact your method of choice will have on your final assesment."
      ]
    },
    {
      "cell_type": "markdown",
      "metadata": {
        "id": "nziIE3hbwmNa"
      },
      "source": [
        "### 3.2.&nbsp; Orderlines\n",
        "There are no missing values in `orderlines`"
      ]
    },
    {
      "cell_type": "markdown",
      "metadata": {
        "id": "_feog1aCwosJ"
      },
      "source": [
        "## 4.&nbsp; Datatypes"
      ]
    },
    {
      "cell_type": "markdown",
      "metadata": {
        "id": "wCJyQYkOwrBE"
      },
      "source": [
        "### 4.1.&nbsp; Orders\n",
        "* `created_date` should become datetime datatype"
      ]
    },
    {
      "cell_type": "code",
      "execution_count": 10,
      "metadata": {
        "id": "cF9roGlewr8j"
      },
      "outputs": [],
      "source": [
        "orders[\"created_date\"] = pd.to_datetime(orders[\"created_date\"])"
      ]
    },
    {
      "cell_type": "markdown",
      "metadata": {
        "id": "osvynBTNwsin"
      },
      "source": [
        "### 4.1.&nbsp; Orderlines\n",
        "* `date` should be a datetime datatype\n",
        "* `unit_price` should be a float datatype"
      ]
    },
    {
      "cell_type": "markdown",
      "metadata": {
        "id": "PJcuKn8K06Yd"
      },
      "source": [
        "#### 4.1.1.&nbsp; `date`"
      ]
    },
    {
      "cell_type": "code",
      "execution_count": 11,
      "metadata": {
        "id": "FnXgRKERwtvS"
      },
      "outputs": [],
      "source": [
        "orderlines[\"date\"] = pd.to_datetime(orderlines[\"date\"])"
      ]
    },
    {
      "cell_type": "markdown",
      "metadata": {
        "id": "F7i78NDY0-oF"
      },
      "source": [
        "#### 4.1.2.&nbsp;`unit_price`"
      ]
    },
    {
      "cell_type": "code",
      "execution_count": 12,
      "metadata": {
        "id": "iOFBNmuRDuGU"
      },
      "outputs": [
        {
          "ename": "ValueError",
          "evalue": "Unable to parse string \"1.137.99\" at position 6",
          "output_type": "error",
          "traceback": [
            "\u001b[1;31m---------------------------------------------------------------------------\u001b[0m",
            "\u001b[1;31mValueError\u001b[0m                                Traceback (most recent call last)",
            "File \u001b[1;32mc:\\Users\\ruben\\anaconda3\\lib\\site-packages\\pandas\\_libs\\lib.pyx:2363\u001b[0m, in \u001b[0;36mpandas._libs.lib.maybe_convert_numeric\u001b[1;34m()\u001b[0m\n",
            "\u001b[1;31mValueError\u001b[0m: Unable to parse string \"1.137.99\"",
            "\nDuring handling of the above exception, another exception occurred:\n",
            "\u001b[1;31mValueError\u001b[0m                                Traceback (most recent call last)",
            "\u001b[1;32mc:\\Users\\ruben\\WBS\\Data_Science\\Section_3\\Data_Cleaning_Storytelling_with_Pandas_and_Matplotlib\\scripts\\2_data_cleaning_with_pandas_challenges.ipynb Cell 28\u001b[0m in \u001b[0;36m<cell line: 1>\u001b[1;34m()\u001b[0m\n\u001b[1;32m----> <a href='vscode-notebook-cell:/c%3A/Users/ruben/WBS/Data_Science/Section_3/Data_Cleaning_Storytelling_with_Pandas_and_Matplotlib/scripts/2_data_cleaning_with_pandas_challenges.ipynb#X36sZmlsZQ%3D%3D?line=0'>1</a>\u001b[0m orderlines[\u001b[39m\"\u001b[39m\u001b[39munit_price\u001b[39m\u001b[39m\"\u001b[39m] \u001b[39m=\u001b[39m pd\u001b[39m.\u001b[39;49mto_numeric(orderlines[\u001b[39m\"\u001b[39;49m\u001b[39munit_price\u001b[39;49m\u001b[39m\"\u001b[39;49m])\n",
            "File \u001b[1;32mc:\\Users\\ruben\\anaconda3\\lib\\site-packages\\pandas\\core\\tools\\numeric.py:185\u001b[0m, in \u001b[0;36mto_numeric\u001b[1;34m(arg, errors, downcast)\u001b[0m\n\u001b[0;32m    183\u001b[0m coerce_numeric \u001b[39m=\u001b[39m errors \u001b[39mnot\u001b[39;00m \u001b[39min\u001b[39;00m (\u001b[39m\"\u001b[39m\u001b[39mignore\u001b[39m\u001b[39m\"\u001b[39m, \u001b[39m\"\u001b[39m\u001b[39mraise\u001b[39m\u001b[39m\"\u001b[39m)\n\u001b[0;32m    184\u001b[0m \u001b[39mtry\u001b[39;00m:\n\u001b[1;32m--> 185\u001b[0m     values, _ \u001b[39m=\u001b[39m lib\u001b[39m.\u001b[39;49mmaybe_convert_numeric(\n\u001b[0;32m    186\u001b[0m         values, \u001b[39mset\u001b[39;49m(), coerce_numeric\u001b[39m=\u001b[39;49mcoerce_numeric\n\u001b[0;32m    187\u001b[0m     )\n\u001b[0;32m    188\u001b[0m \u001b[39mexcept\u001b[39;00m (\u001b[39mValueError\u001b[39;00m, \u001b[39mTypeError\u001b[39;00m):\n\u001b[0;32m    189\u001b[0m     \u001b[39mif\u001b[39;00m errors \u001b[39m==\u001b[39m \u001b[39m\"\u001b[39m\u001b[39mraise\u001b[39m\u001b[39m\"\u001b[39m:\n",
            "File \u001b[1;32mc:\\Users\\ruben\\anaconda3\\lib\\site-packages\\pandas\\_libs\\lib.pyx:2405\u001b[0m, in \u001b[0;36mpandas._libs.lib.maybe_convert_numeric\u001b[1;34m()\u001b[0m\n",
            "\u001b[1;31mValueError\u001b[0m: Unable to parse string \"1.137.99\" at position 6"
          ]
        }
      ],
      "source": [
        "orderlines[\"unit_price\"] = pd.to_numeric(orderlines[\"unit_price\"])"
      ]
    },
    {
      "cell_type": "markdown",
      "metadata": {
        "id": "xEqhP5RFSmRi"
      },
      "source": [
        "As you can see when we try to convert `unit_price` to a numerical datatype, we receive a `ValueError` telling us that pandas doesn't understand the number `1.137.99`. This is probably because numbers cannot have 2 decimal points. Let's see if there are any other numbers like this."
      ]
    },
    {
      "cell_type": "code",
      "execution_count": 14,
      "metadata": {
        "id": "ONy-oCt0SkrR"
      },
      "outputs": [
        {
          "data": {
            "text/plain": [
              "False    257814\n",
              "True      36169\n",
              "Name: unit_price, dtype: int64"
            ]
          },
          "execution_count": 14,
          "metadata": {},
          "output_type": "execute_result"
        }
      ],
      "source": [
        "orderlines.unit_price.str.contains(\"\\d+\\.\\d+\\.\\d+\").value_counts()"
      ]
    },
    {
      "cell_type": "markdown",
      "metadata": {
        "id": "HSUPvFJU6Jv-"
      },
      "source": [
        "Looks like over 36000 rows in `orderlines` are affected by this problem. Let's work out how much that is as a percentage of our total data."
      ]
    },
    {
      "cell_type": "code",
      "execution_count": 15,
      "metadata": {
        "id": "r75Rm1EgVjpi"
      },
      "outputs": [
        {
          "name": "stdout",
          "output_type": "stream",
          "text": [
            "The 2 dot problem represents 12.3% of the rows in our DataFrame\n"
          ]
        }
      ],
      "source": [
        "two_dot_percentage = ((orderlines.unit_price.str.contains(\"\\d+\\.\\d+\\.\\d+\").value_counts()[1] / orderlines.shape[0])*100).round(2)\n",
        "print(f\"The 2 dot problem represents {two_dot_percentage}% of the rows in our DataFrame\")"
      ]
    },
    {
      "cell_type": "markdown",
      "metadata": {
        "id": "5Kp9_4pqeu5J"
      },
      "source": [
        "This is a bit of a tricky decision as 12.3% is a significant amount of our data... and we might even end up losing a larger portion of our data than this too. For the moment we will delete the rows as we only have 2 weeks for this project and I'd like some quick, accurate results to show. If we have time at the end, we can come back and investigate this problem further, maybe there's a solution?\n",
        "\n",
        "Each row of `orderlines` represents a product in an order. For example, if order number 175 contained 3 seperate products, then order 175 would have 3 rows in `orderlines`, one row for each of the products. If 2 of those products have 'normal' prices (14.99, 15.85) and 1 has a price with 2 decimal points (1.137.99), we need to remove the whole order and not just the affected row. If we only remove the row with 2 decimal places then any later analysis about products and prices could be misleading.\n",
        "\n",
        "We therefore need to find the order numbers associated with the rows that have 2 decimal points, and then remove all the associated rows."
      ]
    },
    {
      "cell_type": "code",
      "execution_count": 16,
      "metadata": {
        "id": "wQnSe-n1WCqv"
      },
      "outputs": [],
      "source": [
        "two_dot_order_ids_list = orderlines.loc[orderlines.unit_price.str.contains(\"\\d+\\.\\d+\\.\\d+\"), \"id_order\"]\n",
        "orderlines = orderlines.loc[~orderlines.id_order.isin(two_dot_order_ids_list)]"
      ]
    },
    {
      "cell_type": "code",
      "execution_count": 17,
      "metadata": {
        "id": "k-GLzXuV0Ioj"
      },
      "outputs": [
        {
          "data": {
            "text/plain": [
              "216250"
            ]
          },
          "execution_count": 17,
          "metadata": {},
          "output_type": "execute_result"
        }
      ],
      "source": [
        "orderlines.shape[0]"
      ]
    },
    {
      "cell_type": "markdown",
      "metadata": {
        "id": "2pd5t4110iz3"
      },
      "source": [
        "We still have 216250 rows in orderlines to work with. This should be more than enough for our evaluation.\n",
        "\n",
        "Now that all of the 2 decimal point prices have been removed, let's try again to convert the column `unit_price` to the correct datatype."
      ]
    },
    {
      "cell_type": "code",
      "execution_count": 19,
      "metadata": {
        "id": "Q4eDTAPs1HMZ"
      },
      "outputs": [],
      "source": [
        "orderlines[\"unit_price\"] = pd.to_numeric(orderlines[\"unit_price\"])"
      ]
    },
    {
      "cell_type": "markdown",
      "metadata": {
        "id": "sBudIQLm6oJQ"
      },
      "source": [
        "It worked perfectly"
      ]
    },
    {
      "cell_type": "markdown",
      "metadata": {
        "id": "1zGAzgIX8_-D"
      },
      "source": [
        "# Challenge: Clean the `products` DataFrame\n",
        "Now it's your turn. Use the lessons you learnt above and clean the products DataFrame. You don't have to copy exactly what we did. Think about the consequences of your actions, sometimes it is ok to delete rows, other times you may wish to come up with more creative solutions."
      ]
    },
    {
      "cell_type": "code",
      "execution_count": 3,
      "metadata": {
        "id": "LtYqdFsa9KTS"
      },
      "outputs": [],
      "source": [
        "# products.csv\n",
        "path = \"C:/Users/ruben/WBS/Data_Science/Section_3/Data_Cleaning_Storytelling_with_Pandas_and_Matplotlib/data/raw_data/products.csv\"\n",
        "products = pd.read_csv(path)"
      ]
    },
    {
      "cell_type": "code",
      "execution_count": 20,
      "metadata": {
        "id": "UW3zYoni9Vcy"
      },
      "outputs": [
        {
          "data": {
            "text/html": [
              "<div>\n",
              "<style scoped>\n",
              "    .dataframe tbody tr th:only-of-type {\n",
              "        vertical-align: middle;\n",
              "    }\n",
              "\n",
              "    .dataframe tbody tr th {\n",
              "        vertical-align: top;\n",
              "    }\n",
              "\n",
              "    .dataframe thead th {\n",
              "        text-align: right;\n",
              "    }\n",
              "</style>\n",
              "<table border=\"1\" class=\"dataframe\">\n",
              "  <thead>\n",
              "    <tr style=\"text-align: right;\">\n",
              "      <th></th>\n",
              "      <th>sku</th>\n",
              "      <th>name</th>\n",
              "      <th>desc</th>\n",
              "      <th>price</th>\n",
              "      <th>promo_price</th>\n",
              "      <th>in_stock</th>\n",
              "      <th>type</th>\n",
              "    </tr>\n",
              "  </thead>\n",
              "  <tbody>\n",
              "    <tr>\n",
              "      <th>0</th>\n",
              "      <td>RAI0007</td>\n",
              "      <td>Silver Rain Design mStand Support</td>\n",
              "      <td>Aluminum support compatible with all MacBook</td>\n",
              "      <td>59.99</td>\n",
              "      <td>499.899</td>\n",
              "      <td>1</td>\n",
              "      <td>8696</td>\n",
              "    </tr>\n",
              "    <tr>\n",
              "      <th>1</th>\n",
              "      <td>APP0023</td>\n",
              "      <td>Apple Mac Keyboard Keypad Spanish</td>\n",
              "      <td>USB ultrathin keyboard Apple Mac Spanish.</td>\n",
              "      <td>59</td>\n",
              "      <td>589.996</td>\n",
              "      <td>0</td>\n",
              "      <td>13855401</td>\n",
              "    </tr>\n",
              "    <tr>\n",
              "      <th>2</th>\n",
              "      <td>APP0025</td>\n",
              "      <td>Mighty Mouse Apple Mouse for Mac</td>\n",
              "      <td>mouse Apple USB cable.</td>\n",
              "      <td>59</td>\n",
              "      <td>569.898</td>\n",
              "      <td>0</td>\n",
              "      <td>1387</td>\n",
              "    </tr>\n",
              "    <tr>\n",
              "      <th>3</th>\n",
              "      <td>APP0072</td>\n",
              "      <td>Apple Dock to USB Cable iPhone and iPod white</td>\n",
              "      <td>IPhone dock and USB Cable Apple iPod.</td>\n",
              "      <td>25</td>\n",
              "      <td>229.997</td>\n",
              "      <td>0</td>\n",
              "      <td>1230</td>\n",
              "    </tr>\n",
              "    <tr>\n",
              "      <th>4</th>\n",
              "      <td>KIN0007</td>\n",
              "      <td>Mac Memory Kingston 2GB 667MHz DDR2 SO-DIMM</td>\n",
              "      <td>2GB RAM Mac mini and iMac (2006/07) MacBook Pr...</td>\n",
              "      <td>34.99</td>\n",
              "      <td>31.99</td>\n",
              "      <td>1</td>\n",
              "      <td>1364</td>\n",
              "    </tr>\n",
              "  </tbody>\n",
              "</table>\n",
              "</div>"
            ],
            "text/plain": [
              "       sku                                           name  \\\n",
              "0  RAI0007              Silver Rain Design mStand Support   \n",
              "1  APP0023              Apple Mac Keyboard Keypad Spanish   \n",
              "2  APP0025               Mighty Mouse Apple Mouse for Mac   \n",
              "3  APP0072  Apple Dock to USB Cable iPhone and iPod white   \n",
              "4  KIN0007    Mac Memory Kingston 2GB 667MHz DDR2 SO-DIMM   \n",
              "\n",
              "                                                desc  price promo_price  \\\n",
              "0       Aluminum support compatible with all MacBook  59.99     499.899   \n",
              "1          USB ultrathin keyboard Apple Mac Spanish.     59     589.996   \n",
              "2                             mouse Apple USB cable.     59     569.898   \n",
              "3              IPhone dock and USB Cable Apple iPod.     25     229.997   \n",
              "4  2GB RAM Mac mini and iMac (2006/07) MacBook Pr...  34.99       31.99   \n",
              "\n",
              "   in_stock      type  \n",
              "0         1      8696  \n",
              "1         0  13855401  \n",
              "2         0      1387  \n",
              "3         0      1230  \n",
              "4         1      1364  "
            ]
          },
          "execution_count": 20,
          "metadata": {},
          "output_type": "execute_result"
        }
      ],
      "source": [
        "# your code here\n",
        "products.head()"
      ]
    },
    {
      "cell_type": "code",
      "execution_count": 22,
      "metadata": {},
      "outputs": [
        {
          "name": "stdout",
          "output_type": "stream",
          "text": [
            "<class 'pandas.core.frame.DataFrame'>\n",
            "RangeIndex: 19326 entries, 0 to 19325\n",
            "Data columns (total 7 columns):\n",
            " #   Column       Non-Null Count  Dtype \n",
            "---  ------       --------------  ----- \n",
            " 0   sku          19326 non-null  object\n",
            " 1   name         19326 non-null  object\n",
            " 2   desc         19319 non-null  object\n",
            " 3   price        19280 non-null  object\n",
            " 4   promo_price  19326 non-null  object\n",
            " 5   in_stock     19326 non-null  int64 \n",
            " 6   type         19276 non-null  object\n",
            "dtypes: int64(1), object(6)\n",
            "memory usage: 1.0+ MB\n"
          ]
        }
      ],
      "source": [
        "products.info()"
      ]
    },
    {
      "cell_type": "markdown",
      "metadata": {
        "id": "DyTfC-WY-IWe"
      },
      "source": [
        "### Look for Duplicates"
      ]
    },
    {
      "cell_type": "code",
      "execution_count": 21,
      "metadata": {
        "id": "MXZXRvUa_GTW"
      },
      "outputs": [
        {
          "data": {
            "text/plain": [
              "8746"
            ]
          },
          "execution_count": 21,
          "metadata": {},
          "output_type": "execute_result"
        }
      ],
      "source": [
        "# your code here\n",
        "products.duplicated().sum()"
      ]
    },
    {
      "cell_type": "code",
      "execution_count": 23,
      "metadata": {},
      "outputs": [],
      "source": [
        "products.drop_duplicates(inplace=True)"
      ]
    },
    {
      "cell_type": "code",
      "execution_count": 24,
      "metadata": {},
      "outputs": [
        {
          "data": {
            "text/plain": [
              "0"
            ]
          },
          "execution_count": 24,
          "metadata": {},
          "output_type": "execute_result"
        }
      ],
      "source": [
        "products.duplicated().sum()"
      ]
    },
    {
      "cell_type": "markdown",
      "metadata": {
        "id": "XTGqkqtm--ln"
      },
      "source": [
        "### Look for Missing values\n"
      ]
    },
    {
      "cell_type": "code",
      "execution_count": 27,
      "metadata": {
        "id": "_LrT0QGlkKi-"
      },
      "outputs": [
        {
          "data": {
            "text/plain": [
              "7"
            ]
          },
          "execution_count": 27,
          "metadata": {},
          "output_type": "execute_result"
        }
      ],
      "source": [
        "# your code here\n",
        "products.desc.isna().sum()"
      ]
    },
    {
      "cell_type": "code",
      "execution_count": 28,
      "metadata": {},
      "outputs": [
        {
          "data": {
            "text/plain": [
              "46"
            ]
          },
          "execution_count": 28,
          "metadata": {},
          "output_type": "execute_result"
        }
      ],
      "source": [
        "products.price.isna().sum()"
      ]
    },
    {
      "cell_type": "code",
      "execution_count": 29,
      "metadata": {},
      "outputs": [
        {
          "data": {
            "text/plain": [
              "50"
            ]
          },
          "execution_count": 29,
          "metadata": {},
          "output_type": "execute_result"
        }
      ],
      "source": [
        "products.type.isna().sum()"
      ]
    },
    {
      "attachments": {},
      "cell_type": "markdown",
      "metadata": {},
      "source": [
        "* `desc` has 7 missing values\n",
        "* `price` has 46 missing values\n",
        "* `type` has 50 missing values"
      ]
    },
    {
      "attachments": {},
      "cell_type": "markdown",
      "metadata": {},
      "source": [
        "#### `desc`"
      ]
    },
    {
      "attachments": {},
      "cell_type": "markdown",
      "metadata": {},
      "source": [
        "7 is a very small number to have missing, let's have a closer look"
      ]
    },
    {
      "cell_type": "code",
      "execution_count": 30,
      "metadata": {},
      "outputs": [
        {
          "data": {
            "text/html": [
              "<div>\n",
              "<style scoped>\n",
              "    .dataframe tbody tr th:only-of-type {\n",
              "        vertical-align: middle;\n",
              "    }\n",
              "\n",
              "    .dataframe tbody tr th {\n",
              "        vertical-align: top;\n",
              "    }\n",
              "\n",
              "    .dataframe thead th {\n",
              "        text-align: right;\n",
              "    }\n",
              "</style>\n",
              "<table border=\"1\" class=\"dataframe\">\n",
              "  <thead>\n",
              "    <tr style=\"text-align: right;\">\n",
              "      <th></th>\n",
              "      <th>sku</th>\n",
              "      <th>name</th>\n",
              "      <th>desc</th>\n",
              "      <th>price</th>\n",
              "      <th>promo_price</th>\n",
              "      <th>in_stock</th>\n",
              "      <th>type</th>\n",
              "    </tr>\n",
              "  </thead>\n",
              "  <tbody>\n",
              "    <tr>\n",
              "      <th>16126</th>\n",
              "      <td>WDT0211-A</td>\n",
              "      <td>Open - Purple 2TB WD 35 \"PC Security Mac hard ...</td>\n",
              "      <td>NaN</td>\n",
              "      <td>107</td>\n",
              "      <td>814.659</td>\n",
              "      <td>0</td>\n",
              "      <td>1298</td>\n",
              "    </tr>\n",
              "    <tr>\n",
              "      <th>16128</th>\n",
              "      <td>APP1622-A</td>\n",
              "      <td>Open - Apple Smart Keyboard Pro Keyboard Folio...</td>\n",
              "      <td>NaN</td>\n",
              "      <td>1.568.206</td>\n",
              "      <td>1.568.206</td>\n",
              "      <td>0</td>\n",
              "      <td>1298</td>\n",
              "    </tr>\n",
              "    <tr>\n",
              "      <th>17843</th>\n",
              "      <td>PAC2334</td>\n",
              "      <td>Synology DS718 + NAS Server | 10GB RAM</td>\n",
              "      <td>NaN</td>\n",
              "      <td>566.35</td>\n",
              "      <td>5.659.896</td>\n",
              "      <td>0</td>\n",
              "      <td>12175397</td>\n",
              "    </tr>\n",
              "    <tr>\n",
              "      <th>18152</th>\n",
              "      <td>KAN0034-A</td>\n",
              "      <td>Open - Kanex USB-C Gigabit Ethernet Adapter Ma...</td>\n",
              "      <td>NaN</td>\n",
              "      <td>29.99</td>\n",
              "      <td>237.925</td>\n",
              "      <td>0</td>\n",
              "      <td>1298</td>\n",
              "    </tr>\n",
              "    <tr>\n",
              "      <th>18490</th>\n",
              "      <td>HTE0025</td>\n",
              "      <td>Hyper Pearl 1600mAh battery Mini USB Mirror an...</td>\n",
              "      <td>NaN</td>\n",
              "      <td>24.99</td>\n",
              "      <td>22.99</td>\n",
              "      <td>1</td>\n",
              "      <td>1515</td>\n",
              "    </tr>\n",
              "    <tr>\n",
              "      <th>18612</th>\n",
              "      <td>OTT0200</td>\n",
              "      <td>OtterBox External Battery Power Pack 20000 mAHr</td>\n",
              "      <td>NaN</td>\n",
              "      <td>79.99</td>\n",
              "      <td>56.99</td>\n",
              "      <td>1</td>\n",
              "      <td>1515</td>\n",
              "    </tr>\n",
              "    <tr>\n",
              "      <th>18690</th>\n",
              "      <td>HOW0001-A</td>\n",
              "      <td>Open - Honeywell thermostat Lyric zonificador ...</td>\n",
              "      <td>NaN</td>\n",
              "      <td>199.99</td>\n",
              "      <td>1.441.174</td>\n",
              "      <td>0</td>\n",
              "      <td>11905404</td>\n",
              "    </tr>\n",
              "  </tbody>\n",
              "</table>\n",
              "</div>"
            ],
            "text/plain": [
              "             sku                                               name desc  \\\n",
              "16126  WDT0211-A  Open - Purple 2TB WD 35 \"PC Security Mac hard ...  NaN   \n",
              "16128  APP1622-A  Open - Apple Smart Keyboard Pro Keyboard Folio...  NaN   \n",
              "17843    PAC2334             Synology DS718 + NAS Server | 10GB RAM  NaN   \n",
              "18152  KAN0034-A  Open - Kanex USB-C Gigabit Ethernet Adapter Ma...  NaN   \n",
              "18490    HTE0025  Hyper Pearl 1600mAh battery Mini USB Mirror an...  NaN   \n",
              "18612    OTT0200    OtterBox External Battery Power Pack 20000 mAHr  NaN   \n",
              "18690  HOW0001-A  Open - Honeywell thermostat Lyric zonificador ...  NaN   \n",
              "\n",
              "           price promo_price  in_stock      type  \n",
              "16126        107     814.659         0      1298  \n",
              "16128  1.568.206   1.568.206         0      1298  \n",
              "17843     566.35   5.659.896         0  12175397  \n",
              "18152      29.99     237.925         0      1298  \n",
              "18490      24.99       22.99         1      1515  \n",
              "18612      79.99       56.99         1      1515  \n",
              "18690     199.99   1.441.174         0  11905404  "
            ]
          },
          "execution_count": 30,
          "metadata": {},
          "output_type": "execute_result"
        }
      ],
      "source": [
        "products.loc[products.desc.isna(), :]"
      ]
    },
    {
      "attachments": {},
      "cell_type": "markdown",
      "metadata": {},
      "source": [
        "We have 2 choices here:\n",
        "* We can quickly and easily remove these rows. \n",
        "* Or, alternatively, the products names here are quite descriptive, so I'm tempted to just copy them to the description column, so that there is a description if we later want utilise this column. I wouldn't recommend this if this DataFrame was the source of truth for our website. But this is not the case here, and I'd we're not faking any information (guessing a price or so), so I'm happy with this option"
      ]
    },
    {
      "cell_type": "code",
      "execution_count": 31,
      "metadata": {},
      "outputs": [],
      "source": [
        "products.loc[products.desc.isna(), \"desc\"] = products.loc[products.desc.isna(), \"name\"]"
      ]
    },
    {
      "attachments": {},
      "cell_type": "markdown",
      "metadata": {},
      "source": [
        "Did you also notice above that we have the dreaded two decimal point problem in both the `price` and `promo_price` columns? We can also see prices with 3 decimal places, prices should have 2 decimal places: this gives us more cause for concern"
      ]
    },
    {
      "attachments": {},
      "cell_type": "markdown",
      "metadata": {},
      "source": [
        "#### `price`"
      ]
    },
    {
      "cell_type": "code",
      "execution_count": 32,
      "metadata": {
        "executionInfo": {
          "elapsed": 9134,
          "status": "aborted",
          "timestamp": 1663236708950,
          "user": {
            "displayName": "Andreea Avramescu",
            "userId": "05330678078528429156"
          },
          "user_tz": -60
        },
        "id": "E3izDYam_gN8"
      },
      "outputs": [
        {
          "data": {
            "text/plain": [
              "46"
            ]
          },
          "execution_count": 32,
          "metadata": {},
          "output_type": "execute_result"
        }
      ],
      "source": [
        "products.price.isna().sum()"
      ]
    },
    {
      "cell_type": "code",
      "execution_count": 33,
      "metadata": {
        "executionInfo": {
          "elapsed": 9133,
          "status": "aborted",
          "timestamp": 1663236708950,
          "user": {
            "displayName": "Andreea Avramescu",
            "userId": "05330678078528429156"
          },
          "user_tz": -60
        },
        "id": "LRknumaMk9gn"
      },
      "outputs": [
        {
          "name": "stdout",
          "output_type": "stream",
          "text": [
            "The missing values in price are 0.43% of all rows in the DataFrame\n"
          ]
        }
      ],
      "source": [
        "print(f\"The missing values in price are {((products.price.isna().sum() / products.shape[0]) * 100).round(2)}% of all rows in the DataFrame\")"
      ]
    },
    {
      "cell_type": "markdown",
      "metadata": {
        "id": "WVAC9q6Zldyu"
      },
      "source": [
        "Let's simply delete these rows to ensure that we can trust the numbers in our final DataFrame. Afterall, the price is very important when investigating discounts."
      ]
    },
    {
      "cell_type": "code",
      "execution_count": 34,
      "metadata": {
        "executionInfo": {
          "elapsed": 9132,
          "status": "aborted",
          "timestamp": 1663236708950,
          "user": {
            "displayName": "Andreea Avramescu",
            "userId": "05330678078528429156"
          },
          "user_tz": -60
        },
        "id": "_LrT0QGlkKi-"
      },
      "outputs": [],
      "source": [
        "products = products.loc[~products.price.isna(), :]"
      ]
    },
    {
      "cell_type": "code",
      "execution_count": 35,
      "metadata": {},
      "outputs": [
        {
          "data": {
            "text/plain": [
              "0"
            ]
          },
          "execution_count": 35,
          "metadata": {},
          "output_type": "execute_result"
        }
      ],
      "source": [
        "products.price.isna().sum()"
      ]
    },
    {
      "cell_type": "markdown",
      "metadata": {
        "id": "4x6xeGDu_B0N"
      },
      "source": [
        "### Check / Change Data types"
      ]
    },
    {
      "attachments": {},
      "cell_type": "markdown",
      "metadata": {
        "id": "4x6xeGDu_B0N"
      },
      "source": [
        "We saw from looking at the output of `.info()` that both `price` and `promo_price` have been stored as objects and not as a numerical datatypes. We also saw while solving other problems that both columns have some prices with 3 decimal places and others with 2 decimal points - the latter will prevent us from converting the datatype to numerical, so first we must investigate and solve these problems."
      ]
    },
    {
      "cell_type": "markdown",
      "metadata": {
        "id": "u0CsTv1WnMie"
      },
      "source": [
        "#### `price`"
      ]
    },
    {
      "cell_type": "markdown",
      "metadata": {
        "id": "2mIc7YWdva5I"
      },
      "source": [
        "First, let's see how many values are affected by the 2 problems mentioned above."
      ]
    },
    {
      "cell_type": "code",
      "execution_count": 38,
      "metadata": {
        "id": "3evkDaafvFUq"
      },
      "outputs": [
        {
          "data": {
            "text/plain": [
              "542"
            ]
          },
          "execution_count": 38,
          "metadata": {},
          "output_type": "execute_result"
        }
      ],
      "source": [
        "# your code here\n",
        "price_problems_number = products.loc[(products.price.astype(str).str.contains(\"\\d+\\.\\d+\\.\\d+\")) | (products.price.astype(str).str.contains(\"\\d+\\.\\d{3,}\")), :].shape[0]\n",
        "price_problems_number"
      ]
    },
    {
      "cell_type": "code",
      "execution_count": 39,
      "metadata": {
        "executionInfo": {
          "elapsed": 9131,
          "status": "aborted",
          "timestamp": 1663236708951,
          "user": {
            "displayName": "Andreea Avramescu",
            "userId": "05330678078528429156"
          },
          "user_tz": -60
        },
        "id": "R-HG2ur6eOiP"
      },
      "outputs": [
        {
          "name": "stdout",
          "output_type": "stream",
          "text": [
            "The column price has in total 542 wrong values. This is 5.15% of the rows of the DataFrame\n"
          ]
        }
      ],
      "source": [
        "print(f\"The column price has in total {price_problems_number} wrong values. This is {round(((price_problems_number / products.shape[0]) * 100), 2)}% of the rows of the DataFrame\")"
      ]
    },
    {
      "cell_type": "markdown",
      "metadata": {
        "id": "p9QV50j3orpP"
      },
      "source": [
        "5.15% is a reasonable amount of our data. However, the price column will be important to understanding discounts, so I'd like it to be very trustworthy as we are basing business decisions on it. Therefore, we'll delete these rows"
      ]
    },
    {
      "cell_type": "code",
      "execution_count": 40,
      "metadata": {
        "executionInfo": {
          "elapsed": 9130,
          "status": "aborted",
          "timestamp": 1663236708951,
          "user": {
            "displayName": "Andreea Avramescu",
            "userId": "05330678078528429156"
          },
          "user_tz": -60
        },
        "id": "3xkK12Mspand"
      },
      "outputs": [],
      "source": [
        "products = products.loc[(~products.price.astype(str).str.contains(\"\\d+\\.\\d+\\.\\d+\"))&(~products.price.astype(str).str.contains(\"\\d+\\.\\d{3,}\")), :]"
      ]
    },
    {
      "cell_type": "markdown",
      "metadata": {
        "id": "Y_3K0v8wvMP1"
      },
      "source": [
        "To complete our task, let's convert the column to a numeric datatype"
      ]
    },
    {
      "cell_type": "code",
      "execution_count": 41,
      "metadata": {
        "executionInfo": {
          "elapsed": 9129,
          "status": "aborted",
          "timestamp": 1663236708951,
          "user": {
            "displayName": "Andreea Avramescu",
            "userId": "05330678078528429156"
          },
          "user_tz": -60
        },
        "id": "3evkDaafvFUq"
      },
      "outputs": [],
      "source": [
        "products[\"price\"] = pd.to_numeric(products[\"price\"])"
      ]
    },
    {
      "cell_type": "code",
      "execution_count": 46,
      "metadata": {
        "id": "3evkDaafvFUq"
      },
      "outputs": [],
      "source": [
        "price_problems_number = products.loc[(products.price.astype(str).str.contains(\"\\d+\\.\\d+\\.\\d+\")) | (products.price.astype(str).str.contains(\"\\d+\\.\\d{3,}\")), :].shape[0]"
      ]
    },
    {
      "cell_type": "code",
      "execution_count": 47,
      "metadata": {
        "executionInfo": {
          "elapsed": 9131,
          "status": "aborted",
          "timestamp": 1663236708951,
          "user": {
            "displayName": "Andreea Avramescu",
            "userId": "05330678078528429156"
          },
          "user_tz": -60
        },
        "id": "R-HG2ur6eOiP"
      },
      "outputs": [
        {
          "name": "stdout",
          "output_type": "stream",
          "text": [
            "The column price has in total 0 wrong values. This is 0.0% of the rows of the DataFrame\n"
          ]
        }
      ],
      "source": [
        "print(f\"The column price has in total {price_problems_number} wrong values. This is {round(((price_problems_number / products.shape[0]) * 100), 2)}% of the rows of the DataFrame\")"
      ]
    },
    {
      "cell_type": "markdown",
      "metadata": {
        "id": "9GcbI2upeG3M"
      },
      "source": [
        "#### `promo_price`"
      ]
    },
    {
      "cell_type": "markdown",
      "metadata": {
        "id": "NQq3M2zGvzS5"
      },
      "source": [
        "Again, let's begin by seeing how many values are affected by the 2 problems"
      ]
    },
    {
      "cell_type": "code",
      "execution_count": 48,
      "metadata": {
        "executionInfo": {
          "elapsed": 9126,
          "status": "aborted",
          "timestamp": 1663236708952,
          "user": {
            "displayName": "Andreea Avramescu",
            "userId": "05330678078528429156"
          },
          "user_tz": -60
        },
        "id": "vI4ueHibtK1P"
      },
      "outputs": [
        {
          "data": {
            "text/plain": [
              "9232"
            ]
          },
          "execution_count": 48,
          "metadata": {},
          "output_type": "execute_result"
        }
      ],
      "source": [
        "promo_problems_number = products.loc[(products.promo_price.astype(str).str.contains(\"\\d+\\.\\d+\\.\\d+\"))|(products.promo_price.astype(str).str.contains(\"\\d+\\.\\d{3,}\")), :].shape[0]\n",
        "promo_problems_number"
      ]
    },
    {
      "cell_type": "code",
      "execution_count": 49,
      "metadata": {
        "executionInfo": {
          "elapsed": 5,
          "status": "aborted",
          "timestamp": 1663236709316,
          "user": {
            "displayName": "Andreea Avramescu",
            "userId": "05330678078528429156"
          },
          "user_tz": -60
        },
        "id": "Jxpd8nVptKxs"
      },
      "outputs": [
        {
          "name": "stdout",
          "output_type": "stream",
          "text": [
            "The column promo_price has in total 9232 wrong values. This is 92.39% of the rows of the DataFrame\n"
          ]
        }
      ],
      "source": [
        "print(f\"The column promo_price has in total {promo_problems_number} wrong values. This is {round(((promo_problems_number / products.shape[0]) * 100), 2)}% of the rows of the DataFrame\")"
      ]
    },
    {
      "cell_type": "markdown",
      "metadata": {
        "id": "dnEM5lBruU0U"
      },
      "source": [
        "WOW!!! That's a lot of wrong data. Let's have a quick investigate to check that's correct. We'll make a DataFrame by copy-pasting the code we used above and then look at a large sample to check that all the numbers in the `promo_price` column really have either 2 decimal points or 3 decimal places."
      ]
    },
    {
      "cell_type": "code",
      "execution_count": 50,
      "metadata": {
        "executionInfo": {
          "elapsed": 5,
          "status": "aborted",
          "timestamp": 1663236709316,
          "user": {
            "displayName": "Andreea Avramescu",
            "userId": "05330678078528429156"
          },
          "user_tz": -60
        },
        "id": "6S88DpsRtaM0"
      },
      "outputs": [
        {
          "data": {
            "text/html": [
              "<div>\n",
              "<style scoped>\n",
              "    .dataframe tbody tr th:only-of-type {\n",
              "        vertical-align: middle;\n",
              "    }\n",
              "\n",
              "    .dataframe tbody tr th {\n",
              "        vertical-align: top;\n",
              "    }\n",
              "\n",
              "    .dataframe thead th {\n",
              "        text-align: right;\n",
              "    }\n",
              "</style>\n",
              "<table border=\"1\" class=\"dataframe\">\n",
              "  <thead>\n",
              "    <tr style=\"text-align: right;\">\n",
              "      <th></th>\n",
              "      <th>sku</th>\n",
              "      <th>name</th>\n",
              "      <th>desc</th>\n",
              "      <th>price</th>\n",
              "      <th>promo_price</th>\n",
              "      <th>in_stock</th>\n",
              "      <th>type</th>\n",
              "    </tr>\n",
              "  </thead>\n",
              "  <tbody>\n",
              "    <tr>\n",
              "      <th>17729</th>\n",
              "      <td>NIE0010</td>\n",
              "      <td>Segway personal transport MiniLite</td>\n",
              "      <td>Robot two-wheeled personal transport up to 18K...</td>\n",
              "      <td>399.00</td>\n",
              "      <td>3.799.896</td>\n",
              "      <td>0</td>\n",
              "      <td>11905404</td>\n",
              "    </tr>\n",
              "    <tr>\n",
              "      <th>17839</th>\n",
              "      <td>PAC2330</td>\n",
              "      <td>Synology DS718 + NAS Server | 6GB RAM | 16TB (...</td>\n",
              "      <td>Scalable NAS server with transcoding 4K: 4-cor...</td>\n",
              "      <td>1241.96</td>\n",
              "      <td>9.621.787</td>\n",
              "      <td>0</td>\n",
              "      <td>12175397</td>\n",
              "    </tr>\n",
              "    <tr>\n",
              "      <th>11928</th>\n",
              "      <td>NTE0025-A</td>\n",
              "      <td>Open - NewerTech Mini DisplayPort to DVI Adapter</td>\n",
              "      <td>Refurbished adapter mini DisplayPort to DVI.</td>\n",
              "      <td>29.99</td>\n",
              "      <td>7.607</td>\n",
              "      <td>0</td>\n",
              "      <td>1325</td>\n",
              "    </tr>\n",
              "    <tr>\n",
              "      <th>13579</th>\n",
              "      <td>APP1712</td>\n",
              "      <td>Apple Watch Series 2 38mm Stainless Steel Case...</td>\n",
              "      <td>Apple Watch 38 mm with GPS dual-core processor...</td>\n",
              "      <td>769.00</td>\n",
              "      <td>7.689.998</td>\n",
              "      <td>0</td>\n",
              "      <td>24885185</td>\n",
              "    </tr>\n",
              "    <tr>\n",
              "      <th>671</th>\n",
              "      <td>SAN0046</td>\n",
              "      <td>SanDisk Ultra 64GB USB 3.0 PenDrive</td>\n",
              "      <td>USB 3.0 flash drive 64GB USB Flash Drive Mac a...</td>\n",
              "      <td>31.00</td>\n",
              "      <td>249.998</td>\n",
              "      <td>1</td>\n",
              "      <td>11935397</td>\n",
              "    </tr>\n",
              "    <tr>\n",
              "      <th>10692</th>\n",
              "      <td>PAC1778</td>\n",
              "      <td>Synology Pack DS216SE | Seagate 8TB NAS</td>\n",
              "      <td>Synology NAS 16TB (2x8TB) Seagate Hard Drive f...</td>\n",
              "      <td>859.97</td>\n",
              "      <td>5.781.791</td>\n",
              "      <td>1</td>\n",
              "      <td>12175397</td>\n",
              "    </tr>\n",
              "    <tr>\n",
              "      <th>16078</th>\n",
              "      <td>AP20186</td>\n",
              "      <td>Like new - Apple iPhone 32GB Rose Gold 6s</td>\n",
              "      <td>Apple iPhone 6s Refurbished 32GB Free Rose Gol...</td>\n",
              "      <td>529.00</td>\n",
              "      <td>4.690.008</td>\n",
              "      <td>0</td>\n",
              "      <td>24821716</td>\n",
              "    </tr>\n",
              "    <tr>\n",
              "      <th>1522</th>\n",
              "      <td>PAC1823</td>\n",
              "      <td>Synology DS1515 + l l 8GB RAM 50TB (5x10TB) Se...</td>\n",
              "      <td>Synology DS1815 + NAS with 8GB RAM and 50TB ha...</td>\n",
              "      <td>3885.92</td>\n",
              "      <td>28.029.626</td>\n",
              "      <td>0</td>\n",
              "      <td>12175397</td>\n",
              "    </tr>\n",
              "    <tr>\n",
              "      <th>14506</th>\n",
              "      <td>SYN0132-A</td>\n",
              "      <td>Open - Synology RT1900AC Wifi Router AC 1900</td>\n",
              "      <td>ac Wifi Wireless Router with Synology SRM inte...</td>\n",
              "      <td>136.99</td>\n",
              "      <td>1.359.895</td>\n",
              "      <td>0</td>\n",
              "      <td>1298</td>\n",
              "    </tr>\n",
              "    <tr>\n",
              "      <th>18895</th>\n",
              "      <td>APP2366</td>\n",
              "      <td>Apple Macbook Pro 13 \"Core i7 25GHz | 16GB | 1...</td>\n",
              "      <td>New MacBook Pro 13-inch Core i7 25 GHz with 16...</td>\n",
              "      <td>3099.00</td>\n",
              "      <td>29.130.048</td>\n",
              "      <td>0</td>\n",
              "      <td>1,02E+12</td>\n",
              "    </tr>\n",
              "    <tr>\n",
              "      <th>13020</th>\n",
              "      <td>CRU0053</td>\n",
              "      <td>Disk 1TB SSD Crucial MX300</td>\n",
              "      <td>1050GB SSD Hard Drive SATA 3.0 (6Gb / s) for M...</td>\n",
              "      <td>293.34</td>\n",
              "      <td>2.489.938</td>\n",
              "      <td>1</td>\n",
              "      <td>12215397</td>\n",
              "    </tr>\n",
              "    <tr>\n",
              "      <th>16706</th>\n",
              "      <td>APP2438</td>\n",
              "      <td>Apple Macbook 12 \"Core i7 14GHz | 8GB | 512GB ...</td>\n",
              "      <td>New MacBook Retina Display 12-inch Core i7 8GB...</td>\n",
              "      <td>1979.00</td>\n",
              "      <td>19.065.946</td>\n",
              "      <td>0</td>\n",
              "      <td>5,39E+11</td>\n",
              "    </tr>\n",
              "    <tr>\n",
              "      <th>19076</th>\n",
              "      <td>TWS0126</td>\n",
              "      <td>Twelve South BookBook iPhone Case Brown X</td>\n",
              "      <td>Cover with vintage design book store card slot...</td>\n",
              "      <td>59.99</td>\n",
              "      <td>569.898</td>\n",
              "      <td>0</td>\n",
              "      <td>11865403</td>\n",
              "    </tr>\n",
              "    <tr>\n",
              "      <th>10822</th>\n",
              "      <td>ICA0075</td>\n",
              "      <td>Incase Sleeve Tensaerlite ICON 13 Macbook Air ...</td>\n",
              "      <td>Cover with magnetic closure and protective mat...</td>\n",
              "      <td>69.95</td>\n",
              "      <td>549.001</td>\n",
              "      <td>0</td>\n",
              "      <td>13835403</td>\n",
              "    </tr>\n",
              "    <tr>\n",
              "      <th>14859</th>\n",
              "      <td>TAM0012</td>\n",
              "      <td>Tangram Comba Smart Led Rope Chrome Size M</td>\n",
              "      <td>Jump rope with LED lights built 360-degree sen...</td>\n",
              "      <td>89.95</td>\n",
              "      <td>599.906</td>\n",
              "      <td>0</td>\n",
              "      <td>11905404</td>\n",
              "    </tr>\n",
              "    <tr>\n",
              "      <th>15460</th>\n",
              "      <td>REP0357</td>\n",
              "      <td>Speaker repair inside iPad Air</td>\n",
              "      <td>Repair service including parts and labor for i...</td>\n",
              "      <td>69.99</td>\n",
              "      <td>699.899</td>\n",
              "      <td>0</td>\n",
              "      <td>12051714</td>\n",
              "    </tr>\n",
              "    <tr>\n",
              "      <th>645</th>\n",
              "      <td>SEA0057</td>\n",
              "      <td>Seagate 500GB SSHD Hybrid disc 25 \"Mac and PC ...</td>\n",
              "      <td>Hybrid Hard Drive Mac and PC and 7mm 500GB SSH...</td>\n",
              "      <td>79.99</td>\n",
              "      <td>765.809</td>\n",
              "      <td>0</td>\n",
              "      <td>12655397</td>\n",
              "    </tr>\n",
              "    <tr>\n",
              "      <th>18699</th>\n",
              "      <td>NTE0111-A</td>\n",
              "      <td>Open - NewerTech NuGuard Snap-on Case MacBook ...</td>\n",
              "      <td>Reconditioned Protector for MacBook Pro 13-inc...</td>\n",
              "      <td>42.99</td>\n",
              "      <td>89.973</td>\n",
              "      <td>0</td>\n",
              "      <td>13835403</td>\n",
              "    </tr>\n",
              "    <tr>\n",
              "      <th>1530</th>\n",
              "      <td>PAC1817</td>\n",
              "      <td>Synology DS1515 + l 40TB (5x8TB) WD Red</td>\n",
              "      <td>Synology DS1815 + NAS hard drive WD 40TB Netwo...</td>\n",
              "      <td>2936.94</td>\n",
              "      <td>22.629.626</td>\n",
              "      <td>0</td>\n",
              "      <td>12175397</td>\n",
              "    </tr>\n",
              "    <tr>\n",
              "      <th>18754</th>\n",
              "      <td>GTE0096-A</td>\n",
              "      <td>Open - G-Technology G-DRIVE HDD 10TB 7200rpm T...</td>\n",
              "      <td>Refurbished Hard Drive 10TB with 2 USB 3 and T...</td>\n",
              "      <td>683.99</td>\n",
              "      <td>4.463.934</td>\n",
              "      <td>0</td>\n",
              "      <td>11935397</td>\n",
              "    </tr>\n",
              "    <tr>\n",
              "      <th>3016</th>\n",
              "      <td>APP1166</td>\n",
              "      <td>Apple iPhone 6S 16GB Silver</td>\n",
              "      <td>New 16GB iPhone 6S Libre.</td>\n",
              "      <td>749.00</td>\n",
              "      <td>7.489.997</td>\n",
              "      <td>0</td>\n",
              "      <td>NaN</td>\n",
              "    </tr>\n",
              "    <tr>\n",
              "      <th>2299</th>\n",
              "      <td>TRA0027</td>\n",
              "      <td>Transcend JetDrive expansion SSD 725 480GB Mac...</td>\n",
              "      <td>Hard Disk 480GB SSD for Macbook Pro Retina 13-...</td>\n",
              "      <td>437.00</td>\n",
              "      <td>362.994</td>\n",
              "      <td>0</td>\n",
              "      <td>12215397</td>\n",
              "    </tr>\n",
              "    <tr>\n",
              "      <th>11301</th>\n",
              "      <td>BOO0089</td>\n",
              "      <td>Booq Viper Hardcase Case Macbook Retina 12 \"Gr...</td>\n",
              "      <td>rigid sleeve compact plastic nylon.</td>\n",
              "      <td>45.00</td>\n",
              "      <td>449.902</td>\n",
              "      <td>0</td>\n",
              "      <td>13835403</td>\n",
              "    </tr>\n",
              "    <tr>\n",
              "      <th>777</th>\n",
              "      <td>KIN0086</td>\n",
              "      <td>Kingston DataTraveler G4 PenDrive 64GB USB 3.0</td>\n",
              "      <td>64GB USB pendrive with cap.</td>\n",
              "      <td>23.00</td>\n",
              "      <td>222.797</td>\n",
              "      <td>0</td>\n",
              "      <td>11935397</td>\n",
              "    </tr>\n",
              "    <tr>\n",
              "      <th>16722</th>\n",
              "      <td>APP2253</td>\n",
              "      <td>Apple MacBook Air 13 \"Core i5 18GHz | 8GB RAM ...</td>\n",
              "      <td>laptop MacBook Air 13 inch i5 18GHz 8GB RAM an...</td>\n",
              "      <td>1349.00</td>\n",
              "      <td>12.885.943</td>\n",
              "      <td>0</td>\n",
              "      <td>2,17E+11</td>\n",
              "    </tr>\n",
              "    <tr>\n",
              "      <th>18550</th>\n",
              "      <td>AP20421</td>\n",
              "      <td>Like new - Apple iPhone 8 Plus 64GB Silver</td>\n",
              "      <td>Apple iPhone 8 Plus Free Refurbished 64GB Colo...</td>\n",
              "      <td>919.00</td>\n",
              "      <td>7.989.993</td>\n",
              "      <td>0</td>\n",
              "      <td>113281716</td>\n",
              "    </tr>\n",
              "    <tr>\n",
              "      <th>15651</th>\n",
              "      <td>SXA0020</td>\n",
              "      <td>SecurityXtra Akimbo iPad Support Black</td>\n",
              "      <td>robust support with viewing angle of 30 degree...</td>\n",
              "      <td>49.99</td>\n",
              "      <td>499.899</td>\n",
              "      <td>0</td>\n",
              "      <td>1216</td>\n",
              "    </tr>\n",
              "    <tr>\n",
              "      <th>13265</th>\n",
              "      <td>PUR0150</td>\n",
              "      <td>Pure Nude Ultraslim 03 \"7/8 Transparent iPhone...</td>\n",
              "      <td>transparent and flexible cover with 03mm thick...</td>\n",
              "      <td>12.95</td>\n",
              "      <td>129.906</td>\n",
              "      <td>1</td>\n",
              "      <td>11865403</td>\n",
              "    </tr>\n",
              "    <tr>\n",
              "      <th>17191</th>\n",
              "      <td>AP20247</td>\n",
              "      <td>Like new - Apple MacBook Pro Retina 13 \"Core i...</td>\n",
              "      <td>MacBook reconditioned 13 inch i7 3GHz with 8GB...</td>\n",
              "      <td>2769.00</td>\n",
              "      <td>22.355.948</td>\n",
              "      <td>0</td>\n",
              "      <td>2,17E+11</td>\n",
              "    </tr>\n",
              "    <tr>\n",
              "      <th>3150</th>\n",
              "      <td>APP1190</td>\n",
              "      <td>IPhone AppleCare Protection Plan</td>\n",
              "      <td>Apple Care extended warranty iPhone.</td>\n",
              "      <td>70.00</td>\n",
              "      <td>609.997</td>\n",
              "      <td>1</td>\n",
              "      <td>1231</td>\n",
              "    </tr>\n",
              "    <tr>\n",
              "      <th>18005</th>\n",
              "      <td>MOS0234</td>\n",
              "      <td>Moshi iGlaze iPhone Case X Black</td>\n",
              "      <td>elegant bumper case for iPhone X</td>\n",
              "      <td>35.00</td>\n",
              "      <td>299.899</td>\n",
              "      <td>1</td>\n",
              "      <td>11865403</td>\n",
              "    </tr>\n",
              "    <tr>\n",
              "      <th>15784</th>\n",
              "      <td>SNN0054</td>\n",
              "      <td>Sonnet Twin 10G SFP + 10G SFP + adapter chassi...</td>\n",
              "      <td>Chassis fiber optic adapter Thunderbolt 3 for ...</td>\n",
              "      <td>785.29</td>\n",
              "      <td>7.299.894</td>\n",
              "      <td>0</td>\n",
              "      <td>12995397</td>\n",
              "    </tr>\n",
              "    <tr>\n",
              "      <th>10956</th>\n",
              "      <td>BEL0169-A</td>\n",
              "      <td>(Open) Belkin WeMO Led Lighting LED Bulbs Sept...</td>\n",
              "      <td>Set of 2 LED Smart Bulbs + Wemo Link Control f...</td>\n",
              "      <td>99.90</td>\n",
              "      <td>789.429</td>\n",
              "      <td>0</td>\n",
              "      <td>1298</td>\n",
              "    </tr>\n",
              "    <tr>\n",
              "      <th>2345</th>\n",
              "      <td>ADN0016-A</td>\n",
              "      <td>Open - Adonit Jot Touch with PixelPoint pointe...</td>\n",
              "      <td>Special precision pointer to draw fine tip</td>\n",
              "      <td>119.00</td>\n",
              "      <td>380.832</td>\n",
              "      <td>0</td>\n",
              "      <td>1298</td>\n",
              "    </tr>\n",
              "    <tr>\n",
              "      <th>13320</th>\n",
              "      <td>UAG0052</td>\n",
              "      <td>Urban Armor Gear Case iPhone 7 Plus Pathfinder...</td>\n",
              "      <td>resistant cover bumps and drops iPhone 7 Plus</td>\n",
              "      <td>34.95</td>\n",
              "      <td>309.905</td>\n",
              "      <td>0</td>\n",
              "      <td>11865403</td>\n",
              "    </tr>\n",
              "    <tr>\n",
              "      <th>16559</th>\n",
              "      <td>APP2083</td>\n",
              "      <td>Apple MacBook Pro 13 \"Core i5 with Touch Bar 3...</td>\n",
              "      <td>New MacBook Pro 13 inch Touch Bar 31 GHz Core ...</td>\n",
              "      <td>2255.59</td>\n",
              "      <td>20.980.045</td>\n",
              "      <td>0</td>\n",
              "      <td>1,02E+12</td>\n",
              "    </tr>\n",
              "    <tr>\n",
              "      <th>16188</th>\n",
              "      <td>PAC2100</td>\n",
              "      <td>Apple iMac 27 \"Core i5 3.5GHz Retina 5K | 16GB...</td>\n",
              "      <td>IMac desktop computer 27 inch Retina 5K RAM 16...</td>\n",
              "      <td>2899.00</td>\n",
              "      <td>26.490.045</td>\n",
              "      <td>0</td>\n",
              "      <td>5,74E+15</td>\n",
              "    </tr>\n",
              "    <tr>\n",
              "      <th>398</th>\n",
              "      <td>REP0092</td>\n",
              "      <td>Repair Speaker lower iPad 2</td>\n",
              "      <td>Repair service including parts and labor for i...</td>\n",
              "      <td>69.99</td>\n",
              "      <td>689.942</td>\n",
              "      <td>0</td>\n",
              "      <td>1,44E+11</td>\n",
              "    </tr>\n",
              "    <tr>\n",
              "      <th>2545</th>\n",
              "      <td>NAT0024</td>\n",
              "      <td>Native Union Jump battery Ligtning Cable Gray ...</td>\n",
              "      <td>External Battery with USB Cable Lightning-800 ...</td>\n",
              "      <td>59.99</td>\n",
              "      <td>449.878</td>\n",
              "      <td>0</td>\n",
              "      <td>1515</td>\n",
              "    </tr>\n",
              "    <tr>\n",
              "      <th>3001</th>\n",
              "      <td>SAN0098</td>\n",
              "      <td>SanDisk Connect Wireless Flash Drive 32GB Wire...</td>\n",
              "      <td>Wireless 32GB storage for iPhone / iPad / Mac.</td>\n",
              "      <td>37.99</td>\n",
              "      <td>330.003</td>\n",
              "      <td>1</td>\n",
              "      <td>42945397</td>\n",
              "    </tr>\n",
              "    <tr>\n",
              "      <th>8355</th>\n",
              "      <td>APP1322</td>\n",
              "      <td>Apple iMac 27 \"Core i5 3.2GHz Retina 5K | 8GB ...</td>\n",
              "      <td>IMac desktop computer 27 inch 5K Retina 8GB RA...</td>\n",
              "      <td>2249.00</td>\n",
              "      <td>2.143.584</td>\n",
              "      <td>0</td>\n",
              "      <td>1282</td>\n",
              "    </tr>\n",
              "    <tr>\n",
              "      <th>12851</th>\n",
              "      <td>TWS0103</td>\n",
              "      <td>\"Twelve South BookBook Brown Travel Journal iP...</td>\n",
              "      <td>Book-style case for Apple accessories</td>\n",
              "      <td>99.99</td>\n",
              "      <td>849.904</td>\n",
              "      <td>0</td>\n",
              "      <td>12635403</td>\n",
              "    </tr>\n",
              "    <tr>\n",
              "      <th>16989</th>\n",
              "      <td>BEL0102-A</td>\n",
              "      <td>Open - Belkin 3 Cases iPhone Screen antihuella...</td>\n",
              "      <td>Set of 3 Screen Protectors for iPhone SE / 5s / 5</td>\n",
              "      <td>12.99</td>\n",
              "      <td>75.147</td>\n",
              "      <td>0</td>\n",
              "      <td>1298</td>\n",
              "    </tr>\n",
              "    <tr>\n",
              "      <th>12585</th>\n",
              "      <td>IFX0094</td>\n",
              "      <td>iFixit Piece Speaker iPhone 5s</td>\n",
              "      <td>Speaker for iPhone 5S</td>\n",
              "      <td>19.95</td>\n",
              "      <td>18.991</td>\n",
              "      <td>0</td>\n",
              "      <td>21485407</td>\n",
              "    </tr>\n",
              "    <tr>\n",
              "      <th>14528</th>\n",
              "      <td>PAC1560</td>\n",
              "      <td>Macally External Hard Drive 500GB 25 \"USB 3.0</td>\n",
              "      <td>External Hard Drive 500GB 5400rpm aluminum hou...</td>\n",
              "      <td>79.90</td>\n",
              "      <td>455.843</td>\n",
              "      <td>0</td>\n",
              "      <td>11935397</td>\n",
              "    </tr>\n",
              "    <tr>\n",
              "      <th>11761</th>\n",
              "      <td>PAC1739</td>\n",
              "      <td>QNAP TS-128 Server l Nas 8TB (1x8TB) WD Red</td>\n",
              "      <td>NAS TS-128 1 8TB hard drive for Mac and PC</td>\n",
              "      <td>477.99</td>\n",
              "      <td>3.595.842</td>\n",
              "      <td>0</td>\n",
              "      <td>12175397</td>\n",
              "    </tr>\n",
              "    <tr>\n",
              "      <th>18253</th>\n",
              "      <td>AP20371</td>\n",
              "      <td>Like new - Apple iPhone 7 Plus 256GB Black</td>\n",
              "      <td>Apple iPhone 7 Plus reconditioned but like new...</td>\n",
              "      <td>1130.33</td>\n",
              "      <td>8.890.015</td>\n",
              "      <td>0</td>\n",
              "      <td>85651716</td>\n",
              "    </tr>\n",
              "    <tr>\n",
              "      <th>18756</th>\n",
              "      <td>NTE0007-A</td>\n",
              "      <td>Open - NewerTech AdaptaDrive adapter 2.5 \"to 3...</td>\n",
              "      <td>Refurbished HDD / SSD 2.5 SATA 3.5 compatible ...</td>\n",
              "      <td>26.99</td>\n",
              "      <td>104.675</td>\n",
              "      <td>0</td>\n",
              "      <td>12755395</td>\n",
              "    </tr>\n",
              "    <tr>\n",
              "      <th>15530</th>\n",
              "      <td>LEX0028-A</td>\n",
              "      <td>Open - Lexar JumpDrive Lightning USB 3.0 C20i ...</td>\n",
              "      <td>Lightning to USB external memory for iPad and ...</td>\n",
              "      <td>108.90</td>\n",
              "      <td>501.182</td>\n",
              "      <td>0</td>\n",
              "      <td>1298</td>\n",
              "    </tr>\n",
              "    <tr>\n",
              "      <th>14809</th>\n",
              "      <td>GRT0457</td>\n",
              "      <td>Griffin Travel Battery Backup Power Bank for A...</td>\n",
              "      <td>1050 mAh external battery with MFi certified c...</td>\n",
              "      <td>81.95</td>\n",
              "      <td>599.894</td>\n",
              "      <td>0</td>\n",
              "      <td>1515</td>\n",
              "    </tr>\n",
              "  </tbody>\n",
              "</table>\n",
              "</div>"
            ],
            "text/plain": [
              "             sku                                               name  \\\n",
              "17729    NIE0010                 Segway personal transport MiniLite   \n",
              "17839    PAC2330  Synology DS718 + NAS Server | 6GB RAM | 16TB (...   \n",
              "11928  NTE0025-A   Open - NewerTech Mini DisplayPort to DVI Adapter   \n",
              "13579    APP1712  Apple Watch Series 2 38mm Stainless Steel Case...   \n",
              "671      SAN0046                SanDisk Ultra 64GB USB 3.0 PenDrive   \n",
              "10692    PAC1778            Synology Pack DS216SE | Seagate 8TB NAS   \n",
              "16078    AP20186          Like new - Apple iPhone 32GB Rose Gold 6s   \n",
              "1522     PAC1823  Synology DS1515 + l l 8GB RAM 50TB (5x10TB) Se...   \n",
              "14506  SYN0132-A       Open - Synology RT1900AC Wifi Router AC 1900   \n",
              "18895    APP2366  Apple Macbook Pro 13 \"Core i7 25GHz | 16GB | 1...   \n",
              "13020    CRU0053                         Disk 1TB SSD Crucial MX300   \n",
              "16706    APP2438  Apple Macbook 12 \"Core i7 14GHz | 8GB | 512GB ...   \n",
              "19076    TWS0126          Twelve South BookBook iPhone Case Brown X   \n",
              "10822    ICA0075  Incase Sleeve Tensaerlite ICON 13 Macbook Air ...   \n",
              "14859    TAM0012         Tangram Comba Smart Led Rope Chrome Size M   \n",
              "15460    REP0357                     Speaker repair inside iPad Air   \n",
              "645      SEA0057  Seagate 500GB SSHD Hybrid disc 25 \"Mac and PC ...   \n",
              "18699  NTE0111-A  Open - NewerTech NuGuard Snap-on Case MacBook ...   \n",
              "1530     PAC1817            Synology DS1515 + l 40TB (5x8TB) WD Red   \n",
              "18754  GTE0096-A  Open - G-Technology G-DRIVE HDD 10TB 7200rpm T...   \n",
              "3016     APP1166                        Apple iPhone 6S 16GB Silver   \n",
              "2299     TRA0027  Transcend JetDrive expansion SSD 725 480GB Mac...   \n",
              "11301    BOO0089  Booq Viper Hardcase Case Macbook Retina 12 \"Gr...   \n",
              "777      KIN0086     Kingston DataTraveler G4 PenDrive 64GB USB 3.0   \n",
              "16722    APP2253  Apple MacBook Air 13 \"Core i5 18GHz | 8GB RAM ...   \n",
              "18550    AP20421         Like new - Apple iPhone 8 Plus 64GB Silver   \n",
              "15651    SXA0020             SecurityXtra Akimbo iPad Support Black   \n",
              "13265    PUR0150  Pure Nude Ultraslim 03 \"7/8 Transparent iPhone...   \n",
              "17191    AP20247  Like new - Apple MacBook Pro Retina 13 \"Core i...   \n",
              "3150     APP1190                   IPhone AppleCare Protection Plan   \n",
              "18005    MOS0234                   Moshi iGlaze iPhone Case X Black   \n",
              "15784    SNN0054  Sonnet Twin 10G SFP + 10G SFP + adapter chassi...   \n",
              "10956  BEL0169-A  (Open) Belkin WeMO Led Lighting LED Bulbs Sept...   \n",
              "2345   ADN0016-A  Open - Adonit Jot Touch with PixelPoint pointe...   \n",
              "13320    UAG0052  Urban Armor Gear Case iPhone 7 Plus Pathfinder...   \n",
              "16559    APP2083  Apple MacBook Pro 13 \"Core i5 with Touch Bar 3...   \n",
              "16188    PAC2100  Apple iMac 27 \"Core i5 3.5GHz Retina 5K | 16GB...   \n",
              "398      REP0092                        Repair Speaker lower iPad 2   \n",
              "2545     NAT0024  Native Union Jump battery Ligtning Cable Gray ...   \n",
              "3001     SAN0098  SanDisk Connect Wireless Flash Drive 32GB Wire...   \n",
              "8355     APP1322  Apple iMac 27 \"Core i5 3.2GHz Retina 5K | 8GB ...   \n",
              "12851    TWS0103  \"Twelve South BookBook Brown Travel Journal iP...   \n",
              "16989  BEL0102-A  Open - Belkin 3 Cases iPhone Screen antihuella...   \n",
              "12585    IFX0094                     iFixit Piece Speaker iPhone 5s   \n",
              "14528    PAC1560      Macally External Hard Drive 500GB 25 \"USB 3.0   \n",
              "11761    PAC1739        QNAP TS-128 Server l Nas 8TB (1x8TB) WD Red   \n",
              "18253    AP20371         Like new - Apple iPhone 7 Plus 256GB Black   \n",
              "18756  NTE0007-A  Open - NewerTech AdaptaDrive adapter 2.5 \"to 3...   \n",
              "15530  LEX0028-A  Open - Lexar JumpDrive Lightning USB 3.0 C20i ...   \n",
              "14809    GRT0457  Griffin Travel Battery Backup Power Bank for A...   \n",
              "\n",
              "                                                    desc    price promo_price  \\\n",
              "17729  Robot two-wheeled personal transport up to 18K...   399.00   3.799.896   \n",
              "17839  Scalable NAS server with transcoding 4K: 4-cor...  1241.96   9.621.787   \n",
              "11928       Refurbished adapter mini DisplayPort to DVI.    29.99       7.607   \n",
              "13579  Apple Watch 38 mm with GPS dual-core processor...   769.00   7.689.998   \n",
              "671    USB 3.0 flash drive 64GB USB Flash Drive Mac a...    31.00     249.998   \n",
              "10692  Synology NAS 16TB (2x8TB) Seagate Hard Drive f...   859.97   5.781.791   \n",
              "16078  Apple iPhone 6s Refurbished 32GB Free Rose Gol...   529.00   4.690.008   \n",
              "1522   Synology DS1815 + NAS with 8GB RAM and 50TB ha...  3885.92  28.029.626   \n",
              "14506  ac Wifi Wireless Router with Synology SRM inte...   136.99   1.359.895   \n",
              "18895  New MacBook Pro 13-inch Core i7 25 GHz with 16...  3099.00  29.130.048   \n",
              "13020  1050GB SSD Hard Drive SATA 3.0 (6Gb / s) for M...   293.34   2.489.938   \n",
              "16706  New MacBook Retina Display 12-inch Core i7 8GB...  1979.00  19.065.946   \n",
              "19076  Cover with vintage design book store card slot...    59.99     569.898   \n",
              "10822  Cover with magnetic closure and protective mat...    69.95     549.001   \n",
              "14859  Jump rope with LED lights built 360-degree sen...    89.95     599.906   \n",
              "15460  Repair service including parts and labor for i...    69.99     699.899   \n",
              "645    Hybrid Hard Drive Mac and PC and 7mm 500GB SSH...    79.99     765.809   \n",
              "18699  Reconditioned Protector for MacBook Pro 13-inc...    42.99      89.973   \n",
              "1530   Synology DS1815 + NAS hard drive WD 40TB Netwo...  2936.94  22.629.626   \n",
              "18754  Refurbished Hard Drive 10TB with 2 USB 3 and T...   683.99   4.463.934   \n",
              "3016                           New 16GB iPhone 6S Libre.   749.00   7.489.997   \n",
              "2299   Hard Disk 480GB SSD for Macbook Pro Retina 13-...   437.00     362.994   \n",
              "11301                rigid sleeve compact plastic nylon.    45.00     449.902   \n",
              "777                          64GB USB pendrive with cap.    23.00     222.797   \n",
              "16722  laptop MacBook Air 13 inch i5 18GHz 8GB RAM an...  1349.00  12.885.943   \n",
              "18550  Apple iPhone 8 Plus Free Refurbished 64GB Colo...   919.00   7.989.993   \n",
              "15651  robust support with viewing angle of 30 degree...    49.99     499.899   \n",
              "13265  transparent and flexible cover with 03mm thick...    12.95     129.906   \n",
              "17191  MacBook reconditioned 13 inch i7 3GHz with 8GB...  2769.00  22.355.948   \n",
              "3150                Apple Care extended warranty iPhone.    70.00     609.997   \n",
              "18005                   elegant bumper case for iPhone X    35.00     299.899   \n",
              "15784  Chassis fiber optic adapter Thunderbolt 3 for ...   785.29   7.299.894   \n",
              "10956  Set of 2 LED Smart Bulbs + Wemo Link Control f...    99.90     789.429   \n",
              "2345          Special precision pointer to draw fine tip   119.00     380.832   \n",
              "13320      resistant cover bumps and drops iPhone 7 Plus    34.95     309.905   \n",
              "16559  New MacBook Pro 13 inch Touch Bar 31 GHz Core ...  2255.59  20.980.045   \n",
              "16188  IMac desktop computer 27 inch Retina 5K RAM 16...  2899.00  26.490.045   \n",
              "398    Repair service including parts and labor for i...    69.99     689.942   \n",
              "2545   External Battery with USB Cable Lightning-800 ...    59.99     449.878   \n",
              "3001      Wireless 32GB storage for iPhone / iPad / Mac.    37.99     330.003   \n",
              "8355   IMac desktop computer 27 inch 5K Retina 8GB RA...  2249.00   2.143.584   \n",
              "12851              Book-style case for Apple accessories    99.99     849.904   \n",
              "16989  Set of 3 Screen Protectors for iPhone SE / 5s / 5    12.99      75.147   \n",
              "12585                              Speaker for iPhone 5S    19.95      18.991   \n",
              "14528  External Hard Drive 500GB 5400rpm aluminum hou...    79.90     455.843   \n",
              "11761         NAS TS-128 1 8TB hard drive for Mac and PC   477.99   3.595.842   \n",
              "18253  Apple iPhone 7 Plus reconditioned but like new...  1130.33   8.890.015   \n",
              "18756  Refurbished HDD / SSD 2.5 SATA 3.5 compatible ...    26.99     104.675   \n",
              "15530  Lightning to USB external memory for iPad and ...   108.90     501.182   \n",
              "14809  1050 mAh external battery with MFi certified c...    81.95     599.894   \n",
              "\n",
              "       in_stock       type  \n",
              "17729         0   11905404  \n",
              "17839         0   12175397  \n",
              "11928         0       1325  \n",
              "13579         0   24885185  \n",
              "671           1   11935397  \n",
              "10692         1   12175397  \n",
              "16078         0   24821716  \n",
              "1522          0   12175397  \n",
              "14506         0       1298  \n",
              "18895         0   1,02E+12  \n",
              "13020         1   12215397  \n",
              "16706         0   5,39E+11  \n",
              "19076         0   11865403  \n",
              "10822         0   13835403  \n",
              "14859         0   11905404  \n",
              "15460         0   12051714  \n",
              "645           0   12655397  \n",
              "18699         0   13835403  \n",
              "1530          0   12175397  \n",
              "18754         0   11935397  \n",
              "3016          0        NaN  \n",
              "2299          0   12215397  \n",
              "11301         0   13835403  \n",
              "777           0   11935397  \n",
              "16722         0   2,17E+11  \n",
              "18550         0  113281716  \n",
              "15651         0       1216  \n",
              "13265         1   11865403  \n",
              "17191         0   2,17E+11  \n",
              "3150          1       1231  \n",
              "18005         1   11865403  \n",
              "15784         0   12995397  \n",
              "10956         0       1298  \n",
              "2345          0       1298  \n",
              "13320         0   11865403  \n",
              "16559         0   1,02E+12  \n",
              "16188         0   5,74E+15  \n",
              "398           0   1,44E+11  \n",
              "2545          0       1515  \n",
              "3001          1   42945397  \n",
              "8355          0       1282  \n",
              "12851         0   12635403  \n",
              "16989         0       1298  \n",
              "12585         0   21485407  \n",
              "14528         0   11935397  \n",
              "11761         0   12175397  \n",
              "18253         0   85651716  \n",
              "18756         0   12755395  \n",
              "15530         0       1298  \n",
              "14809         0       1515  "
            ]
          },
          "execution_count": 50,
          "metadata": {},
          "output_type": "execute_result"
        }
      ],
      "source": [
        "promo_price_df = products.loc[(products.promo_price.astype(str).str.contains(\"\\d+\\.\\d+\\.\\d+\"))|(products.promo_price.astype(str).str.contains(\"\\d+\\.\\d{3,}\")), :]\n",
        "promo_price_df.sample(50)"
      ]
    },
    {
      "cell_type": "markdown",
      "metadata": {
        "id": "0Hfgo84xu_VS"
      },
      "source": [
        "So we were correct, over 90% of the data in this column is corrupt. There's no point deleting all of these rows, then we would barely have a products table. Instead, as it's only this column that appears to be very untrustworthy, we will delete the column."
      ]
    },
    {
      "cell_type": "code",
      "execution_count": 64,
      "metadata": {
        "executionInfo": {
          "elapsed": 5,
          "status": "aborted",
          "timestamp": 1663236709316,
          "user": {
            "displayName": "Andreea Avramescu",
            "userId": "05330678078528429156"
          },
          "user_tz": -60
        },
        "id": "OalyJ-8atij8"
      },
      "outputs": [],
      "source": [
        "products = products.drop(columns=[\"promo_price\"])"
      ]
    },
    {
      "cell_type": "markdown",
      "metadata": {
        "id": "vyyISxnQ1YVG"
      },
      "source": [
        "Obviously, there's now no need to convert `promo_price` to a numerical datatype\n",
        "\n",
        "Don't forget to download/save your new DataFrames. Also, give them an obvious name, so that you know they are the cleaned version and not the original DataFrame."
      ]
    },
    {
      "cell_type": "code",
      "execution_count": 62,
      "metadata": {},
      "outputs": [],
      "source": [
        "# path for clean data\n",
        "path_clean_data = \"C:/Users/ruben/WBS/Data_Science/Section_3/Data_Cleaning_Storytelling_with_Pandas_and_Matplotlib/data/clean_data/\""
      ]
    },
    {
      "cell_type": "code",
      "execution_count": 63,
      "metadata": {},
      "outputs": [],
      "source": [
        "orders.to_csv(path_clean_data + \"orders_cl.csv\", index=False)"
      ]
    },
    {
      "cell_type": "code",
      "execution_count": 65,
      "metadata": {
        "executionInfo": {
          "elapsed": 5,
          "status": "aborted",
          "timestamp": 1663236709317,
          "user": {
            "displayName": "Andreea Avramescu",
            "userId": "05330678078528429156"
          },
          "user_tz": -60
        },
        "id": "6M4Jxfz-8G2b"
      },
      "outputs": [],
      "source": [
        "orderlines.to_csv(path_clean_data + \"orderlines_cl.csv\", index=False)"
      ]
    },
    {
      "cell_type": "code",
      "execution_count": 66,
      "metadata": {},
      "outputs": [],
      "source": [
        "products.to_csv(path_clean_data + \"products_cl.csv\", index=False)"
      ]
    }
  ],
  "metadata": {
    "colab": {
      "provenance": []
    },
    "kernelspec": {
      "display_name": "base",
      "language": "python",
      "name": "python3"
    },
    "language_info": {
      "codemirror_mode": {
        "name": "ipython",
        "version": 3
      },
      "file_extension": ".py",
      "mimetype": "text/x-python",
      "name": "python",
      "nbconvert_exporter": "python",
      "pygments_lexer": "ipython3",
      "version": "3.9.12"
    },
    "vscode": {
      "interpreter": {
        "hash": "704aea7029d59a45433ae3b663f7cccf597e59967cc6a516676256c90bebdeef"
      }
    }
  },
  "nbformat": 4,
  "nbformat_minor": 0
}
