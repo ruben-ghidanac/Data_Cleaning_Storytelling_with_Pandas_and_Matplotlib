{
 "cells": [
  {
   "attachments": {},
   "cell_type": "markdown",
   "metadata": {},
   "source": [
    "# Analyze discounts"
   ]
  },
  {
   "attachments": {},
   "cell_type": "markdown",
   "metadata": {},
   "source": [
    "Project information:\n",
    "\n",
    "\"Before starting the analysis, let’s establish a couple of things:\n",
    "\n",
    "- Analyzing discounts means looking at which products have been sold. Remember that this information is stored in the `orderlines` table.\n",
    "- Discounts are defined as the difference between `orderlines.unit_price` and `products.price`. Merging both tables and creating a column that contains the discount is, thus, probably a good idea. Drop the columns that you don’t need so that they don’t confuse you.\n",
    "\n",
    "When exploring discounts, make sure to always have the **time** dimension in consideration: Eniac does not always offer its products at the same price. A critical question, hence, is whether revenue grows whenever discounts increase.\""
   ]
  },
  {
   "cell_type": "code",
   "execution_count": 243,
   "metadata": {},
   "outputs": [],
   "source": [
    "import pandas as pd\n",
    "import matplotlib.pyplot as plt"
   ]
  },
  {
   "attachments": {},
   "cell_type": "markdown",
   "metadata": {},
   "source": [
    "Load cleaned DataFrames"
   ]
  },
  {
   "cell_type": "code",
   "execution_count": 244,
   "metadata": {},
   "outputs": [],
   "source": [
    "# orderlines_qu.csv\n",
    "path = \"C:/Users/ruben/local_repos/WBS/Data_Science/Section_3/Data_Cleaning_Storytelling_with_Pandas_and_Matplotlib/data/quality_data/orderlines_qu.csv\"\n",
    "orderlines_qu = pd.read_csv(path)\n",
    "\n",
    "# products_cl.csv\n",
    "path = \"C:/Users/ruben/local_repos/WBS/Data_Science/Section_3/Data_Cleaning_Storytelling_with_Pandas_and_Matplotlib/data/clean_data/products_cl.csv\"\n",
    "products_cl = pd.read_csv(path)"
   ]
  },
  {
   "attachments": {},
   "cell_type": "markdown",
   "metadata": {},
   "source": [
    "Verify the columns for merging."
   ]
  },
  {
   "cell_type": "code",
   "execution_count": 245,
   "metadata": {},
   "outputs": [
    {
     "name": "stdout",
     "output_type": "stream",
     "text": [
      "<class 'pandas.core.frame.DataFrame'>\n",
      "RangeIndex: 60179 entries, 0 to 60178\n",
      "Data columns (total 7 columns):\n",
      " #   Column            Non-Null Count  Dtype  \n",
      "---  ------            --------------  -----  \n",
      " 0   id                60179 non-null  int64  \n",
      " 1   id_order          60179 non-null  int64  \n",
      " 2   product_id        60179 non-null  int64  \n",
      " 3   product_quantity  60179 non-null  int64  \n",
      " 4   sku               60179 non-null  object \n",
      " 5   unit_price        60179 non-null  float64\n",
      " 6   date              60179 non-null  object \n",
      "dtypes: float64(1), int64(4), object(2)\n",
      "memory usage: 3.2+ MB\n"
     ]
    }
   ],
   "source": [
    "orderlines_qu.info()"
   ]
  },
  {
   "cell_type": "code",
   "execution_count": 246,
   "metadata": {},
   "outputs": [
    {
     "name": "stdout",
     "output_type": "stream",
     "text": [
      "<class 'pandas.core.frame.DataFrame'>\n",
      "RangeIndex: 19280 entries, 0 to 19279\n",
      "Data columns (total 9 columns):\n",
      " #   Column                  Non-Null Count  Dtype  \n",
      "---  ------                  --------------  -----  \n",
      " 0   sku                     19280 non-null  object \n",
      " 1   name                    19280 non-null  object \n",
      " 2   desc                    19273 non-null  object \n",
      " 3   price                   19280 non-null  float64\n",
      " 4   promo_price             19280 non-null  float64\n",
      " 5   in_stock                19280 non-null  int64  \n",
      " 6   type                    19230 non-null  object \n",
      " 7   is_promo_price_greater  19280 non-null  bool   \n",
      " 8   promo_greater_with      19280 non-null  float64\n",
      "dtypes: bool(1), float64(3), int64(1), object(4)\n",
      "memory usage: 1.2+ MB\n"
     ]
    }
   ],
   "source": [
    "products_cl.info()"
   ]
  },
  {
   "attachments": {},
   "cell_type": "markdown",
   "metadata": {},
   "source": [
    "I decide to go with 'sku' column.\n",
    "\n",
    "sku – stock keeping unit: a unique identifier for each product"
   ]
  },
  {
   "cell_type": "code",
   "execution_count": 247,
   "metadata": {},
   "outputs": [],
   "source": [
    "merged_df = pd.merge(orderlines_qu, products_cl, on='sku')"
   ]
  },
  {
   "cell_type": "code",
   "execution_count": 248,
   "metadata": {},
   "outputs": [
    {
     "name": "stdout",
     "output_type": "stream",
     "text": [
      "<class 'pandas.core.frame.DataFrame'>\n",
      "Int64Index: 69362 entries, 0 to 69361\n",
      "Data columns (total 15 columns):\n",
      " #   Column                  Non-Null Count  Dtype  \n",
      "---  ------                  --------------  -----  \n",
      " 0   id                      69362 non-null  int64  \n",
      " 1   id_order                69362 non-null  int64  \n",
      " 2   product_id              69362 non-null  int64  \n",
      " 3   product_quantity        69362 non-null  int64  \n",
      " 4   sku                     69362 non-null  object \n",
      " 5   unit_price              69362 non-null  float64\n",
      " 6   date                    69362 non-null  object \n",
      " 7   name                    69362 non-null  object \n",
      " 8   desc                    69358 non-null  object \n",
      " 9   price                   69362 non-null  float64\n",
      " 10  promo_price             69362 non-null  float64\n",
      " 11  in_stock                69362 non-null  int64  \n",
      " 12  type                    69351 non-null  object \n",
      " 13  is_promo_price_greater  69362 non-null  bool   \n",
      " 14  promo_greater_with      69362 non-null  float64\n",
      "dtypes: bool(1), float64(4), int64(5), object(5)\n",
      "memory usage: 8.0+ MB\n"
     ]
    }
   ],
   "source": [
    "merged_df.info()"
   ]
  },
  {
   "attachments": {},
   "cell_type": "markdown",
   "metadata": {},
   "source": [
    "Modify the 'date' type."
   ]
  },
  {
   "cell_type": "code",
   "execution_count": 249,
   "metadata": {},
   "outputs": [],
   "source": [
    "merged_df['date'] = pd.to_datetime(merged_df['date'])"
   ]
  },
  {
   "attachments": {},
   "cell_type": "markdown",
   "metadata": {},
   "source": [
    "Drop the columns that I don’t need so that they don’t confuse me."
   ]
  },
  {
   "cell_type": "code",
   "execution_count": 250,
   "metadata": {},
   "outputs": [],
   "source": [
    "merged_df = merged_df[['id_order', 'name', 'sku', 'price', 'unit_price', 'product_quantity', 'date']]"
   ]
  },
  {
   "cell_type": "code",
   "execution_count": 251,
   "metadata": {},
   "outputs": [
    {
     "name": "stdout",
     "output_type": "stream",
     "text": [
      "<class 'pandas.core.frame.DataFrame'>\n",
      "Int64Index: 69362 entries, 0 to 69361\n",
      "Data columns (total 7 columns):\n",
      " #   Column            Non-Null Count  Dtype         \n",
      "---  ------            --------------  -----         \n",
      " 0   id_order          69362 non-null  int64         \n",
      " 1   name              69362 non-null  object        \n",
      " 2   sku               69362 non-null  object        \n",
      " 3   price             69362 non-null  float64       \n",
      " 4   unit_price        69362 non-null  float64       \n",
      " 5   product_quantity  69362 non-null  int64         \n",
      " 6   date              69362 non-null  datetime64[ns]\n",
      "dtypes: datetime64[ns](1), float64(2), int64(2), object(2)\n",
      "memory usage: 4.2+ MB\n"
     ]
    }
   ],
   "source": [
    "merged_df.info()"
   ]
  },
  {
   "attachments": {},
   "cell_type": "markdown",
   "metadata": {},
   "source": [
    "Based on the project information, the discount amount is calculated by the difference between 'price' and 'unit_price'.\n",
    "\n",
    "I decide to create a column with the discount amount."
   ]
  },
  {
   "cell_type": "code",
   "execution_count": 252,
   "metadata": {},
   "outputs": [],
   "source": [
    "merged_df['discount_amount'] = merged_df['price'] - merged_df['unit_price']"
   ]
  },
  {
   "attachments": {},
   "cell_type": "markdown",
   "metadata": {},
   "source": [
    "Remove the rows with negative value in discount_amount"
   ]
  },
  {
   "cell_type": "code",
   "execution_count": 253,
   "metadata": {},
   "outputs": [],
   "source": [
    "merged_df = merged_df[merged_df['discount_amount'] >= 0]"
   ]
  },
  {
   "attachments": {},
   "cell_type": "markdown",
   "metadata": {},
   "source": [
    "On every row in the dataframe we have:\n",
    "- a column with the `name` of that product sold in a specific order;\n",
    "- a column with the `price` of that product sold in a specific order;\n",
    "- a column with the `quantity` of that product sold in a specific order;\n",
    "\n",
    "But...\n",
    "\n",
    "We don't have:\n",
    "- a column with the `total` (`price` * `product_quantity`) revenue for a specific row (a specific product sold in a specific order).\n",
    "\n",
    "Because of that, I will create what we miss and we need."
   ]
  },
  {
   "cell_type": "code",
   "execution_count": 254,
   "metadata": {},
   "outputs": [],
   "source": [
    "merged_df['total_price_by_prod_qty'] = merged_df['price'] * merged_df['product_quantity']"
   ]
  },
  {
   "attachments": {},
   "cell_type": "markdown",
   "metadata": {},
   "source": [
    "The same thing, but for `unit_price` which is the discounted  `price` of a product."
   ]
  },
  {
   "cell_type": "code",
   "execution_count": 255,
   "metadata": {},
   "outputs": [],
   "source": [
    "merged_df['total_unit_price_by_prod_qty'] = merged_df['unit_price'] * merged_df['product_quantity']"
   ]
  },
  {
   "attachments": {},
   "cell_type": "markdown",
   "metadata": {},
   "source": [
    "Create the `discount_amount_by_prod_qty` which will be the amount of discount for one row in the dataframe."
   ]
  },
  {
   "cell_type": "code",
   "execution_count": 256,
   "metadata": {},
   "outputs": [],
   "source": [
    "merged_df['discount_amount_by_prod_qty'] = merged_df['total_price_by_prod_qty'] - merged_df['total_unit_price_by_prod_qty']"
   ]
  },
  {
   "attachments": {},
   "cell_type": "markdown",
   "metadata": {},
   "source": [
    "Calculate the discount percentage over the original price"
   ]
  },
  {
   "cell_type": "code",
   "execution_count": 257,
   "metadata": {},
   "outputs": [],
   "source": [
    "merged_df['discount_rate'] = merged_df['discount_amount_by_prod_qty'] / merged_df['total_price_by_prod_qty'] * 100\n"
   ]
  },
  {
   "cell_type": "code",
   "execution_count": 260,
   "metadata": {},
   "outputs": [
    {
     "data": {
      "text/plain": [
       "count    67667.000000\n",
       "mean        21.369954\n",
       "std         18.931390\n",
       "min          0.000000\n",
       "25%          8.197398\n",
       "50%         16.668056\n",
       "75%         27.002700\n",
       "max         99.979996\n",
       "Name: discount_rate, dtype: float64"
      ]
     },
     "execution_count": 260,
     "metadata": {},
     "output_type": "execute_result"
    }
   ],
   "source": [
    "merged_df['discount_rate'].describe()"
   ]
  },
  {
   "attachments": {},
   "cell_type": "markdown",
   "metadata": {},
   "source": [
    "##### When exploring discounts, make sure to always have the time dimension in consideration: Eniac does not always offer its products at the same price. \n",
    "\n",
    "##### A critical question, hence, is whether revenue grows whenever discounts increase."
   ]
  },
  {
   "attachments": {},
   "cell_type": "markdown",
   "metadata": {},
   "source": [
    "##### Weekly revenue and discount average."
   ]
  },
  {
   "cell_type": "code",
   "execution_count": 261,
   "metadata": {},
   "outputs": [],
   "source": [
    "# Setting max rows to None for complete DataFrame display.\n",
    "pd.set_option('display.max_rows', None)"
   ]
  },
  {
   "cell_type": "code",
   "execution_count": 276,
   "metadata": {},
   "outputs": [
    {
     "data": {
      "text/html": [
       "<div>\n",
       "<style scoped>\n",
       "    .dataframe tbody tr th:only-of-type {\n",
       "        vertical-align: middle;\n",
       "    }\n",
       "\n",
       "    .dataframe tbody tr th {\n",
       "        vertical-align: top;\n",
       "    }\n",
       "\n",
       "    .dataframe thead tr th {\n",
       "        text-align: left;\n",
       "    }\n",
       "\n",
       "    .dataframe thead tr:last-of-type th {\n",
       "        text-align: right;\n",
       "    }\n",
       "</style>\n",
       "<table border=\"1\" class=\"dataframe\">\n",
       "  <thead>\n",
       "    <tr>\n",
       "      <th></th>\n",
       "      <th></th>\n",
       "      <th>discount_rate</th>\n",
       "      <th>total_unit_price_by_prod_qty</th>\n",
       "    </tr>\n",
       "    <tr>\n",
       "      <th></th>\n",
       "      <th></th>\n",
       "      <th>mean</th>\n",
       "      <th>sum</th>\n",
       "    </tr>\n",
       "    <tr>\n",
       "      <th>date</th>\n",
       "      <th>date</th>\n",
       "      <th></th>\n",
       "      <th></th>\n",
       "    </tr>\n",
       "  </thead>\n",
       "  <tbody>\n",
       "    <tr>\n",
       "      <th rowspan=\"52\" valign=\"top\">2017</th>\n",
       "      <th>1</th>\n",
       "      <td>20.834322</td>\n",
       "      <td>1808873.66</td>\n",
       "    </tr>\n",
       "    <tr>\n",
       "      <th>2</th>\n",
       "      <td>25.080934</td>\n",
       "      <td>2000919.63</td>\n",
       "    </tr>\n",
       "    <tr>\n",
       "      <th>3</th>\n",
       "      <td>21.718123</td>\n",
       "      <td>1670037.96</td>\n",
       "    </tr>\n",
       "    <tr>\n",
       "      <th>4</th>\n",
       "      <td>26.080299</td>\n",
       "      <td>1821856.20</td>\n",
       "    </tr>\n",
       "    <tr>\n",
       "      <th>5</th>\n",
       "      <td>21.181296</td>\n",
       "      <td>1555705.11</td>\n",
       "    </tr>\n",
       "    <tr>\n",
       "      <th>6</th>\n",
       "      <td>17.240450</td>\n",
       "      <td>1423977.14</td>\n",
       "    </tr>\n",
       "    <tr>\n",
       "      <th>7</th>\n",
       "      <td>21.818013</td>\n",
       "      <td>932443.92</td>\n",
       "    </tr>\n",
       "    <tr>\n",
       "      <th>8</th>\n",
       "      <td>18.448992</td>\n",
       "      <td>766336.37</td>\n",
       "    </tr>\n",
       "    <tr>\n",
       "      <th>9</th>\n",
       "      <td>19.128797</td>\n",
       "      <td>302782.25</td>\n",
       "    </tr>\n",
       "    <tr>\n",
       "      <th>10</th>\n",
       "      <td>15.027907</td>\n",
       "      <td>252500.33</td>\n",
       "    </tr>\n",
       "    <tr>\n",
       "      <th>11</th>\n",
       "      <td>15.263085</td>\n",
       "      <td>342601.50</td>\n",
       "    </tr>\n",
       "    <tr>\n",
       "      <th>12</th>\n",
       "      <td>19.307766</td>\n",
       "      <td>306047.19</td>\n",
       "    </tr>\n",
       "    <tr>\n",
       "      <th>13</th>\n",
       "      <td>13.135818</td>\n",
       "      <td>1034702.26</td>\n",
       "    </tr>\n",
       "    <tr>\n",
       "      <th>14</th>\n",
       "      <td>14.895103</td>\n",
       "      <td>959210.81</td>\n",
       "    </tr>\n",
       "    <tr>\n",
       "      <th>15</th>\n",
       "      <td>18.107156</td>\n",
       "      <td>686615.15</td>\n",
       "    </tr>\n",
       "    <tr>\n",
       "      <th>16</th>\n",
       "      <td>19.387064</td>\n",
       "      <td>744448.07</td>\n",
       "    </tr>\n",
       "    <tr>\n",
       "      <th>17</th>\n",
       "      <td>16.710219</td>\n",
       "      <td>192127.96</td>\n",
       "    </tr>\n",
       "    <tr>\n",
       "      <th>18</th>\n",
       "      <td>15.506607</td>\n",
       "      <td>672026.54</td>\n",
       "    </tr>\n",
       "    <tr>\n",
       "      <th>19</th>\n",
       "      <td>16.736328</td>\n",
       "      <td>516922.15</td>\n",
       "    </tr>\n",
       "    <tr>\n",
       "      <th>20</th>\n",
       "      <td>14.674084</td>\n",
       "      <td>594162.54</td>\n",
       "    </tr>\n",
       "    <tr>\n",
       "      <th>21</th>\n",
       "      <td>15.946477</td>\n",
       "      <td>241535.92</td>\n",
       "    </tr>\n",
       "    <tr>\n",
       "      <th>22</th>\n",
       "      <td>17.075714</td>\n",
       "      <td>668142.31</td>\n",
       "    </tr>\n",
       "    <tr>\n",
       "      <th>23</th>\n",
       "      <td>19.123073</td>\n",
       "      <td>730392.67</td>\n",
       "    </tr>\n",
       "    <tr>\n",
       "      <th>24</th>\n",
       "      <td>19.678521</td>\n",
       "      <td>309980.07</td>\n",
       "    </tr>\n",
       "    <tr>\n",
       "      <th>25</th>\n",
       "      <td>15.796479</td>\n",
       "      <td>226123.91</td>\n",
       "    </tr>\n",
       "    <tr>\n",
       "      <th>26</th>\n",
       "      <td>20.124500</td>\n",
       "      <td>259842.73</td>\n",
       "    </tr>\n",
       "    <tr>\n",
       "      <th>27</th>\n",
       "      <td>30.040779</td>\n",
       "      <td>448324.64</td>\n",
       "    </tr>\n",
       "    <tr>\n",
       "      <th>28</th>\n",
       "      <td>21.875899</td>\n",
       "      <td>584348.74</td>\n",
       "    </tr>\n",
       "    <tr>\n",
       "      <th>29</th>\n",
       "      <td>23.204611</td>\n",
       "      <td>254470.92</td>\n",
       "    </tr>\n",
       "    <tr>\n",
       "      <th>30</th>\n",
       "      <td>23.434511</td>\n",
       "      <td>279356.59</td>\n",
       "    </tr>\n",
       "    <tr>\n",
       "      <th>31</th>\n",
       "      <td>24.408612</td>\n",
       "      <td>182868.15</td>\n",
       "    </tr>\n",
       "    <tr>\n",
       "      <th>32</th>\n",
       "      <td>22.387486</td>\n",
       "      <td>222346.24</td>\n",
       "    </tr>\n",
       "    <tr>\n",
       "      <th>33</th>\n",
       "      <td>21.903625</td>\n",
       "      <td>140653.54</td>\n",
       "    </tr>\n",
       "    <tr>\n",
       "      <th>34</th>\n",
       "      <td>20.820122</td>\n",
       "      <td>196191.40</td>\n",
       "    </tr>\n",
       "    <tr>\n",
       "      <th>35</th>\n",
       "      <td>21.574057</td>\n",
       "      <td>255048.33</td>\n",
       "    </tr>\n",
       "    <tr>\n",
       "      <th>36</th>\n",
       "      <td>18.920204</td>\n",
       "      <td>256674.32</td>\n",
       "    </tr>\n",
       "    <tr>\n",
       "      <th>37</th>\n",
       "      <td>20.736363</td>\n",
       "      <td>146556.67</td>\n",
       "    </tr>\n",
       "    <tr>\n",
       "      <th>38</th>\n",
       "      <td>20.807156</td>\n",
       "      <td>423720.06</td>\n",
       "    </tr>\n",
       "    <tr>\n",
       "      <th>39</th>\n",
       "      <td>20.482017</td>\n",
       "      <td>370964.44</td>\n",
       "    </tr>\n",
       "    <tr>\n",
       "      <th>40</th>\n",
       "      <td>20.186901</td>\n",
       "      <td>281143.60</td>\n",
       "    </tr>\n",
       "    <tr>\n",
       "      <th>41</th>\n",
       "      <td>20.757125</td>\n",
       "      <td>240875.20</td>\n",
       "    </tr>\n",
       "    <tr>\n",
       "      <th>42</th>\n",
       "      <td>26.790025</td>\n",
       "      <td>366393.98</td>\n",
       "    </tr>\n",
       "    <tr>\n",
       "      <th>43</th>\n",
       "      <td>20.038606</td>\n",
       "      <td>384146.78</td>\n",
       "    </tr>\n",
       "    <tr>\n",
       "      <th>44</th>\n",
       "      <td>20.233474</td>\n",
       "      <td>318674.02</td>\n",
       "    </tr>\n",
       "    <tr>\n",
       "      <th>45</th>\n",
       "      <td>19.333134</td>\n",
       "      <td>383885.15</td>\n",
       "    </tr>\n",
       "    <tr>\n",
       "      <th>46</th>\n",
       "      <td>17.342029</td>\n",
       "      <td>245180.89</td>\n",
       "    </tr>\n",
       "    <tr>\n",
       "      <th>47</th>\n",
       "      <td>22.768366</td>\n",
       "      <td>2411972.71</td>\n",
       "    </tr>\n",
       "    <tr>\n",
       "      <th>48</th>\n",
       "      <td>21.869152</td>\n",
       "      <td>850505.99</td>\n",
       "    </tr>\n",
       "    <tr>\n",
       "      <th>49</th>\n",
       "      <td>17.000465</td>\n",
       "      <td>279377.53</td>\n",
       "    </tr>\n",
       "    <tr>\n",
       "      <th>50</th>\n",
       "      <td>16.626365</td>\n",
       "      <td>520799.12</td>\n",
       "    </tr>\n",
       "    <tr>\n",
       "      <th>51</th>\n",
       "      <td>22.960004</td>\n",
       "      <td>675822.15</td>\n",
       "    </tr>\n",
       "    <tr>\n",
       "      <th>52</th>\n",
       "      <td>21.944178</td>\n",
       "      <td>1306320.80</td>\n",
       "    </tr>\n",
       "    <tr>\n",
       "      <th rowspan=\"11\" valign=\"top\">2018</th>\n",
       "      <th>1</th>\n",
       "      <td>21.289884</td>\n",
       "      <td>820882.26</td>\n",
       "    </tr>\n",
       "    <tr>\n",
       "      <th>2</th>\n",
       "      <td>25.142425</td>\n",
       "      <td>672554.34</td>\n",
       "    </tr>\n",
       "    <tr>\n",
       "      <th>3</th>\n",
       "      <td>23.348373</td>\n",
       "      <td>565540.12</td>\n",
       "    </tr>\n",
       "    <tr>\n",
       "      <th>4</th>\n",
       "      <td>22.865076</td>\n",
       "      <td>403676.01</td>\n",
       "    </tr>\n",
       "    <tr>\n",
       "      <th>5</th>\n",
       "      <td>21.180856</td>\n",
       "      <td>615399.26</td>\n",
       "    </tr>\n",
       "    <tr>\n",
       "      <th>6</th>\n",
       "      <td>19.524928</td>\n",
       "      <td>329653.60</td>\n",
       "    </tr>\n",
       "    <tr>\n",
       "      <th>7</th>\n",
       "      <td>28.904032</td>\n",
       "      <td>315753.94</td>\n",
       "    </tr>\n",
       "    <tr>\n",
       "      <th>8</th>\n",
       "      <td>19.224636</td>\n",
       "      <td>309759.76</td>\n",
       "    </tr>\n",
       "    <tr>\n",
       "      <th>9</th>\n",
       "      <td>20.522704</td>\n",
       "      <td>385628.63</td>\n",
       "    </tr>\n",
       "    <tr>\n",
       "      <th>10</th>\n",
       "      <td>20.624279</td>\n",
       "      <td>354230.96</td>\n",
       "    </tr>\n",
       "    <tr>\n",
       "      <th>11</th>\n",
       "      <td>24.145913</td>\n",
       "      <td>91405.62</td>\n",
       "    </tr>\n",
       "  </tbody>\n",
       "</table>\n",
       "</div>"
      ],
      "text/plain": [
       "          discount_rate total_unit_price_by_prod_qty\n",
       "                   mean                          sum\n",
       "date date                                           \n",
       "2017 1        20.834322                   1808873.66\n",
       "     2        25.080934                   2000919.63\n",
       "     3        21.718123                   1670037.96\n",
       "     4        26.080299                   1821856.20\n",
       "     5        21.181296                   1555705.11\n",
       "     6        17.240450                   1423977.14\n",
       "     7        21.818013                    932443.92\n",
       "     8        18.448992                    766336.37\n",
       "     9        19.128797                    302782.25\n",
       "     10       15.027907                    252500.33\n",
       "     11       15.263085                    342601.50\n",
       "     12       19.307766                    306047.19\n",
       "     13       13.135818                   1034702.26\n",
       "     14       14.895103                    959210.81\n",
       "     15       18.107156                    686615.15\n",
       "     16       19.387064                    744448.07\n",
       "     17       16.710219                    192127.96\n",
       "     18       15.506607                    672026.54\n",
       "     19       16.736328                    516922.15\n",
       "     20       14.674084                    594162.54\n",
       "     21       15.946477                    241535.92\n",
       "     22       17.075714                    668142.31\n",
       "     23       19.123073                    730392.67\n",
       "     24       19.678521                    309980.07\n",
       "     25       15.796479                    226123.91\n",
       "     26       20.124500                    259842.73\n",
       "     27       30.040779                    448324.64\n",
       "     28       21.875899                    584348.74\n",
       "     29       23.204611                    254470.92\n",
       "     30       23.434511                    279356.59\n",
       "     31       24.408612                    182868.15\n",
       "     32       22.387486                    222346.24\n",
       "     33       21.903625                    140653.54\n",
       "     34       20.820122                    196191.40\n",
       "     35       21.574057                    255048.33\n",
       "     36       18.920204                    256674.32\n",
       "     37       20.736363                    146556.67\n",
       "     38       20.807156                    423720.06\n",
       "     39       20.482017                    370964.44\n",
       "     40       20.186901                    281143.60\n",
       "     41       20.757125                    240875.20\n",
       "     42       26.790025                    366393.98\n",
       "     43       20.038606                    384146.78\n",
       "     44       20.233474                    318674.02\n",
       "     45       19.333134                    383885.15\n",
       "     46       17.342029                    245180.89\n",
       "     47       22.768366                   2411972.71\n",
       "     48       21.869152                    850505.99\n",
       "     49       17.000465                    279377.53\n",
       "     50       16.626365                    520799.12\n",
       "     51       22.960004                    675822.15\n",
       "     52       21.944178                   1306320.80\n",
       "2018 1        21.289884                    820882.26\n",
       "     2        25.142425                    672554.34\n",
       "     3        23.348373                    565540.12\n",
       "     4        22.865076                    403676.01\n",
       "     5        21.180856                    615399.26\n",
       "     6        19.524928                    329653.60\n",
       "     7        28.904032                    315753.94\n",
       "     8        19.224636                    309759.76\n",
       "     9        20.522704                    385628.63\n",
       "     10       20.624279                    354230.96\n",
       "     11       24.145913                     91405.62"
      ]
     },
     "execution_count": 276,
     "metadata": {},
     "output_type": "execute_result"
    }
   ],
   "source": [
    "# Grouping by year and week of the date column, then calculating mean \n",
    "# of 'discount_rate'and sum of 'total_unit_price_by_prod_qty'\n",
    "(\n",
    "    merged_df\n",
    "    .groupby(\n",
    "              [merged_df['date'].dt.year, \n",
    "              merged_df['date'].dt.week])\n",
    "    .agg({'discount_rate': ['mean'], 'total_unit_price_by_prod_qty': ['sum']})\n",
    ")\n"
   ]
  },
  {
   "attachments": {},
   "cell_type": "markdown",
   "metadata": {},
   "source": [
    "This script below will group the data by `year` and `week`, and then it will calculate the `mean` of the `'discount_rate'` column and `sum` of the `'total_unit_price_by_prod_qty'` column. \n",
    "\n",
    "Then it will plot the 'Discount Average Rate' and 'Revenue' columns on the same figure but with different y-axes, so you can see both data sets on the same plot with different scales."
   ]
  },
  {
   "cell_type": "code",
   "execution_count": 274,
   "metadata": {},
   "outputs": [
    {
     "data": {
      "image/png": "[encoded data removed]",
      "text/plain": [
       "<Figure size 1440x720 with 2 Axes>"
      ]
     },
     "metadata": {
      "needs_background": "light"
     },
     "output_type": "display_data"
    }
   ],
   "source": [
    "# Create a figure and a set of subplots\n",
    "fig, ax = plt.subplots(figsize=(20,10))\n",
    "\n",
    "# Groupby date and aggregate the mean of 'discount_rate' \n",
    "# Rename the column to 'Discount Rate'\n",
    "df1 = (\n",
    "    merged_df\n",
    "    .groupby([merged_df['date'].dt.year, merged_df['date'].dt.week])\n",
    "    .agg({'discount_rate': ['mean']})\n",
    ")\n",
    "\n",
    "# Plot the 'Discount Rate' column in the first axis\n",
    "df1.plot(ax=ax, color='r')\n",
    "ax.set_ylabel('Discount Average Rate', fontsize=15)\n",
    "\n",
    "# Create a second y-axis\n",
    "ax2 = ax.twinx()\n",
    "\n",
    "# Groupby date and aggregate the sum of 'total_unit_price_by_prod_qty'\n",
    "# Rename the column to 'Revenue'\n",
    "df2 = (\n",
    "    merged_df\n",
    "    .groupby([merged_df['date'].dt.year, merged_df['date'].dt.week])\n",
    "    .agg({'total_unit_price_by_prod_qty': ['sum']})\n",
    ")\n",
    "\n",
    "# Plot the 'Revenue' column in the second axis\n",
    "df2.plot(kind='bar', ax=ax2, color='g',alpha=0.5, width=0.7)\n",
    "ax2.set_ylabel('Revenue', fontsize=15)\n",
    "ax2.set_xticklabels([f'{week}' for _, week in df2.index])\n",
    "\n",
    "# Set the title and labels\n",
    "ax.legend().set_visible(False)\n",
    "ax2.legend().set_visible(False)\n",
    "ax.xaxis.label.set_visible(False)\n",
    "plt.title('Weekly Discount Average Rate and Revenue for entire DataFrame', fontsize=20)\n",
    "plt.show()\n"
   ]
  }
 ],
 "metadata": {
  "kernelspec": {
   "display_name": "base",
   "language": "python",
   "name": "python3"
  },
  "language_info": {
   "codemirror_mode": {
    "name": "ipython",
    "version": 3
   },
   "file_extension": ".py",
   "mimetype": "text/x-python",
   "name": "python",
   "nbconvert_exporter": "python",
   "pygments_lexer": "ipython3",
   "version": "3.9.12 (main, Apr  4 2022, 05:22:27) [MSC v.1916 64 bit (AMD64)]"
  },
  "orig_nbformat": 4,
  "vscode": {
   "interpreter": {
    "hash": "704aea7029d59a45433ae3b663f7cccf597e59967cc6a516676256c90bebdeef"
   }
  }
 },
 "nbformat": 4,
 "nbformat_minor": 2
}
