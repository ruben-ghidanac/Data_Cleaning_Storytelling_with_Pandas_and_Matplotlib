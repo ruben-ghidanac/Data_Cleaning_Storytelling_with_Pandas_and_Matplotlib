{
  "cells": [
    {
      "cell_type": "markdown",
      "metadata": {
        "id": "MGfHi2emuFvJ"
      },
      "source": [
        "# Grouping and aggregating data\n",
        "\n",
        "Most of the time, in pandas, we use `.groupby()` to group and aggregate data. This is a function that splits your data into certain categories, and then performs an aggregation, transformation, or filtration to those categories. Today we will only be looking at `.groupby()` and aggregations, and how they can help us to analyse our data. We will also learn about `resample()` as an alternative, more concise way to group dates and times.\n",
        "\n",
        "As always, let's start by reading the data:"
      ]
    },
    {
      "cell_type": "code",
      "execution_count": 1,
      "metadata": {
        "id": "Lq7zsZka4q2m"
      },
      "outputs": [],
      "source": [
        "import pandas as pd"
      ]
    },
    {
      "cell_type": "code",
      "execution_count": 2,
      "metadata": {
        "id": "30IJsE7t49Eu"
      },
      "outputs": [],
      "source": [
        "# orders_cl.csv\n",
        "path = \"C:/Users/ruben/local_repos/WBS/Data_Science/Section_3/Data_Cleaning_Storytelling_with_Pandas_and_Matplotlib/data/clean_data/orders_cl.csv\"\n",
        "orders_cl = pd.read_csv(path)\n",
        "\n",
        "# orderlines_cl.csv\n",
        "path = \"C:/Users/ruben/local_repos/WBS/Data_Science/Section_3/Data_Cleaning_Storytelling_with_Pandas_and_Matplotlib/data/clean_data/orderlines_cl.csv\"\n",
        "orderlines_cl = pd.read_csv(path)\n",
        "\n",
        "# products_cl.csv\n",
        "path = \"C:/Users/ruben/local_repos/WBS/Data_Science/Section_3/Data_Cleaning_Storytelling_with_Pandas_and_Matplotlib/data/clean_data/products_cl.csv\"\n",
        "products_cl = pd.read_csv(path)\n",
        "\n",
        "# brands_cl.csv\n",
        "path = \"C:/Users/ruben/local_repos/WBS/Data_Science/Section_3/Data_Cleaning_Storytelling_with_Pandas_and_Matplotlib/data/clean_data/brands_cl.csv\"\n",
        "brands_cl = pd.read_csv(path)"
      ]
    },
    {
      "cell_type": "code",
      "execution_count": 3,
      "metadata": {
        "id": "97-FGws5RzTk"
      },
      "outputs": [],
      "source": [
        "ol_df = orderlines_cl.copy()"
      ]
    },
    {
      "cell_type": "code",
      "execution_count": 4,
      "metadata": {
        "id": "sD3zRjTyk-9h"
      },
      "outputs": [
        {
          "name": "stdout",
          "output_type": "stream",
          "text": [
            "<class 'pandas.core.frame.DataFrame'>\n",
            "RangeIndex: 293983 entries, 0 to 293982\n",
            "Data columns (total 7 columns):\n",
            " #   Column            Non-Null Count   Dtype  \n",
            "---  ------            --------------   -----  \n",
            " 0   id                293983 non-null  int64  \n",
            " 1   id_order          293983 non-null  int64  \n",
            " 2   product_id        293983 non-null  int64  \n",
            " 3   product_quantity  293983 non-null  int64  \n",
            " 4   sku               293983 non-null  object \n",
            " 5   unit_price        293983 non-null  float64\n",
            " 6   date              293983 non-null  object \n",
            "dtypes: float64(1), int64(4), object(2)\n",
            "memory usage: 15.7+ MB\n"
          ]
        }
      ],
      "source": [
        "ol_df.info()"
      ]
    },
    {
      "cell_type": "markdown",
      "metadata": {
        "id": "O5JVxtyQnzLV"
      },
      "source": [
        "Change `date` to datetime."
      ]
    },
    {
      "cell_type": "code",
      "execution_count": 5,
      "metadata": {
        "id": "MxwG7CJ9lIQB"
      },
      "outputs": [],
      "source": [
        "ol_df[\"date\"] = pd.to_datetime(ol_df[\"date\"])"
      ]
    },
    {
      "cell_type": "markdown",
      "metadata": {
        "id": "BXWNhA9C2KsO"
      },
      "source": [
        "## 1.&nbsp; `.groupby` a single feature"
      ]
    },
    {
      "cell_type": "markdown",
      "metadata": {
        "id": "uuxv5HPeUcJp"
      },
      "source": [
        "When we use the `.groupby()` method, we always state in the parentheses the name of the column that contains the categories that should be grouped. For example, we are grouping here by the product number (SKU), which will give us one line per sku. `.count()` will tell us how many rows have been condensed into each group."
      ]
    },
    {
      "cell_type": "code",
      "execution_count": 6,
      "metadata": {
        "id": "4WAJ97U7Ryp8"
      },
      "outputs": [
        {
          "data": {
            "text/html": [
              "<div>\n",
              "<style scoped>\n",
              "    .dataframe tbody tr th:only-of-type {\n",
              "        vertical-align: middle;\n",
              "    }\n",
              "\n",
              "    .dataframe tbody tr th {\n",
              "        vertical-align: top;\n",
              "    }\n",
              "\n",
              "    .dataframe thead th {\n",
              "        text-align: right;\n",
              "    }\n",
              "</style>\n",
              "<table border=\"1\" class=\"dataframe\">\n",
              "  <thead>\n",
              "    <tr style=\"text-align: right;\">\n",
              "      <th></th>\n",
              "      <th>id</th>\n",
              "      <th>id_order</th>\n",
              "      <th>product_id</th>\n",
              "      <th>product_quantity</th>\n",
              "      <th>unit_price</th>\n",
              "      <th>date</th>\n",
              "    </tr>\n",
              "    <tr>\n",
              "      <th>sku</th>\n",
              "      <th></th>\n",
              "      <th></th>\n",
              "      <th></th>\n",
              "      <th></th>\n",
              "      <th></th>\n",
              "      <th></th>\n",
              "    </tr>\n",
              "  </thead>\n",
              "  <tbody>\n",
              "    <tr>\n",
              "      <th>8MO0001-A</th>\n",
              "      <td>2</td>\n",
              "      <td>2</td>\n",
              "      <td>2</td>\n",
              "      <td>2</td>\n",
              "      <td>2</td>\n",
              "      <td>2</td>\n",
              "    </tr>\n",
              "    <tr>\n",
              "      <th>8MO0003-A</th>\n",
              "      <td>3</td>\n",
              "      <td>3</td>\n",
              "      <td>3</td>\n",
              "      <td>3</td>\n",
              "      <td>3</td>\n",
              "      <td>3</td>\n",
              "    </tr>\n",
              "    <tr>\n",
              "      <th>8MO0007</th>\n",
              "      <td>29</td>\n",
              "      <td>29</td>\n",
              "      <td>29</td>\n",
              "      <td>29</td>\n",
              "      <td>29</td>\n",
              "      <td>29</td>\n",
              "    </tr>\n",
              "    <tr>\n",
              "      <th>8MO0008</th>\n",
              "      <td>30</td>\n",
              "      <td>30</td>\n",
              "      <td>30</td>\n",
              "      <td>30</td>\n",
              "      <td>30</td>\n",
              "      <td>30</td>\n",
              "    </tr>\n",
              "    <tr>\n",
              "      <th>8MO0009</th>\n",
              "      <td>28</td>\n",
              "      <td>28</td>\n",
              "      <td>28</td>\n",
              "      <td>28</td>\n",
              "      <td>28</td>\n",
              "      <td>28</td>\n",
              "    </tr>\n",
              "    <tr>\n",
              "      <th>...</th>\n",
              "      <td>...</td>\n",
              "      <td>...</td>\n",
              "      <td>...</td>\n",
              "      <td>...</td>\n",
              "      <td>...</td>\n",
              "      <td>...</td>\n",
              "    </tr>\n",
              "    <tr>\n",
              "      <th>ZAG0041</th>\n",
              "      <td>2</td>\n",
              "      <td>2</td>\n",
              "      <td>2</td>\n",
              "      <td>2</td>\n",
              "      <td>2</td>\n",
              "      <td>2</td>\n",
              "    </tr>\n",
              "    <tr>\n",
              "      <th>ZAG0042</th>\n",
              "      <td>1</td>\n",
              "      <td>1</td>\n",
              "      <td>1</td>\n",
              "      <td>1</td>\n",
              "      <td>1</td>\n",
              "      <td>1</td>\n",
              "    </tr>\n",
              "    <tr>\n",
              "      <th>ZEP0007</th>\n",
              "      <td>5</td>\n",
              "      <td>5</td>\n",
              "      <td>5</td>\n",
              "      <td>5</td>\n",
              "      <td>5</td>\n",
              "      <td>5</td>\n",
              "    </tr>\n",
              "    <tr>\n",
              "      <th>ZEP0008</th>\n",
              "      <td>1</td>\n",
              "      <td>1</td>\n",
              "      <td>1</td>\n",
              "      <td>1</td>\n",
              "      <td>1</td>\n",
              "      <td>1</td>\n",
              "    </tr>\n",
              "    <tr>\n",
              "      <th>par0072</th>\n",
              "      <td>12</td>\n",
              "      <td>12</td>\n",
              "      <td>12</td>\n",
              "      <td>12</td>\n",
              "      <td>12</td>\n",
              "      <td>12</td>\n",
              "    </tr>\n",
              "  </tbody>\n",
              "</table>\n",
              "<p>7951 rows × 6 columns</p>\n",
              "</div>"
            ],
            "text/plain": [
              "           id  id_order  product_id  product_quantity  unit_price  date\n",
              "sku                                                                    \n",
              "8MO0001-A   2         2           2                 2           2     2\n",
              "8MO0003-A   3         3           3                 3           3     3\n",
              "8MO0007    29        29          29                29          29    29\n",
              "8MO0008    30        30          30                30          30    30\n",
              "8MO0009    28        28          28                28          28    28\n",
              "...        ..       ...         ...               ...         ...   ...\n",
              "ZAG0041     2         2           2                 2           2     2\n",
              "ZAG0042     1         1           1                 1           1     1\n",
              "ZEP0007     5         5           5                 5           5     5\n",
              "ZEP0008     1         1           1                 1           1     1\n",
              "par0072    12        12          12                12          12    12\n",
              "\n",
              "[7951 rows x 6 columns]"
            ]
          },
          "execution_count": 6,
          "metadata": {},
          "output_type": "execute_result"
        }
      ],
      "source": [
        "ol_df.groupby(\"sku\").count()"
      ]
    },
    {
      "cell_type": "markdown",
      "metadata": {
        "id": "Jpu853EhFWD2"
      },
      "source": [
        "Notice how in this \"grouped\" DataFrame we have 6798 rows: one row for each unique `sku`. In the original DataFrame we had many more rows:"
      ]
    },
    {
      "cell_type": "code",
      "execution_count": 7,
      "metadata": {
        "id": "fRrHMdH1Fgpf"
      },
      "outputs": [
        {
          "data": {
            "text/plain": [
              "(293983, 7)"
            ]
          },
          "execution_count": 7,
          "metadata": {},
          "output_type": "execute_result"
        }
      ],
      "source": [
        "ol_df.shape"
      ]
    },
    {
      "cell_type": "markdown",
      "metadata": {
        "id": "NXx21qYyVM76"
      },
      "source": [
        "As you can see above, the same number of rows were condensed for each column, this is to be expected when we use `count()` as the aggregation function. However, if we use an aggregate such as `.sum()`, then we get the total for the condensed values of each column:"
      ]
    },
    {
      "cell_type": "code",
      "execution_count": 8,
      "metadata": {
        "id": "UJhFi7a3Vr7c"
      },
      "outputs": [
        {
          "name": "stderr",
          "output_type": "stream",
          "text": [
            "C:\\Users\\ruben\\AppData\\Local\\Temp\\ipykernel_28764\\1166432701.py:1: FutureWarning: The default value of numeric_only in DataFrameGroupBy.sum is deprecated. In a future version, numeric_only will default to False. Either specify numeric_only or select only columns which should be valid for the function.\n",
            "  ol_df.groupby(\"sku\").sum()\n"
          ]
        },
        {
          "data": {
            "text/html": [
              "<div>\n",
              "<style scoped>\n",
              "    .dataframe tbody tr th:only-of-type {\n",
              "        vertical-align: middle;\n",
              "    }\n",
              "\n",
              "    .dataframe tbody tr th {\n",
              "        vertical-align: top;\n",
              "    }\n",
              "\n",
              "    .dataframe thead th {\n",
              "        text-align: right;\n",
              "    }\n",
              "</style>\n",
              "<table border=\"1\" class=\"dataframe\">\n",
              "  <thead>\n",
              "    <tr style=\"text-align: right;\">\n",
              "      <th></th>\n",
              "      <th>id</th>\n",
              "      <th>id_order</th>\n",
              "      <th>product_id</th>\n",
              "      <th>product_quantity</th>\n",
              "      <th>unit_price</th>\n",
              "    </tr>\n",
              "    <tr>\n",
              "      <th>sku</th>\n",
              "      <th></th>\n",
              "      <th></th>\n",
              "      <th></th>\n",
              "      <th></th>\n",
              "      <th></th>\n",
              "    </tr>\n",
              "  </thead>\n",
              "  <tbody>\n",
              "    <tr>\n",
              "      <th>8MO0001-A</th>\n",
              "      <td>2731953</td>\n",
              "      <td>813237</td>\n",
              "      <td>0</td>\n",
              "      <td>2</td>\n",
              "      <td>25.92</td>\n",
              "    </tr>\n",
              "    <tr>\n",
              "      <th>8MO0003-A</th>\n",
              "      <td>4893267</td>\n",
              "      <td>1557627</td>\n",
              "      <td>0</td>\n",
              "      <td>3</td>\n",
              "      <td>38.55</td>\n",
              "    </tr>\n",
              "    <tr>\n",
              "      <th>8MO0007</th>\n",
              "      <td>37205508</td>\n",
              "      <td>10794389</td>\n",
              "      <td>0</td>\n",
              "      <td>30</td>\n",
              "      <td>619.71</td>\n",
              "    </tr>\n",
              "    <tr>\n",
              "      <th>8MO0008</th>\n",
              "      <td>38188229</td>\n",
              "      <td>11034203</td>\n",
              "      <td>0</td>\n",
              "      <td>31</td>\n",
              "      <td>651.70</td>\n",
              "    </tr>\n",
              "    <tr>\n",
              "      <th>8MO0009</th>\n",
              "      <td>40281947</td>\n",
              "      <td>12270595</td>\n",
              "      <td>0</td>\n",
              "      <td>30</td>\n",
              "      <td>499.60</td>\n",
              "    </tr>\n",
              "    <tr>\n",
              "      <th>...</th>\n",
              "      <td>...</td>\n",
              "      <td>...</td>\n",
              "      <td>...</td>\n",
              "      <td>...</td>\n",
              "      <td>...</td>\n",
              "    </tr>\n",
              "    <tr>\n",
              "      <th>ZAG0041</th>\n",
              "      <td>3289730</td>\n",
              "      <td>1050270</td>\n",
              "      <td>0</td>\n",
              "      <td>2</td>\n",
              "      <td>39.98</td>\n",
              "    </tr>\n",
              "    <tr>\n",
              "      <th>ZAG0042</th>\n",
              "      <td>1641159</td>\n",
              "      <td>523690</td>\n",
              "      <td>0</td>\n",
              "      <td>1</td>\n",
              "      <td>19.99</td>\n",
              "    </tr>\n",
              "    <tr>\n",
              "      <th>ZEP0007</th>\n",
              "      <td>6423489</td>\n",
              "      <td>1858331</td>\n",
              "      <td>0</td>\n",
              "      <td>5</td>\n",
              "      <td>685.59</td>\n",
              "    </tr>\n",
              "    <tr>\n",
              "      <th>ZEP0008</th>\n",
              "      <td>1508929</td>\n",
              "      <td>468546</td>\n",
              "      <td>0</td>\n",
              "      <td>1</td>\n",
              "      <td>104.12</td>\n",
              "    </tr>\n",
              "    <tr>\n",
              "      <th>par0072</th>\n",
              "      <td>16643352</td>\n",
              "      <td>4997995</td>\n",
              "      <td>0</td>\n",
              "      <td>13</td>\n",
              "      <td>2689.90</td>\n",
              "    </tr>\n",
              "  </tbody>\n",
              "</table>\n",
              "<p>7951 rows × 5 columns</p>\n",
              "</div>"
            ],
            "text/plain": [
              "                 id  id_order  product_id  product_quantity  unit_price\n",
              "sku                                                                    \n",
              "8MO0001-A   2731953    813237           0                 2       25.92\n",
              "8MO0003-A   4893267   1557627           0                 3       38.55\n",
              "8MO0007    37205508  10794389           0                30      619.71\n",
              "8MO0008    38188229  11034203           0                31      651.70\n",
              "8MO0009    40281947  12270595           0                30      499.60\n",
              "...             ...       ...         ...               ...         ...\n",
              "ZAG0041     3289730   1050270           0                 2       39.98\n",
              "ZAG0042     1641159    523690           0                 1       19.99\n",
              "ZEP0007     6423489   1858331           0                 5      685.59\n",
              "ZEP0008     1508929    468546           0                 1      104.12\n",
              "par0072    16643352   4997995           0                13     2689.90\n",
              "\n",
              "[7951 rows x 5 columns]"
            ]
          },
          "execution_count": 8,
          "metadata": {},
          "output_type": "execute_result"
        }
      ],
      "source": [
        "ol_df.groupby(\"sku\").sum()"
      ]
    },
    {
      "cell_type": "markdown",
      "metadata": {
        "id": "qxpruL7bV26a"
      },
      "source": [
        "Now, obviously, not all of the information above matters: it's not relevant what the sum of the `id`'s is. So, let's select the `product_quantity` and see how many units of each product were sold:"
      ]
    },
    {
      "cell_type": "code",
      "execution_count": 10,
      "metadata": {
        "id": "156UzFjzSpuS"
      },
      "outputs": [
        {
          "data": {
            "text/plain": [
              "sku\n",
              "8MO0001-A     2\n",
              "8MO0003-A     3\n",
              "8MO0007      30\n",
              "8MO0008      31\n",
              "8MO0009      30\n",
              "             ..\n",
              "ZAG0041       2\n",
              "ZAG0042       1\n",
              "ZEP0007       5\n",
              "ZEP0008       1\n",
              "par0072      13\n",
              "Name: product_quantity, Length: 6798, dtype: int64"
            ]
          },
          "execution_count": 10,
          "metadata": {},
          "output_type": "execute_result"
        }
      ],
      "source": [
        "ol_df.groupby(\"sku\")[\"product_quantity\"].sum()"
      ]
    },
    {
      "cell_type": "markdown",
      "metadata": {
        "id": "JGyvEWtKWiBn"
      },
      "source": [
        "It can be useful sometimes to sort the values from highest to lowest. With the `.sum()` of `product_quantity` this will help us to see how many of each item we sold in order of quantity."
      ]
    },
    {
      "cell_type": "code",
      "execution_count": 11,
      "metadata": {
        "id": "A99m-tRCT9RK"
      },
      "outputs": [
        {
          "data": {
            "text/plain": [
              "sku\n",
              "APP1190      5576\n",
              "APP0698      2337\n",
              "WDT0183      1828\n",
              "APP1922      1663\n",
              "APP0927      1618\n",
              "             ... \n",
              "PAC2241         1\n",
              "JBL0156         1\n",
              "PAC2237         1\n",
              "TIG0018-A       1\n",
              "APP0241-A       1\n",
              "Name: product_quantity, Length: 6798, dtype: int64"
            ]
          },
          "execution_count": 11,
          "metadata": {},
          "output_type": "execute_result"
        }
      ],
      "source": [
        "(\n",
        "    ol_df\n",
        "    .groupby(\"sku\")[\"product_quantity\"]\n",
        "    .sum()\n",
        "    .sort_values(ascending=False)\n",
        ")"
      ]
    },
    {
      "cell_type": "markdown",
      "metadata": {
        "id": "D58-EP0Snmi-"
      },
      "source": [
        "Or if you wish for only a certain number of the largest of smallest numbers, remember you can use `.nlargest()` or `.nsmallest()`"
      ]
    },
    {
      "cell_type": "code",
      "execution_count": 12,
      "metadata": {
        "id": "jPKxQPDen0tO"
      },
      "outputs": [
        {
          "data": {
            "text/plain": [
              "sku\n",
              "APP1190    5576\n",
              "APP0698    2337\n",
              "WDT0183    1828\n",
              "APP1922    1663\n",
              "APP0927    1618\n",
              "Name: product_quantity, dtype: int64"
            ]
          },
          "execution_count": 12,
          "metadata": {},
          "output_type": "execute_result"
        }
      ],
      "source": [
        "(\n",
        "    ol_df\n",
        "    .groupby(\"sku\")[\"product_quantity\"]\n",
        "    .sum()\n",
        "    .nlargest(5)\n",
        ")"
      ]
    },
    {
      "cell_type": "markdown",
      "metadata": {
        "id": "A8fNKlbMkC9c"
      },
      "source": [
        "### 1.1.&nbsp; List of aggregates\n",
        "\n",
        "It is possible to use many different aggregates besides just `.sum()` and `.count()`. A full list can be found [here](https://pandas.pydata.org/docs/reference/groupby.html), and below are a few of the most useful.\n",
        "\n",
        "* `.count()` – Number of non-null observations\n",
        "* `.sum()` – Sum of values\n",
        "* `.mean()` – Mean of values\n",
        "* `.median()` – Median of values\n",
        "* `.min()` – Minimum\n",
        "* `.max()` – Maximum\n",
        "* `.std()` – Standard deviation"
      ]
    },
    {
      "cell_type": "markdown",
      "metadata": {
        "id": "2hCaahyEki_6"
      },
      "source": [
        "### 1.2.&nbsp; `.agg()`\n",
        "We are not restricted to only using one aggregate at a time. We can use the `.agg()` method to see multiple aggregates at once."
      ]
    },
    {
      "cell_type": "markdown",
      "metadata": {
        "id": "_4uueTuf_Ypk"
      },
      "source": [
        "#### 1.2.1.&nbsp; multiple aggregates for one column\n",
        "Here we first `.groupby()` the `sku`'s, then take the column `product quantity`, and look at both the `.sum()` and `.count()` of `product_quantity`. We also here reduced our DataFrame to the 10 largest `sku`\"s according to the `.sum()` of `product_quantity`.\n",
        "\n",
        "> **Tip:** when working with many Pandas methods chained one after the other, wrap all the statement in parenthesis and add a line break before any `.method()`. It will improve the readability of the code*"
      ]
    },
    {
      "cell_type": "code",
      "execution_count": 13,
      "metadata": {
        "id": "AMktUr14kGv0"
      },
      "outputs": [
        {
          "data": {
            "text/html": [
              "<div>\n",
              "<style scoped>\n",
              "    .dataframe tbody tr th:only-of-type {\n",
              "        vertical-align: middle;\n",
              "    }\n",
              "\n",
              "    .dataframe tbody tr th {\n",
              "        vertical-align: top;\n",
              "    }\n",
              "\n",
              "    .dataframe thead th {\n",
              "        text-align: right;\n",
              "    }\n",
              "</style>\n",
              "<table border=\"1\" class=\"dataframe\">\n",
              "  <thead>\n",
              "    <tr style=\"text-align: right;\">\n",
              "      <th></th>\n",
              "      <th>sum</th>\n",
              "      <th>count</th>\n",
              "    </tr>\n",
              "    <tr>\n",
              "      <th>sku</th>\n",
              "      <th></th>\n",
              "      <th></th>\n",
              "    </tr>\n",
              "  </thead>\n",
              "  <tbody>\n",
              "    <tr>\n",
              "      <th>APP1190</th>\n",
              "      <td>5576</td>\n",
              "      <td>4306</td>\n",
              "    </tr>\n",
              "    <tr>\n",
              "      <th>APP0698</th>\n",
              "      <td>2337</td>\n",
              "      <td>1615</td>\n",
              "    </tr>\n",
              "    <tr>\n",
              "      <th>WDT0183</th>\n",
              "      <td>1828</td>\n",
              "      <td>1124</td>\n",
              "    </tr>\n",
              "    <tr>\n",
              "      <th>APP1922</th>\n",
              "      <td>1663</td>\n",
              "      <td>1560</td>\n",
              "    </tr>\n",
              "    <tr>\n",
              "      <th>APP0927</th>\n",
              "      <td>1618</td>\n",
              "      <td>1369</td>\n",
              "    </tr>\n",
              "    <tr>\n",
              "      <th>SAM0074</th>\n",
              "      <td>1346</td>\n",
              "      <td>1259</td>\n",
              "    </tr>\n",
              "    <tr>\n",
              "      <th>APP1970</th>\n",
              "      <td>1182</td>\n",
              "      <td>1007</td>\n",
              "    </tr>\n",
              "    <tr>\n",
              "      <th>APP1221</th>\n",
              "      <td>1131</td>\n",
              "      <td>1108</td>\n",
              "    </tr>\n",
              "    <tr>\n",
              "      <th>CRU0051</th>\n",
              "      <td>1122</td>\n",
              "      <td>948</td>\n",
              "    </tr>\n",
              "    <tr>\n",
              "      <th>WDT0141</th>\n",
              "      <td>1048</td>\n",
              "      <td>671</td>\n",
              "    </tr>\n",
              "  </tbody>\n",
              "</table>\n",
              "</div>"
            ],
            "text/plain": [
              "          sum  count\n",
              "sku                 \n",
              "APP1190  5576   4306\n",
              "APP0698  2337   1615\n",
              "WDT0183  1828   1124\n",
              "APP1922  1663   1560\n",
              "APP0927  1618   1369\n",
              "SAM0074  1346   1259\n",
              "APP1970  1182   1007\n",
              "APP1221  1131   1108\n",
              "CRU0051  1122    948\n",
              "WDT0141  1048    671"
            ]
          },
          "execution_count": 13,
          "metadata": {},
          "output_type": "execute_result"
        }
      ],
      "source": [
        "(\n",
        "    ol_df\n",
        "    .groupby(\"sku\")[\"product_quantity\"]\n",
        "    .agg([\"sum\", \"count\"])\n",
        "    .nlargest(10, \"sum\")\n",
        ")"
      ]
    },
    {
      "cell_type": "markdown",
      "metadata": {
        "id": "5TqpcLupNU7n"
      },
      "source": [
        "#### 1.2.2.&nbsp; mutliple aggregates for more than one column\n",
        "Not only can we look at multiple aggregates for one column. We can also look at multiple aggregates over multiple columns. Here we again `.groupby()` `sku` and take the `.sum()` and `.count()` of `product_quantity`, **and also** look at the `.mean()` of the `unit_price`."
      ]
    },
    {
      "cell_type": "code",
      "execution_count": 14,
      "metadata": {
        "id": "yGPFDBBl35VV"
      },
      "outputs": [
        {
          "data": {
            "text/html": [
              "<div>\n",
              "<style scoped>\n",
              "    .dataframe tbody tr th:only-of-type {\n",
              "        vertical-align: middle;\n",
              "    }\n",
              "\n",
              "    .dataframe tbody tr th {\n",
              "        vertical-align: top;\n",
              "    }\n",
              "\n",
              "    .dataframe thead tr th {\n",
              "        text-align: left;\n",
              "    }\n",
              "\n",
              "    .dataframe thead tr:last-of-type th {\n",
              "        text-align: right;\n",
              "    }\n",
              "</style>\n",
              "<table border=\"1\" class=\"dataframe\">\n",
              "  <thead>\n",
              "    <tr>\n",
              "      <th></th>\n",
              "      <th colspan=\"2\" halign=\"left\">product_quantity</th>\n",
              "      <th>unit_price</th>\n",
              "    </tr>\n",
              "    <tr>\n",
              "      <th></th>\n",
              "      <th>sum</th>\n",
              "      <th>count</th>\n",
              "      <th>mean</th>\n",
              "    </tr>\n",
              "    <tr>\n",
              "      <th>sku</th>\n",
              "      <th></th>\n",
              "      <th></th>\n",
              "      <th></th>\n",
              "    </tr>\n",
              "  </thead>\n",
              "  <tbody>\n",
              "    <tr>\n",
              "      <th>APP1190</th>\n",
              "      <td>5576</td>\n",
              "      <td>4306</td>\n",
              "      <td>56.014057</td>\n",
              "    </tr>\n",
              "    <tr>\n",
              "      <th>APP0698</th>\n",
              "      <td>2337</td>\n",
              "      <td>1615</td>\n",
              "      <td>10.116279</td>\n",
              "    </tr>\n",
              "    <tr>\n",
              "      <th>WDT0183</th>\n",
              "      <td>1828</td>\n",
              "      <td>1124</td>\n",
              "      <td>139.061770</td>\n",
              "    </tr>\n",
              "    <tr>\n",
              "      <th>APP1922</th>\n",
              "      <td>1663</td>\n",
              "      <td>1560</td>\n",
              "      <td>162.143968</td>\n",
              "    </tr>\n",
              "    <tr>\n",
              "      <th>APP0927</th>\n",
              "      <td>1618</td>\n",
              "      <td>1369</td>\n",
              "      <td>17.038773</td>\n",
              "    </tr>\n",
              "    <tr>\n",
              "      <th>SAM0074</th>\n",
              "      <td>1346</td>\n",
              "      <td>1259</td>\n",
              "      <td>152.823606</td>\n",
              "    </tr>\n",
              "    <tr>\n",
              "      <th>APP1970</th>\n",
              "      <td>1182</td>\n",
              "      <td>1007</td>\n",
              "      <td>362.970417</td>\n",
              "    </tr>\n",
              "    <tr>\n",
              "      <th>APP1221</th>\n",
              "      <td>1131</td>\n",
              "      <td>1108</td>\n",
              "      <td>106.131146</td>\n",
              "    </tr>\n",
              "    <tr>\n",
              "      <th>CRU0051</th>\n",
              "      <td>1122</td>\n",
              "      <td>948</td>\n",
              "      <td>140.734863</td>\n",
              "    </tr>\n",
              "    <tr>\n",
              "      <th>WDT0141</th>\n",
              "      <td>1048</td>\n",
              "      <td>671</td>\n",
              "      <td>109.266259</td>\n",
              "    </tr>\n",
              "  </tbody>\n",
              "</table>\n",
              "</div>"
            ],
            "text/plain": [
              "        product_quantity        unit_price\n",
              "                     sum count        mean\n",
              "sku                                       \n",
              "APP1190             5576  4306   56.014057\n",
              "APP0698             2337  1615   10.116279\n",
              "WDT0183             1828  1124  139.061770\n",
              "APP1922             1663  1560  162.143968\n",
              "APP0927             1618  1369   17.038773\n",
              "SAM0074             1346  1259  152.823606\n",
              "APP1970             1182  1007  362.970417\n",
              "APP1221             1131  1108  106.131146\n",
              "CRU0051             1122   948  140.734863\n",
              "WDT0141             1048   671  109.266259"
            ]
          },
          "execution_count": 14,
          "metadata": {},
          "output_type": "execute_result"
        }
      ],
      "source": [
        "(\n",
        "    ol_df\n",
        "    .groupby(\"sku\")\n",
        "    .agg({\"product_quantity\": [\"sum\", \"count\"], \"unit_price\": \"mean\"})\n",
        "    .nlargest(10, (\"product_quantity\", \"sum\"))\n",
        ")"
      ]
    },
    {
      "cell_type": "markdown",
      "metadata": {
        "id": "VtQqcHUj2bxn"
      },
      "source": [
        "## 2.&nbsp; `.groupby()` multiple features\n",
        "It's also possible to `.groupby()` multiple categories. Let's see how many products we sold each month."
      ]
    },
    {
      "cell_type": "code",
      "execution_count": 15,
      "metadata": {
        "id": "Gx3zB61ZX_NM"
      },
      "outputs": [
        {
          "data": {
            "text/plain": [
              "date  date\n",
              "2017  1       22363\n",
              "      2       14616\n",
              "      3       12443\n",
              "      4       13781\n",
              "      5       11665\n",
              "      6       11221\n",
              "      7       15347\n",
              "      8       11530\n",
              "      9       12213\n",
              "      10      15387\n",
              "      11      33082\n",
              "      12      24455\n",
              "2018  1       23810\n",
              "      2       15831\n",
              "      3        8067\n",
              "Name: product_quantity, dtype: int64"
            ]
          },
          "execution_count": 15,
          "metadata": {},
          "output_type": "execute_result"
        }
      ],
      "source": [
        "(\n",
        "    ol_df\n",
        "    .groupby([ol_df[\"date\"].dt.year, \n",
        "              ol_df[\"date\"].dt.month])[\"product_quantity\"]\n",
        "    .sum()\n",
        " )"
      ]
    },
    {
      "cell_type": "markdown",
      "metadata": {
        "id": "5eCJ-0YCqdMH"
      },
      "source": [
        "Looks like the end of the year and the begining of the year are the busiest times."
      ]
    },
    {
      "cell_type": "markdown",
      "metadata": {
        "id": "fhSTALCdHNs4"
      },
      "source": [
        "### 1.4.&nbsp; `.groupby()` aggregate plotting\n",
        "It's also possible to quickly plot aggregates with `.groupby()`, which can help us better understand the data. Let's plot the above values showing how many products we sold each month."
      ]
    },
    {
      "cell_type": "code",
      "execution_count": 16,
      "metadata": {
        "id": "fYcSi8rbvqkc"
      },
      "outputs": [
        {
          "data": {
            "image/png": "[encoded data removed]",
            "text/plain": [
              "<Figure size 1152x864 with 1 Axes>"
            ]
          },
          "metadata": {
            "needs_background": "light"
          },
          "output_type": "display_data"
        }
      ],
      "source": [
        "(\n",
        "    ol_df.groupby([ol_df[\"date\"].dt.year, \n",
        "                   ol_df[\"date\"].dt.month])[\"product_quantity\"]\n",
        "    .sum()\n",
        "    .plot(figsize=(16, 12))\n",
        ");"
      ]
    },
    {
      "cell_type": "markdown",
      "metadata": {
        "id": "6LDe4vd8wOJS"
      },
      "source": [
        "## 3.&nbsp; `.resample()`\n",
        "\n",
        "Resampling allows us to easily aggregate time series data. When using `.resample()`, we have to define:\n",
        "- The frequency of time for which to group the data (e.g. 5 minutely, hourly, daily...) expressed as a \"frequency string\" (`\"W\"` for weekly, `\"M\"` for monthly...). Find all available frequency strings [here](https://pandas.pydata.org/pandas-docs/stable/user_guide/timeseries.html#dateoffset-objects).\n",
        "- The column with the dates group by needs to be passed to the `on` parameter (unless you want group by the index).\n",
        "- The aggregate function (`sum()`, `count()`, `mean()`...)\n",
        "- The numerical column/s to aggregate.\n",
        "\n",
        "With this we can easily recreate our groupby above, where we looked at the amount of products sold each month. The date displayed is the last day of the given month."
      ]
    },
    {
      "cell_type": "code",
      "execution_count": 17,
      "metadata": {
        "id": "R8hb5n2zwfct"
      },
      "outputs": [
        {
          "data": {
            "text/plain": [
              "date\n",
              "2017-11-30    33082\n",
              "2017-12-31    24455\n",
              "2018-01-31    23810\n",
              "2017-01-31    22363\n",
              "2018-02-28    15831\n",
              "2017-10-31    15387\n",
              "2017-07-31    15347\n",
              "2017-02-28    14616\n",
              "2017-04-30    13781\n",
              "2017-03-31    12443\n",
              "2017-09-30    12213\n",
              "2017-05-31    11665\n",
              "2017-08-31    11530\n",
              "2017-06-30    11221\n",
              "2018-03-31     8067\n",
              "Name: product_quantity, dtype: int64"
            ]
          },
          "execution_count": 17,
          "metadata": {},
          "output_type": "execute_result"
        }
      ],
      "source": [
        "(\n",
        "    ol_df\n",
        "    .resample(\"M\", on=\"date\")[\"product_quantity\"]\n",
        "    .sum()\n",
        "    .sort_values(ascending=False)\n",
        ")"
      ]
    },
    {
      "cell_type": "markdown",
      "metadata": {
        "id": "HL0K2INaC5TC"
      },
      "source": [
        "We can also quickly plot a daily graph for the amount of products sold."
      ]
    },
    {
      "cell_type": "code",
      "execution_count": 18,
      "metadata": {
        "id": "mJylW2glwdge"
      },
      "outputs": [
        {
          "name": "stderr",
          "output_type": "stream",
          "text": [
            "C:\\Users\\ruben\\AppData\\Local\\Temp\\ipykernel_125512\\3331992248.py:2: FutureWarning: The default value of numeric_only in DataFrameGroupBy.sum is deprecated. In a future version, numeric_only will default to False. Either specify numeric_only or select only columns which should be valid for the function.\n",
            "  ol_df\n"
          ]
        },
        {
          "data": {
            "image/png": "[encoded data removed]",
            "text/plain": [
              "<Figure size 864x576 with 1 Axes>"
            ]
          },
          "metadata": {
            "needs_background": "light"
          },
          "output_type": "display_data"
        }
      ],
      "source": [
        "(\n",
        "    ol_df\n",
        "    .resample(\"D\", on=\"date\")\n",
        "    .sum()[\"product_quantity\"]\n",
        "    .plot(figsize=(12, 8))\n",
        " );"
      ]
    },
    {
      "cell_type": "markdown",
      "metadata": {
        "id": "WFFTrGagraNu"
      },
      "source": [
        "We can create the same graph as above using `.groupby()`, it just takes a little more code"
      ]
    },
    {
      "cell_type": "code",
      "execution_count": 19,
      "metadata": {
        "id": "L7LQ7w6Qrlnb"
      },
      "outputs": [
        {
          "data": {
            "image/png": "[encoded data removed]",
            "text/plain": [
              "<Figure size 864x576 with 1 Axes>"
            ]
          },
          "metadata": {
            "needs_background": "light"
          },
          "output_type": "display_data"
        }
      ],
      "source": [
        "(\n",
        "    ol_df\n",
        "    .groupby([ol_df.date.dt.year, \n",
        "              ol_df.date.dt.month,\n",
        "              ol_df.date.dt.day])[\"product_quantity\"]\n",
        "    .sum()\n",
        "    .plot(figsize=(12, 8))\n",
        " );"
      ]
    },
    {
      "cell_type": "markdown",
      "metadata": {
        "id": "zMBquCgarx0E"
      },
      "source": [
        "As you can see from the x-axis of the two charts above, `.resample()` works a little more inuitvely when you want to group by datetimes. This isn't to say that you cannot use `.groupby()` with datetimes, of course you can. `.resample()` just provides us with a little extra flexibility to group datetime by specific groups. For example, you can create `.resample()` input strings such as `2H20min` for groups of 2 hours 20minutes, `3min` for groups of 3 minutes, `1D3H` for 1 day 3hours etc... "
      ]
    },
    {
      "cell_type": "markdown",
      "metadata": {
        "id": "m050CtFNk0aG"
      },
      "source": [
        "# Challenges"
      ]
    },
    {
      "cell_type": "markdown",
      "metadata": {
        "id": "qzK9J3B2mWyT"
      },
      "source": [
        "## Challenge 1. What are the top 8 most sold products?"
      ]
    },
    {
      "cell_type": "code",
      "execution_count": 9,
      "metadata": {
        "id": "ykMv1QQN5Ujx"
      },
      "outputs": [
        {
          "data": {
            "text/html": [
              "<div>\n",
              "<style scoped>\n",
              "    .dataframe tbody tr th:only-of-type {\n",
              "        vertical-align: middle;\n",
              "    }\n",
              "\n",
              "    .dataframe tbody tr th {\n",
              "        vertical-align: top;\n",
              "    }\n",
              "\n",
              "    .dataframe thead tr th {\n",
              "        text-align: left;\n",
              "    }\n",
              "\n",
              "    .dataframe thead tr:last-of-type th {\n",
              "        text-align: right;\n",
              "    }\n",
              "</style>\n",
              "<table border=\"1\" class=\"dataframe\">\n",
              "  <thead>\n",
              "    <tr>\n",
              "      <th></th>\n",
              "      <th>product_quantity</th>\n",
              "    </tr>\n",
              "    <tr>\n",
              "      <th></th>\n",
              "      <th>sum</th>\n",
              "    </tr>\n",
              "    <tr>\n",
              "      <th>sku</th>\n",
              "      <th></th>\n",
              "    </tr>\n",
              "  </thead>\n",
              "  <tbody>\n",
              "    <tr>\n",
              "      <th>APP1190</th>\n",
              "      <td>6366</td>\n",
              "    </tr>\n",
              "    <tr>\n",
              "      <th>MIC0036</th>\n",
              "      <td>6316</td>\n",
              "    </tr>\n",
              "    <tr>\n",
              "      <th>APP1216</th>\n",
              "      <td>5648</td>\n",
              "    </tr>\n",
              "    <tr>\n",
              "      <th>APP0662</th>\n",
              "      <td>5487</td>\n",
              "    </tr>\n",
              "    <tr>\n",
              "      <th>APP0663</th>\n",
              "      <td>4164</td>\n",
              "    </tr>\n",
              "    <tr>\n",
              "      <th>MMW0016</th>\n",
              "      <td>2615</td>\n",
              "    </tr>\n",
              "    <tr>\n",
              "      <th>APP0698</th>\n",
              "      <td>2348</td>\n",
              "    </tr>\n",
              "    <tr>\n",
              "      <th>SAT0054</th>\n",
              "      <td>2322</td>\n",
              "    </tr>\n",
              "  </tbody>\n",
              "</table>\n",
              "</div>"
            ],
            "text/plain": [
              "        product_quantity\n",
              "                     sum\n",
              "sku                     \n",
              "APP1190             6366\n",
              "MIC0036             6316\n",
              "APP1216             5648\n",
              "APP0662             5487\n",
              "APP0663             4164\n",
              "MMW0016             2615\n",
              "APP0698             2348\n",
              "SAT0054             2322"
            ]
          },
          "execution_count": 9,
          "metadata": {},
          "output_type": "execute_result"
        }
      ],
      "source": [
        "# your code here\n",
        "(\n",
        "    ol_df\n",
        "    .groupby(\"sku\")\n",
        "    .agg({\"product_quantity\": [\"sum\"]})\n",
        "    .nlargest(8, (\"product_quantity\", \"sum\"))\n",
        ")"
      ]
    },
    {
      "cell_type": "markdown",
      "metadata": {
        "id": "PXYMOnwWyfkf"
      },
      "source": [
        "## Challenge 2. How many products did each of the 5 largest orders contain?"
      ]
    },
    {
      "cell_type": "code",
      "execution_count": 10,
      "metadata": {
        "id": "EStMw8mQ5hkz"
      },
      "outputs": [
        {
          "data": {
            "text/html": [
              "<div>\n",
              "<style scoped>\n",
              "    .dataframe tbody tr th:only-of-type {\n",
              "        vertical-align: middle;\n",
              "    }\n",
              "\n",
              "    .dataframe tbody tr th {\n",
              "        vertical-align: top;\n",
              "    }\n",
              "\n",
              "    .dataframe thead tr th {\n",
              "        text-align: left;\n",
              "    }\n",
              "\n",
              "    .dataframe thead tr:last-of-type th {\n",
              "        text-align: right;\n",
              "    }\n",
              "</style>\n",
              "<table border=\"1\" class=\"dataframe\">\n",
              "  <thead>\n",
              "    <tr>\n",
              "      <th></th>\n",
              "      <th>product_quantity</th>\n",
              "    </tr>\n",
              "    <tr>\n",
              "      <th></th>\n",
              "      <th>sum</th>\n",
              "    </tr>\n",
              "    <tr>\n",
              "      <th>id_order</th>\n",
              "      <th></th>\n",
              "    </tr>\n",
              "  </thead>\n",
              "  <tbody>\n",
              "    <tr>\n",
              "      <th>358747</th>\n",
              "      <td>1081</td>\n",
              "    </tr>\n",
              "    <tr>\n",
              "      <th>346221</th>\n",
              "      <td>999</td>\n",
              "    </tr>\n",
              "    <tr>\n",
              "      <th>349475</th>\n",
              "      <td>800</td>\n",
              "    </tr>\n",
              "    <tr>\n",
              "      <th>349133</th>\n",
              "      <td>555</td>\n",
              "    </tr>\n",
              "    <tr>\n",
              "      <th>484334</th>\n",
              "      <td>264</td>\n",
              "    </tr>\n",
              "  </tbody>\n",
              "</table>\n",
              "</div>"
            ],
            "text/plain": [
              "         product_quantity\n",
              "                      sum\n",
              "id_order                 \n",
              "358747               1081\n",
              "346221                999\n",
              "349475                800\n",
              "349133                555\n",
              "484334                264"
            ]
          },
          "execution_count": 10,
          "metadata": {},
          "output_type": "execute_result"
        }
      ],
      "source": [
        "# your code here\n",
        "(\n",
        "    ol_df\n",
        "    .groupby(\"id_order\")\n",
        "    .agg({\"product_quantity\": [\"sum\"]})\n",
        "    .nlargest(5, (\"product_quantity\", \"sum\"))\n",
        ")"
      ]
    },
    {
      "cell_type": "markdown",
      "metadata": {
        "id": "4LhlPkykEOZT"
      },
      "source": [
        "## Challenge 3. We want to see how busy the days of the week are to know when we need more staff. Rank the days of the week from busiest to least busiest. \n",
        "Bonus points for using your pandas plotting skills."
      ]
    },
    {
      "cell_type": "code",
      "execution_count": 11,
      "metadata": {},
      "outputs": [
        {
          "data": {
            "text/html": [
              "<div>\n",
              "<style scoped>\n",
              "    .dataframe tbody tr th:only-of-type {\n",
              "        vertical-align: middle;\n",
              "    }\n",
              "\n",
              "    .dataframe tbody tr th {\n",
              "        vertical-align: top;\n",
              "    }\n",
              "\n",
              "    .dataframe thead th {\n",
              "        text-align: right;\n",
              "    }\n",
              "</style>\n",
              "<table border=\"1\" class=\"dataframe\">\n",
              "  <thead>\n",
              "    <tr style=\"text-align: right;\">\n",
              "      <th></th>\n",
              "      <th>order_id</th>\n",
              "      <th>created_date</th>\n",
              "      <th>total_paid</th>\n",
              "      <th>state</th>\n",
              "    </tr>\n",
              "  </thead>\n",
              "  <tbody>\n",
              "    <tr>\n",
              "      <th>0</th>\n",
              "      <td>241319</td>\n",
              "      <td>2017-01-02 13:35:40</td>\n",
              "      <td>44.99</td>\n",
              "      <td>Cancelled</td>\n",
              "    </tr>\n",
              "    <tr>\n",
              "      <th>1</th>\n",
              "      <td>241423</td>\n",
              "      <td>2017-11-06 13:10:02</td>\n",
              "      <td>136.15</td>\n",
              "      <td>Completed</td>\n",
              "    </tr>\n",
              "    <tr>\n",
              "      <th>2</th>\n",
              "      <td>242832</td>\n",
              "      <td>2017-12-31 17:40:03</td>\n",
              "      <td>15.76</td>\n",
              "      <td>Completed</td>\n",
              "    </tr>\n",
              "    <tr>\n",
              "      <th>3</th>\n",
              "      <td>243330</td>\n",
              "      <td>2017-02-16 10:59:38</td>\n",
              "      <td>84.98</td>\n",
              "      <td>Completed</td>\n",
              "    </tr>\n",
              "    <tr>\n",
              "      <th>4</th>\n",
              "      <td>243784</td>\n",
              "      <td>2017-11-24 13:35:19</td>\n",
              "      <td>157.86</td>\n",
              "      <td>Cancelled</td>\n",
              "    </tr>\n",
              "    <tr>\n",
              "      <th>...</th>\n",
              "      <td>...</td>\n",
              "      <td>...</td>\n",
              "      <td>...</td>\n",
              "      <td>...</td>\n",
              "    </tr>\n",
              "    <tr>\n",
              "      <th>226899</th>\n",
              "      <td>527397</td>\n",
              "      <td>2018-03-14 13:56:38</td>\n",
              "      <td>42.99</td>\n",
              "      <td>Place Order</td>\n",
              "    </tr>\n",
              "    <tr>\n",
              "      <th>226900</th>\n",
              "      <td>527398</td>\n",
              "      <td>2018-03-14 13:57:25</td>\n",
              "      <td>42.99</td>\n",
              "      <td>Shopping Basket</td>\n",
              "    </tr>\n",
              "    <tr>\n",
              "      <th>226901</th>\n",
              "      <td>527399</td>\n",
              "      <td>2018-03-14 13:57:34</td>\n",
              "      <td>141.58</td>\n",
              "      <td>Shopping Basket</td>\n",
              "    </tr>\n",
              "    <tr>\n",
              "      <th>226902</th>\n",
              "      <td>527400</td>\n",
              "      <td>2018-03-14 13:57:41</td>\n",
              "      <td>19.98</td>\n",
              "      <td>Shopping Basket</td>\n",
              "    </tr>\n",
              "    <tr>\n",
              "      <th>226903</th>\n",
              "      <td>527401</td>\n",
              "      <td>2018-03-14 13:58:36</td>\n",
              "      <td>18.98</td>\n",
              "      <td>Place Order</td>\n",
              "    </tr>\n",
              "  </tbody>\n",
              "</table>\n",
              "<p>226904 rows × 4 columns</p>\n",
              "</div>"
            ],
            "text/plain": [
              "        order_id         created_date  total_paid            state\n",
              "0         241319  2017-01-02 13:35:40       44.99        Cancelled\n",
              "1         241423  2017-11-06 13:10:02      136.15        Completed\n",
              "2         242832  2017-12-31 17:40:03       15.76        Completed\n",
              "3         243330  2017-02-16 10:59:38       84.98        Completed\n",
              "4         243784  2017-11-24 13:35:19      157.86        Cancelled\n",
              "...          ...                  ...         ...              ...\n",
              "226899    527397  2018-03-14 13:56:38       42.99      Place Order\n",
              "226900    527398  2018-03-14 13:57:25       42.99  Shopping Basket\n",
              "226901    527399  2018-03-14 13:57:34      141.58  Shopping Basket\n",
              "226902    527400  2018-03-14 13:57:41       19.98  Shopping Basket\n",
              "226903    527401  2018-03-14 13:58:36       18.98      Place Order\n",
              "\n",
              "[226904 rows x 4 columns]"
            ]
          },
          "execution_count": 11,
          "metadata": {},
          "output_type": "execute_result"
        }
      ],
      "source": [
        "orders_cl"
      ]
    },
    {
      "cell_type": "code",
      "execution_count": 12,
      "metadata": {},
      "outputs": [],
      "source": [
        "# your code here\n",
        "orders_cl[\"created_date\"] = pd.to_datetime(orders_cl[\"created_date\"])"
      ]
    },
    {
      "cell_type": "code",
      "execution_count": 13,
      "metadata": {
        "id": "vJFw9Tmrvswv"
      },
      "outputs": [
        {
          "data": {
            "image/png": "[encoded data removed]",
            "text/plain": [
              "<Figure size 720x720 with 1 Axes>"
            ]
          },
          "metadata": {
            "needs_background": "light"
          },
          "output_type": "display_data"
        }
      ],
      "source": [
        "(\n",
        "    orders_cl\n",
        "    .groupby(orders_cl[\"created_date\"].dt.day_name())[\"order_id\"]\n",
        "    .count()\n",
        "    .sort_values()\n",
        "    .plot\n",
        "    .barh(figsize=(10,10), fontsize=16)\n",
        ");"
      ]
    },
    {
      "cell_type": "markdown",
      "metadata": {
        "id": "lO2HC3vYzBB3"
      },
      "source": [
        "## Challenge 4. Which brands sell the most products?"
      ]
    },
    {
      "cell_type": "code",
      "execution_count": 14,
      "metadata": {
        "id": "0lPd1Y_ZIhkD"
      },
      "outputs": [],
      "source": [
        "# your code here\n",
        "orderlines_cl[\"brand\"] = orderlines_cl[\"sku\"].str[0:3]"
      ]
    },
    {
      "cell_type": "code",
      "execution_count": 15,
      "metadata": {},
      "outputs": [],
      "source": [
        "orderlines_brands_df = orderlines_cl.merge(brands_cl, how=\"left\", left_on=\"brand\", right_on=\"short\")"
      ]
    },
    {
      "cell_type": "code",
      "execution_count": 16,
      "metadata": {},
      "outputs": [
        {
          "data": {
            "text/plain": [
              "long\n",
              "Apple              109403\n",
              "Pack                15992\n",
              "OWC                 12481\n",
              "Western Digital     10763\n",
              "Satechi              9094\n",
              "Belkin               8693\n",
              "Crucial              8101\n",
              "Wacom                8038\n",
              "LaCie                7336\n",
              "Microsoft            6433\n",
              "Name: product_quantity, dtype: int64"
            ]
          },
          "execution_count": 16,
          "metadata": {},
          "output_type": "execute_result"
        }
      ],
      "source": [
        "(\n",
        "    orderlines_brands_df\n",
        "    .groupby(\"long\")[\"product_quantity\"]\n",
        "    .sum()\n",
        "    .nlargest(10)\n",
        ")"
      ]
    },
    {
      "cell_type": "markdown",
      "metadata": {
        "id": "Nwvy0aVmQl_v"
      },
      "source": [
        "## Challenge 5. Plot a line chart for the amount of orders each hour of November 2017"
      ]
    },
    {
      "cell_type": "code",
      "execution_count": 17,
      "metadata": {
        "id": "GTYN3cYAIjSr"
      },
      "outputs": [],
      "source": [
        "# your code here\n",
        "november_2017_df = orders_cl.loc[orders_cl[\"created_date\"].between(\"2017-11-01\", \"2017-11-30\"), :]"
      ]
    },
    {
      "cell_type": "code",
      "execution_count": 18,
      "metadata": {},
      "outputs": [
        {
          "data": {
            "image/png": "[encoded data removed]",
            "text/plain": [
              "<Figure size 1728x576 with 1 Axes>"
            ]
          },
          "metadata": {
            "needs_background": "light"
          },
          "output_type": "display_data"
        }
      ],
      "source": [
        "(\n",
        "    november_2017_df\n",
        "    .resample(\"1H\", on=\"created_date\")[\"order_id\"]\n",
        "    .count()\n",
        "    .plot(figsize=(24, 8), fontsize=20)\n",
        ");"
      ]
    }
  ],
  "metadata": {
    "colab": {
      "provenance": []
    },
    "kernelspec": {
      "display_name": "base",
      "language": "python",
      "name": "python3"
    },
    "language_info": {
      "codemirror_mode": {
        "name": "ipython",
        "version": 3
      },
      "file_extension": ".py",
      "mimetype": "text/x-python",
      "name": "python",
      "nbconvert_exporter": "python",
      "pygments_lexer": "ipython3",
      "version": "3.9.12"
    },
    "vscode": {
      "interpreter": {
        "hash": "704aea7029d59a45433ae3b663f7cccf597e59967cc6a516676256c90bebdeef"
      }
    }
  },
  "nbformat": 4,
  "nbformat_minor": 0
}
