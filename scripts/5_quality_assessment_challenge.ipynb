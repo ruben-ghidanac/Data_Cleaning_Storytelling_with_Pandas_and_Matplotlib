{
  "cells": [
    {
      "cell_type": "markdown",
      "metadata": {
        "id": "aSm5aaRLtFLx"
      },
      "source": [
        "# Quality Assessment\n",
        "Now it's your turn. Follow [the steps on the platform](https://platform.wbscodingschool.com/courses/data-science/9474/) and use what you've learnt to see how reliable the data is."
      ]
    },
    {
      "cell_type": "code",
      "execution_count": 2,
      "metadata": {
        "id": "Lq7zsZka4q2m"
      },
      "outputs": [],
      "source": [
        "import pandas as pd"
      ]
    },
    {
      "cell_type": "markdown",
      "metadata": {
        "id": "hzwXSr-xfh97"
      },
      "source": [
        "Load our cleaned DataFrames"
      ]
    },
    {
      "cell_type": "code",
      "execution_count": 3,
      "metadata": {
        "id": "30IJsE7t49Eu"
      },
      "outputs": [],
      "source": [
        "# orders_cl.csv\n",
        "path = \"C:/Users/ruben/local_repos/WBS/Data_Science/Section_3/Data_Cleaning_Storytelling_with_Pandas_and_Matplotlib/data/clean_data/orders_cl.csv\"\n",
        "orders_cl = pd.read_csv(path)\n",
        "\n",
        "# orderlines_cl.csv\n",
        "path = \"C:/Users/ruben/local_repos/WBS/Data_Science/Section_3/Data_Cleaning_Storytelling_with_Pandas_and_Matplotlib/data/clean_data/orderlines_cl.csv\"\n",
        "orderlines_cl = pd.read_csv(path)\n",
        "\n",
        "# products_cl.csv\n",
        "path = \"C:/Users/ruben/local_repos/WBS/Data_Science/Section_3/Data_Cleaning_Storytelling_with_Pandas_and_Matplotlib/data/clean_data/products_cl.csv\"\n",
        "products_cl = pd.read_csv(path)"
      ]
    },
    {
      "cell_type": "markdown",
      "metadata": {
        "id": "GjQD8WPe6h0i"
      },
      "source": [
        "## 1.&nbsp; Define Pandas display format"
      ]
    },
    {
      "cell_type": "code",
      "execution_count": 5,
      "metadata": {
        "id": "SLikKmNx4WNo"
      },
      "outputs": [],
      "source": [
        "# your code here\n",
        "# This line sets the display format for floating point numbers to 2 decimal places\n",
        "pd.set_option(\"display.float_format\", lambda x: \"%.2f\" % x)\n",
        "\n",
        "# This line sets the maximum number of rows displayed when using the `head()` or `tail()` functions to 1000\n",
        "pd.set_option(\"display.max_rows\", 1000)"
      ]
    },
    {
      "cell_type": "markdown",
      "metadata": {
        "id": "M0NhTKzF6jV4"
      },
      "source": [
        "## 2.&nbsp; Exclude unwanted orders"
      ]
    },
    {
      "attachments": {},
      "cell_type": "markdown",
      "metadata": {},
      "source": [
        "### 2.1. Keep only `Completed` orders"
      ]
    },
    {
      "attachments": {},
      "cell_type": "markdown",
      "metadata": {},
      "source": [
        "Make sure any of our changes won't affect the original DataFrame."
      ]
    },
    {
      "cell_type": "code",
      "execution_count": 7,
      "metadata": {
        "id": "ja0XpsDDkZrT"
      },
      "outputs": [],
      "source": [
        "# your code here\n",
        "actual_purchases_df = orders_cl.copy()"
      ]
    },
    {
      "cell_type": "code",
      "execution_count": 8,
      "metadata": {},
      "outputs": [
        {
          "data": {
            "text/plain": [
              "Shopping Basket    117809\n",
              "Completed           46605\n",
              "Place Order         40883\n",
              "Pending             14374\n",
              "Cancelled            7233\n",
              "Name: state, dtype: int64"
            ]
          },
          "execution_count": 8,
          "metadata": {},
          "output_type": "execute_result"
        }
      ],
      "source": [
        "actual_purchases_df.state.value_counts()"
      ]
    },
    {
      "attachments": {},
      "cell_type": "markdown",
      "metadata": {},
      "source": [
        "I don't need `Shopping Basket`, `Place Order`, `Pending`, `Cancelled`, I will focus only on `Completed` ones."
      ]
    },
    {
      "cell_type": "code",
      "execution_count": 9,
      "metadata": {},
      "outputs": [],
      "source": [
        "actual_purchases_df = actual_purchases_df.loc[actual_purchases_df.state == \"Completed\", :]"
      ]
    },
    {
      "attachments": {},
      "cell_type": "markdown",
      "metadata": {},
      "source": [
        "I want to create a list of  `order_id`'s of the `Completed` orders that are useful, and I will use to filtering both, `orders_cl` and `orderlines_cl`."
      ]
    },
    {
      "cell_type": "code",
      "execution_count": 10,
      "metadata": {},
      "outputs": [],
      "source": [
        "actual_purchases_list = list(actual_purchases_df[\"order_id\"])"
      ]
    },
    {
      "attachments": {},
      "cell_type": "markdown",
      "metadata": {},
      "source": [
        "We can now use the list of `order_id`'s to filter our DataFrames that have been cleaned. We will change the naming of the DataFrames from `_cl` to `_qu` to differentiate between the data that has undergone cleaning and the data that has undergone quality control."
      ]
    },
    {
      "cell_type": "code",
      "execution_count": 11,
      "metadata": {},
      "outputs": [],
      "source": [
        "orders_qu = orders_cl.loc[orders_cl[\"order_id\"].isin(actual_purchases_list), :].copy()"
      ]
    },
    {
      "cell_type": "code",
      "execution_count": 12,
      "metadata": {},
      "outputs": [],
      "source": [
        "orderlines_qu = orderlines_cl.loc[orderlines_cl[\"id_order\"].isin(actual_purchases_list), :].copy()"
      ]
    },
    {
      "attachments": {},
      "cell_type": "markdown",
      "metadata": {},
      "source": [
        "### 2.2. Keep only the orders that are present in both: `orders` and `orderlines`"
      ]
    },
    {
      "cell_type": "code",
      "execution_count": 13,
      "metadata": {},
      "outputs": [],
      "source": [
        "orders_lines_merged_df = orders_qu.merge(orderlines_qu, how=\"inner\", left_on=\"order_id\", right_on=\"id_order\")"
      ]
    },
    {
      "cell_type": "code",
      "execution_count": 14,
      "metadata": {},
      "outputs": [],
      "source": [
        "list_of_orders_in_both_df = list(orders_lines_merged_df[\"order_id\"].unique())"
      ]
    },
    {
      "cell_type": "code",
      "execution_count": 15,
      "metadata": {},
      "outputs": [],
      "source": [
        "orders_qu = orders_qu.loc[orders_qu[\"order_id\"].isin(list_of_orders_in_both_df), :]\n",
        "orderlines_qu = orderlines_cl.loc[orderlines_cl[\"id_order\"].isin(list_of_orders_in_both_df), :]"
      ]
    },
    {
      "cell_type": "markdown",
      "metadata": {
        "id": "F-rtzwAn7WyS"
      },
      "source": [
        "## 3.&nbsp; Exclude orders with unknown products\n"
      ]
    },
    {
      "attachments": {},
      "cell_type": "markdown",
      "metadata": {},
      "source": [
        "**sku** – stock keeping unit: a unique identifier for each product"
      ]
    },
    {
      "cell_type": "code",
      "execution_count": 16,
      "metadata": {
        "id": "EkNqtrfdJGAW"
      },
      "outputs": [],
      "source": [
        "# your code here\n",
        "known_skus_list = list(products_cl[\"sku\"])"
      ]
    },
    {
      "attachments": {},
      "cell_type": "markdown",
      "metadata": {},
      "source": [
        "Let's have a look to see how many products in our `orderlines_qu` DataFrame are known and how many are unknown."
      ]
    },
    {
      "cell_type": "code",
      "execution_count": 17,
      "metadata": {},
      "outputs": [
        {
          "data": {
            "text/plain": [
              "True     61710\n",
              "False      393\n",
              "Name: sku, dtype: int64"
            ]
          },
          "execution_count": 17,
          "metadata": {},
          "output_type": "execute_result"
        }
      ],
      "source": [
        "orderlines_qu.sku.isin(known_skus_list).value_counts()"
      ]
    },
    {
      "attachments": {},
      "cell_type": "markdown",
      "metadata": {},
      "source": [
        "We can't simply delete the rows containing unknown products. We need to remove the entirety of any order that contains an unknown product. \n",
        "\n",
        "The 1st step is to identify any order that contains an unknown product. Then find the `order_id` of these orders. Finally, filter these order numbers out of our `_qu` DataFrames."
      ]
    },
    {
      "cell_type": "code",
      "execution_count": 20,
      "metadata": {},
      "outputs": [],
      "source": [
        "orders_with_unknown_products_list = list(orderlines_qu.loc[~orderlines_qu.sku.isin(known_skus_list), \"id_order\"])"
      ]
    },
    {
      "cell_type": "markdown",
      "metadata": {},
      "source": [
        "Now we can filter our DataFrame to exclude the `order_id`'s that contain unknown products"
      ]
    },
    {
      "cell_type": "code",
      "execution_count": 21,
      "metadata": {},
      "outputs": [],
      "source": [
        "orders_qu = orders_qu.loc[~orders_qu[\"order_id\"].isin(orders_with_unknown_products_list), :]\n",
        "orderlines_qu = orderlines_qu.loc[~orderlines_qu[\"id_order\"].isin(orders_with_unknown_products_list), :]"
      ]
    },
    {
      "attachments": {},
      "cell_type": "markdown",
      "metadata": {},
      "source": [
        "Let's have a quick check to make sure we're filtering both DataFrames the same. They should both contain the same number of unique `order_id`'s."
      ]
    },
    {
      "cell_type": "code",
      "execution_count": 22,
      "metadata": {},
      "outputs": [
        {
          "data": {
            "text/plain": [
              "(46172, 46172)"
            ]
          },
          "execution_count": 22,
          "metadata": {},
          "output_type": "execute_result"
        }
      ],
      "source": [
        "len(list(orders_qu[\"order_id\"].unique())), len(list(orderlines_qu[\"id_order\"].unique()))"
      ]
    },
    {
      "cell_type": "markdown",
      "metadata": {
        "id": "bCLu78B07gN1"
      },
      "source": [
        "## 4.&nbsp; Explore the revenue from different tables"
      ]
    },
    {
      "cell_type": "markdown",
      "metadata": {
        "id": "CrmrCXypbflw"
      },
      "source": [
        "#### Step 1:\n",
        "Create the `unit_price_total` as `orderlines.unit_price` * `orderlines.product_quantity`"
      ]
    },
    {
      "cell_type": "code",
      "execution_count": 23,
      "metadata": {
        "id": "c8MApY6jatlO"
      },
      "outputs": [],
      "source": [
        "# your code here\n",
        "orderlines_qu_copy = orderlines_qu.copy()"
      ]
    },
    {
      "cell_type": "code",
      "execution_count": 24,
      "metadata": {},
      "outputs": [],
      "source": [
        "orderlines_qu_copy[\"unit_price_total\"] = orderlines_qu_copy[\"product_quantity\"] * orderlines_qu_copy[\"unit_price\"]"
      ]
    },
    {
      "cell_type": "markdown",
      "metadata": {
        "id": "gkvMUjymbvSC"
      },
      "source": [
        "#### Step 2: \n",
        "Group by `order_id`, summarising by the sum of `unit_price_total`"
      ]
    },
    {
      "cell_type": "code",
      "execution_count": 25,
      "metadata": {
        "id": "4hasZA5BaH1k"
      },
      "outputs": [],
      "source": [
        "# your code here\n",
        "orderlines_qu_group_order_df = orderlines_qu_copy.groupby(\"id_order\", as_index=False)[\"unit_price_total\"].sum()"
      ]
    },
    {
      "cell_type": "code",
      "execution_count": 26,
      "metadata": {},
      "outputs": [
        {
          "data": {
            "text/plain": [
              "id_order           527112.00\n",
              "unit_price_total    13387.77\n",
              "dtype: float64"
            ]
          },
          "execution_count": 26,
          "metadata": {},
          "output_type": "execute_result"
        }
      ],
      "source": [
        "orderlines_qu_group_order_df.max()"
      ]
    },
    {
      "cell_type": "markdown",
      "metadata": {
        "id": "_d1lwist8F6X"
      },
      "source": [
        "### What is the average difference between `total_paid` and `unit_price_total`?"
      ]
    },
    {
      "cell_type": "code",
      "execution_count": 27,
      "metadata": {
        "id": "5N02JPCMgyBU"
      },
      "outputs": [],
      "source": [
        "# your code here\n",
        "orders_qu_copy = orders_qu.copy()"
      ]
    },
    {
      "cell_type": "markdown",
      "metadata": {},
      "source": [
        "Let's merge our grouped `orderlines` table with the `orders` table, so we can calculate the differences in prices."
      ]
    },
    {
      "cell_type": "code",
      "execution_count": 28,
      "metadata": {},
      "outputs": [],
      "source": [
        "diff_df = orders_qu_copy.merge(orderlines_qu_group_order_df, left_on=\"order_id\", right_on=\"id_order\")"
      ]
    },
    {
      "cell_type": "code",
      "execution_count": 29,
      "metadata": {},
      "outputs": [
        {
          "name": "stdout",
          "output_type": "stream",
          "text": [
            "<class 'pandas.core.frame.DataFrame'>\n",
            "Int64Index: 46172 entries, 0 to 46171\n",
            "Data columns (total 6 columns):\n",
            " #   Column            Non-Null Count  Dtype  \n",
            "---  ------            --------------  -----  \n",
            " 0   order_id          46172 non-null  int64  \n",
            " 1   created_date      46172 non-null  object \n",
            " 2   total_paid        46172 non-null  float64\n",
            " 3   state             46172 non-null  object \n",
            " 4   id_order          46172 non-null  int64  \n",
            " 5   unit_price_total  46172 non-null  float64\n",
            "dtypes: float64(2), int64(2), object(2)\n",
            "memory usage: 2.5+ MB\n"
          ]
        }
      ],
      "source": [
        "diff_df.info()"
      ]
    },
    {
      "cell_type": "code",
      "execution_count": 30,
      "metadata": {},
      "outputs": [
        {
          "data": {
            "text/html": [
              "<div>\n",
              "<style scoped>\n",
              "    .dataframe tbody tr th:only-of-type {\n",
              "        vertical-align: middle;\n",
              "    }\n",
              "\n",
              "    .dataframe tbody tr th {\n",
              "        vertical-align: top;\n",
              "    }\n",
              "\n",
              "    .dataframe thead th {\n",
              "        text-align: right;\n",
              "    }\n",
              "</style>\n",
              "<table border=\"1\" class=\"dataframe\">\n",
              "  <thead>\n",
              "    <tr style=\"text-align: right;\">\n",
              "      <th></th>\n",
              "      <th>order_id</th>\n",
              "      <th>created_date</th>\n",
              "      <th>total_paid</th>\n",
              "      <th>state</th>\n",
              "      <th>id_order</th>\n",
              "      <th>unit_price_total</th>\n",
              "      <th>difference</th>\n",
              "    </tr>\n",
              "  </thead>\n",
              "  <tbody>\n",
              "    <tr>\n",
              "      <th>0</th>\n",
              "      <td>241423</td>\n",
              "      <td>2017-11-06 13:10:02</td>\n",
              "      <td>136.15</td>\n",
              "      <td>Completed</td>\n",
              "      <td>241423</td>\n",
              "      <td>129.16</td>\n",
              "      <td>6.99</td>\n",
              "    </tr>\n",
              "    <tr>\n",
              "      <th>1</th>\n",
              "      <td>242832</td>\n",
              "      <td>2017-12-31 17:40:03</td>\n",
              "      <td>15.76</td>\n",
              "      <td>Completed</td>\n",
              "      <td>242832</td>\n",
              "      <td>10.77</td>\n",
              "      <td>4.99</td>\n",
              "    </tr>\n",
              "    <tr>\n",
              "      <th>2</th>\n",
              "      <td>243330</td>\n",
              "      <td>2017-02-16 10:59:38</td>\n",
              "      <td>84.98</td>\n",
              "      <td>Completed</td>\n",
              "      <td>243330</td>\n",
              "      <td>77.99</td>\n",
              "      <td>6.99</td>\n",
              "    </tr>\n",
              "    <tr>\n",
              "      <th>3</th>\n",
              "      <td>245275</td>\n",
              "      <td>2017-06-28 11:35:37</td>\n",
              "      <td>149.00</td>\n",
              "      <td>Completed</td>\n",
              "      <td>245275</td>\n",
              "      <td>149.00</td>\n",
              "      <td>0.00</td>\n",
              "    </tr>\n",
              "    <tr>\n",
              "      <th>4</th>\n",
              "      <td>245595</td>\n",
              "      <td>2017-01-21 12:52:47</td>\n",
              "      <td>112.97</td>\n",
              "      <td>Completed</td>\n",
              "      <td>245595</td>\n",
              "      <td>105.98</td>\n",
              "      <td>6.99</td>\n",
              "    </tr>\n",
              "  </tbody>\n",
              "</table>\n",
              "</div>"
            ],
            "text/plain": [
              "   order_id         created_date  total_paid      state  id_order  \\\n",
              "0    241423  2017-11-06 13:10:02      136.15  Completed    241423   \n",
              "1    242832  2017-12-31 17:40:03       15.76  Completed    242832   \n",
              "2    243330  2017-02-16 10:59:38       84.98  Completed    243330   \n",
              "3    245275  2017-06-28 11:35:37      149.00  Completed    245275   \n",
              "4    245595  2017-01-21 12:52:47      112.97  Completed    245595   \n",
              "\n",
              "   unit_price_total  difference  \n",
              "0            129.16        6.99  \n",
              "1             10.77        4.99  \n",
              "2             77.99        6.99  \n",
              "3            149.00        0.00  \n",
              "4            105.98        6.99  "
            ]
          },
          "execution_count": 30,
          "metadata": {},
          "output_type": "execute_result"
        }
      ],
      "source": [
        "diff_df[\"difference\"] = diff_df[\"total_paid\"] - diff_df[\"unit_price_total\"]\n",
        "diff_df.head()"
      ]
    },
    {
      "attachments": {},
      "cell_type": "markdown",
      "metadata": {},
      "source": [
        "Now that we know the difference for each order, we can compute the average."
      ]
    },
    {
      "cell_type": "code",
      "execution_count": 31,
      "metadata": {},
      "outputs": [
        {
          "data": {
            "text/plain": [
              "4.25"
            ]
          },
          "execution_count": 31,
          "metadata": {},
          "output_type": "execute_result"
        }
      ],
      "source": [
        "diff_df.difference.mean().round(2)"
      ]
    },
    {
      "cell_type": "markdown",
      "metadata": {
        "id": "UpynvRcO8QBr"
      },
      "source": [
        "### What is the distribution of these differences?"
      ]
    },
    {
      "cell_type": "code",
      "execution_count": 32,
      "metadata": {
        "id": "O4RDNgttJSPD"
      },
      "outputs": [
        {
          "data": {
            "image/png": "[encoded data removed]",
            "text/plain": [
              "<Figure size 864x576 with 1 Axes>"
            ]
          },
          "metadata": {
            "needs_background": "light"
          },
          "output_type": "display_data"
        }
      ],
      "source": [
        "# your code here\n",
        "diff_df.difference.hist(bins= 50, figsize=(12,8));"
      ]
    },
    {
      "attachments": {},
      "cell_type": "markdown",
      "metadata": {},
      "source": [
        "Looking at the spread of the data above, some of the difference must be due to corruption. Let's use `.describe()` to investigate the distribution further."
      ]
    },
    {
      "cell_type": "code",
      "execution_count": 33,
      "metadata": {},
      "outputs": [
        {
          "data": {
            "text/plain": [
              "count   46172.00\n",
              "mean        4.25\n",
              "std        24.83\n",
              "min      -165.00\n",
              "25%         0.00\n",
              "50%         4.99\n",
              "75%         6.99\n",
              "max      3984.99\n",
              "Name: difference, dtype: float64"
            ]
          },
          "execution_count": 33,
          "metadata": {},
          "output_type": "execute_result"
        }
      ],
      "source": [
        "diff_df.difference.describe()"
      ]
    },
    {
      "attachments": {},
      "cell_type": "markdown",
      "metadata": {},
      "source": [
        "We can see from the our quartiles (0.00, 4.99, 6.99) that most of our data fits an expected pattern - free, 4.99, and 6.99 all seem like reasonable prices to assume as postage. However, look at the min and the max values, -165.00 and 3984.99, this can only occur due to corrupted data."
      ]
    },
    {
      "attachments": {},
      "cell_type": "markdown",
      "metadata": {
        "id": "xPos2ipK8VST"
      },
      "source": [
        "### If there are differences that you can’t explain: what should you do with these orders?\n",
        "There's a rule of thumb, that anything: \n",
        "+ lower than the 25% quartile - (1.5 x interquartile range), or \n",
        "+ higher than the 75% quartile + (1.5 x interquartile range) \n",
        "\n",
        "is an outlier. Let's use this rule to try and exclude any corrupted data."
      ]
    },
    {
      "cell_type": "code",
      "execution_count": 34,
      "metadata": {
        "id": "xqeCAJBt8V3T"
      },
      "outputs": [],
      "source": [
        "# your code here\n",
        "# calculate the quartiles\n",
        "Q1 = diff_df[\"difference\"].quantile(0.25)\n",
        "Q3 = diff_df[\"difference\"].quantile(0.75)\n",
        "\n",
        "# calculate the interquartile range\n",
        "IQR = Q3-Q1\n",
        "\n",
        "# filter the DataFrame to include only \"non-outliers\"\n",
        "diff_no_outliers_df = diff_df.loc[(diff_df[\"difference\"] >= (Q1 - 1.5*IQR)) & (diff_df[\"difference\"] <= (Q3 + 1.5*IQR)), :]"
      ]
    },
    {
      "attachments": {},
      "cell_type": "markdown",
      "metadata": {},
      "source": [
        "Let's look at the distribution again to see the effect of removing the outliers."
      ]
    },
    {
      "cell_type": "code",
      "execution_count": 35,
      "metadata": {},
      "outputs": [
        {
          "data": {
            "image/png": "[encoded data removed]",
            "text/plain": [
              "<Figure size 864x576 with 1 Axes>"
            ]
          },
          "metadata": {
            "needs_background": "light"
          },
          "output_type": "display_data"
        }
      ],
      "source": [
        "diff_no_outliers_df.difference.hist(bins= 50, figsize=(12,8));"
      ]
    },
    {
      "attachments": {},
      "cell_type": "markdown",
      "metadata": {},
      "source": [
        "This looks much more like what we would expect: a small difference, but nothing extreme.\n",
        "\n",
        "Now we need to remove these orders with extreme differences from our `orders_lines_merged` DataFrame."
      ]
    },
    {
      "cell_type": "code",
      "execution_count": 36,
      "metadata": {},
      "outputs": [],
      "source": [
        "normal_diff_list = list(diff_no_outliers_df[\"order_id\"])"
      ]
    },
    {
      "cell_type": "code",
      "execution_count": 37,
      "metadata": {},
      "outputs": [],
      "source": [
        "orders_qu = orders_qu.loc[orders_qu[\"order_id\"].isin(normal_diff_list), :]\n",
        "orderlines_qu = orderlines_cl.loc[orderlines_cl[\"id_order\"].isin(normal_diff_list), :]"
      ]
    },
    {
      "cell_type": "code",
      "execution_count": 38,
      "metadata": {},
      "outputs": [
        {
          "data": {
            "text/plain": [
              "(45418, 45418)"
            ]
          },
          "execution_count": 38,
          "metadata": {},
          "output_type": "execute_result"
        }
      ],
      "source": [
        "len(list(orders_qu[\"order_id\"].unique())), len(list(orderlines_qu[\"id_order\"].unique()))"
      ]
    },
    {
      "attachments": {},
      "cell_type": "markdown",
      "metadata": {
        "id": "FWROzNEd8b8d"
      },
      "source": [
        "## 5.&nbsp; Save quality data"
      ]
    },
    {
      "cell_type": "code",
      "execution_count": 39,
      "metadata": {},
      "outputs": [],
      "source": [
        "# path for quality data\n",
        "path_quality_data = \"C:/Users/ruben/local_repos/WBS/Data_Science/Section_3/Data_Cleaning_Storytelling_with_Pandas_and_Matplotlib/data/quality_data/\""
      ]
    },
    {
      "cell_type": "code",
      "execution_count": 40,
      "metadata": {},
      "outputs": [],
      "source": [
        "orders_qu.to_csv(path_quality_data + \"orders_qu.csv\", index=False)"
      ]
    },
    {
      "cell_type": "code",
      "execution_count": 41,
      "metadata": {},
      "outputs": [],
      "source": [
        "orderlines_qu.to_csv(path_quality_data + \"orderlines_qu.csv\", index=False)"
      ]
    }
  ],
  "metadata": {
    "colab": {
      "collapsed_sections": [
        "CP3XvAdtSh-W",
        "MGfHi2emuFvJ",
        "6LDe4vd8wOJS",
        "G6ZM_Jxl4-UE",
        "aSm5aaRLtFLx",
        "GjQD8WPe6h0i",
        "M0NhTKzF6jV4",
        "EKolLICj68Ai",
        "Ihny8AC97HY9",
        "F-rtzwAn7WyS",
        "bCLu78B07gN1",
        "_d1lwist8F6X",
        "UpynvRcO8QBr",
        "NINPK4rB8TSY",
        "xPos2ipK8VST",
        "FWROzNEd8b8d"
      ],
      "provenance": []
    },
    "kernelspec": {
      "display_name": "base",
      "language": "python",
      "name": "python3"
    },
    "language_info": {
      "codemirror_mode": {
        "name": "ipython",
        "version": 3
      },
      "file_extension": ".py",
      "mimetype": "text/x-python",
      "name": "python",
      "nbconvert_exporter": "python",
      "pygments_lexer": "ipython3",
      "version": "3.9.12"
    },
    "vscode": {
      "interpreter": {
        "hash": "704aea7029d59a45433ae3b663f7cccf597e59967cc6a516676256c90bebdeef"
      }
    }
  },
  "nbformat": 4,
  "nbformat_minor": 0
}
